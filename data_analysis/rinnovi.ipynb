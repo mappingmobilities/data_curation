{
 "cells": [
  {
   "cell_type": "code",
   "execution_count": 27,
   "metadata": {},
   "outputs": [],
   "source": [
    "import pandas as pd"
   ]
  },
  {
   "cell_type": "code",
   "execution_count": 28,
   "metadata": {},
   "outputs": [],
   "source": [
    "passaporti = pd.read_csv(\"data/form-1__passports.csv\")"
   ]
  },
  {
   "cell_type": "code",
   "execution_count": 29,
   "metadata": {},
   "outputs": [],
   "source": [
    "rinnovi = pd.read_csv(\"data/branch-1__rinnovi-inserire-un-branch-per-ogni-rinnovo-presente.csv\")"
   ]
  },
  {
   "cell_type": "code",
   "execution_count": 30,
   "metadata": {},
   "outputs": [
    {
     "data": {
      "text/plain": [
       "Index(['ec5_branch_owner_uuid', 'ec5_branch_uuid', 'created_at', 'uploaded_at',\n",
       "       'title', 'data_rinnovo', 'validita_rinnovo', 'nuovi_espatri',\n",
       "       'note_esp_rinnovi'],\n",
       "      dtype='object')"
      ]
     },
     "execution_count": 30,
     "metadata": {},
     "output_type": "execute_result"
    }
   ],
   "source": [
    "rinnovi.columns"
   ]
  },
  {
   "cell_type": "code",
   "execution_count": 31,
   "metadata": {},
   "outputs": [],
   "source": [
    "def splitEspatri(value, idx):\n",
    "    rvalue = \"\"\n",
    "    try:\n",
    "        values = value.split(\", \")\n",
    "        rvalue = values[idx]\n",
    "    except Exception as e:\n",
    "        if (e == \"list index out of range\"):\n",
    "            rvalue = value\n",
    "        pass\n",
    "    return(rvalue.strip())\n"
   ]
  },
  {
   "cell_type": "code",
   "execution_count": 32,
   "metadata": {},
   "outputs": [],
   "source": [
    "max_len = 0\n",
    "for idx, row in rinnovi.iterrows():\n",
    "    try:\n",
    "        values = row['nuovi_espatri'].split(\", \")\n",
    "        c = len(values)\n",
    "        if c > max_len:\n",
    "            max_len = c\n",
    "    except:\n",
    "        pass\n"
   ]
  },
  {
   "cell_type": "code",
   "execution_count": 33,
   "metadata": {},
   "outputs": [
    {
     "data": {
      "text/plain": [
       "6"
      ]
     },
     "execution_count": 33,
     "metadata": {},
     "output_type": "execute_result"
    }
   ],
   "source": [
    "max_len"
   ]
  },
  {
   "cell_type": "code",
   "execution_count": 34,
   "metadata": {},
   "outputs": [],
   "source": [
    "def splitEspatri(value, idx):\n",
    "    rvalue = \"\"\n",
    "    try:\n",
    "        values = value.split(\", \")\n",
    "        rvalue = values[idx]\n",
    "    except Exception as e:\n",
    "        if (e == \"list index out of range\"):\n",
    "            rvalue = value\n",
    "        pass\n",
    "    return(rvalue.strip())\n"
   ]
  },
  {
   "cell_type": "code",
   "execution_count": 35,
   "metadata": {},
   "outputs": [],
   "source": [
    "field = \"espatri_\"\n",
    "for i in range(0, max_len):\n",
    "    rinnovi[field + str(i)] = rinnovi['nuovi_espatri'].apply(\n",
    "        lambda x: splitEspatri(x, i))\n"
   ]
  },
  {
   "cell_type": "code",
   "execution_count": 36,
   "metadata": {},
   "outputs": [],
   "source": [
    "field = \"espatri_\"\n",
    "luoghi = []\n",
    "for i in range(0, max_len):\n",
    "    luoghi.extend(list(rinnovi[field + str(i)].unique()))\n"
   ]
  },
  {
   "cell_type": "code",
   "execution_count": 37,
   "metadata": {},
   "outputs": [],
   "source": [
    "luoghi = set(luoghi)\n"
   ]
  },
  {
   "cell_type": "code",
   "execution_count": 38,
   "metadata": {},
   "outputs": [],
   "source": [
    "rinnovi['africa'] = 0\n",
    "rinnovi['america'] = 0\n",
    "rinnovi['asia'] = 0\n",
    "rinnovi['austria'] = 0\n",
    "rinnovi['austra_ungheria'] = 0\n",
    "rinnovi['bosnia_erzegovina'] = 0\n",
    "rinnovi['europa'] = 0\n",
    "rinnovi['esteri_europa'] = 0\n",
    "rinnovi['francia'] = 0\n",
    "rinnovi['germania'] = 0\n",
    "rinnovi['italia'] = 0\n",
    "rinnovi['svizzera'] = 0\n",
    "rinnovi['turchia'] = 0\n",
    "rinnovi['ungheria'] = 0\n"
   ]
  },
  {
   "cell_type": "code",
   "execution_count": 39,
   "metadata": {},
   "outputs": [],
   "source": [
    "for idx, row in rinnovi.iterrows():\n",
    "    campo = \"espatri_\"\n",
    "    totale = 5\n",
    "    africa = 0\n",
    "    america = 0\n",
    "    asia = 0\n",
    "    austria = 0\n",
    "    austra_ungheria = 0\n",
    "    bosnia_erzegovina = 0\n",
    "    esteri_europa = 0\n",
    "    francia = 0\n",
    "    germania = 0\n",
    "    italia = 0\n",
    "    svizzera = 0\n",
    "    ungheria = 0\n",
    "    turchia = 0\n",
    "    europa = 0\n",
    "    for i in range(totale+1):\n",
    "        v = row[campo + str(i)]\n",
    "        if v.strip() == \"America\":\n",
    "            america += 1\n",
    "        if v.strip() == 'Africa':\n",
    "            africa += 1\n",
    "        if v.strip() == \"Asia\":\n",
    "            asia += 1\n",
    "        if v.strip() == \"Austria\":\n",
    "            austria += 1\n",
    "        if v.strip() == 'Austria-Ungheria':\n",
    "            austra_ungheria += 1\n",
    "        if v.strip() == \"Bosnia-Erzegovina\":\n",
    "            bosnia_erzegovina += 1\n",
    "        if v.strip() == \"Esteri d'Europa\":\n",
    "            esteri_europa += 1\n",
    "        if v.strip() == 'Francia':\n",
    "            francia += 1\n",
    "        if v.strip() == \"Germania\":\n",
    "            germania += 1\n",
    "        if v.strip() == 'Italia':\n",
    "            italia += 1\n",
    "        if v.strip() == \"Svizzera\":\n",
    "            svizzera += 1\n",
    "        if v.strip() == 'Ungheria':\n",
    "            ungheria += 1\n",
    "        if v.strip() == \"Turchia\":\n",
    "            turchia += 1\n",
    "        if v.strip() == \"Europa\":\n",
    "            europa += 1\n",
    "    rinnovi.loc[idx, 'africa'] = africa\n",
    "    rinnovi.loc[idx, 'america'] = america\n",
    "    rinnovi.loc[idx, 'asia'] = asia\n",
    "    rinnovi.loc[idx, 'austria'] = austria\n",
    "    rinnovi.loc[idx, 'austra_ungheria'] = austra_ungheria\n",
    "    rinnovi.loc[idx, 'bosnia_erzegovina'] = bosnia_erzegovina\n",
    "    rinnovi.loc[idx, 'europa'] = europa\n",
    "    rinnovi.loc[idx, 'esteri_europa'] = esteri_europa\n",
    "    rinnovi.loc[idx, 'francia'] = francia\n",
    "    rinnovi.loc[idx, 'germania'] = germania\n",
    "    rinnovi.loc[idx, 'italia'] = italia\n",
    "    rinnovi.loc[idx, 'svizzera'] = svizzera\n",
    "    rinnovi.loc[idx, 'ungheria'] = ungheria\n",
    "    rinnovi.loc[idx, 'turchia'] = turchia\n"
   ]
  },
  {
   "cell_type": "code",
   "execution_count": 40,
   "metadata": {},
   "outputs": [],
   "source": [
    "migrazioni = ['africa', 'america', 'asia', 'austria', 'austra_ungheria',\n",
    "              'bosnia_erzegovina', 'europa', 'esteri_europa', 'francia', 'germania', 'italia', 'svizzera',\n",
    "              'turchia', 'ungheria']\n",
    "anni = []\n",
    "for anno in rinnovi.data_rinnovo.unique():\n",
    "    if (pd.isna(anno)):\n",
    "        continue\n",
    "    else:\n",
    "        anni.append(int(anno))\n"
   ]
  },
  {
   "cell_type": "code",
   "execution_count": 41,
   "metadata": {},
   "outputs": [],
   "source": [
    "del rinnovi['espatri_0']\n",
    "del rinnovi['espatri_1']\n",
    "del rinnovi['espatri_2']\n",
    "del rinnovi['espatri_3']\n",
    "del rinnovi['espatri_4']\n",
    "del rinnovi['espatri_5']\n"
   ]
  },
  {
   "cell_type": "code",
   "execution_count": 42,
   "metadata": {},
   "outputs": [],
   "source": [
    "rinnovi.to_csv(\"rinnovi_csv\")"
   ]
  },
  {
   "cell_type": "code",
   "execution_count": 43,
   "metadata": {},
   "outputs": [],
   "source": [
    "rinnovi_anni = rinnovi[rinnovi.data_rinnovo.isin(anni)]\n"
   ]
  },
  {
   "cell_type": "code",
   "execution_count": 44,
   "metadata": {},
   "outputs": [
    {
     "name": "stderr",
     "output_type": "stream",
     "text": [
      "/tmp/ipykernel_10874/905080808.py:2: SettingWithCopyWarning: \n",
      "A value is trying to be set on a copy of a slice from a DataFrame.\n",
      "Try using .loc[row_indexer,col_indexer] = value instead\n",
      "\n",
      "See the caveats in the documentation: https://pandas.pydata.org/pandas-docs/stable/user_guide/indexing.html#returning-a-view-versus-a-copy\n",
      "  rinnovi_anni['data_rinnovo'] = rinnovi_anni.data_rinnovo.astype(int)\n"
     ]
    }
   ],
   "source": [
    "data = {}\n",
    "rinnovi_anni['data_rinnovo'] = rinnovi_anni.data_rinnovo.astype(int)\n"
   ]
  },
  {
   "cell_type": "code",
   "execution_count": 45,
   "metadata": {},
   "outputs": [
    {
     "data": {
      "text/plain": [
       "1913"
      ]
     },
     "execution_count": 45,
     "metadata": {},
     "output_type": "execute_result"
    }
   ],
   "source": [
    "rinnovi_anni[rinnovi_anni['germania'] == 1].data_rinnovo.max()\n"
   ]
  },
  {
   "cell_type": "code",
   "execution_count": 46,
   "metadata": {},
   "outputs": [],
   "source": [
    "data = {}\n",
    "for migrazione in migrazioni:\n",
    "    migrazione_passaporti = rinnovi[rinnovi[migrazione] == 1]\n",
    "    years = {}\n",
    "    for anno in anni:\n",
    "        anno_migrazione = rinnovi_anni[rinnovi_anni.data_rinnovo == anno]\n",
    "        years[anno] = anno_migrazione[migrazione].sum()\n",
    "    years = sorted(years.items())\n",
    "    data[migrazione] = years\n"
   ]
  },
  {
   "cell_type": "code",
   "execution_count": 49,
   "metadata": {},
   "outputs": [],
   "source": [
    "range_anni = list(range(1878, 1901))\n",
    "datimigrazioni = {}\n",
    "anni = []\n",
    "totale = []\n",
    "destinazione = []\n",
    "for migrazione in migrazioni:\n",
    "    for values in data[migrazione]:\n",
    "        #print(\"['%s', %s, '%s'],\" % (values[0],values[1],migrazione))\n",
    "        if (values[0] in range_anni):\n",
    "            anni.append(values[0])\n",
    "            totale.append(values[1])\n",
    "            destinazione.append(migrazione)\n",
    "            #print(\"['%s', %s, '%s'],\" % (values[0],values[1],migrazione))\n",
    "        else:\n",
    "            if (values[0] <= 1900):\n",
    "                anni.append(0)\n",
    "                totale.append(0)\n",
    "                destinazione.append(migrazione)\n",
    "datimigrazioni = {\n",
    "    'anno': anni,\n",
    "    'totale': totale,\n",
    "    'destinazione':  destinazione\n",
    "}\n",
    "pd.DataFrame(datimigrazioni).to_csv(\n",
    "    \"datimigrazione_rinnovi.csv\", index=False)\n"
   ]
  }
 ],
 "metadata": {
  "kernelspec": {
   "display_name": "Python 3.10.4 64-bit",
   "language": "python",
   "name": "python3"
  },
  "language_info": {
   "codemirror_mode": {
    "name": "ipython",
    "version": 3
   },
   "file_extension": ".py",
   "mimetype": "text/x-python",
   "name": "python",
   "nbconvert_exporter": "python",
   "pygments_lexer": "ipython3",
   "version": "3.10.4"
  },
  "orig_nbformat": 4,
  "vscode": {
   "interpreter": {
    "hash": "31f2aee4e71d21fbe5cf8b01ff0e069b9275f58929596ceb00d14d90e3e16cd6"
   }
  }
 },
 "nbformat": 4,
 "nbformat_minor": 2
}
