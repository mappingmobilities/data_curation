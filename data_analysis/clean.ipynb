{
 "cells": [
  {
   "cell_type": "code",
   "execution_count": 259,
   "metadata": {},
   "outputs": [],
   "source": [
    "import pandas as pd\n",
    "import warnings\n",
    "import numpy as np\n",
    "warnings.filterwarnings(\"ignore\")\n"
   ]
  },
  {
   "cell_type": "code",
   "execution_count": 260,
   "metadata": {},
   "outputs": [],
   "source": [
    "from zipfile import ZipFile\n",
    "file_name = \"data/mapping-mobilities-csv.zip\"\n",
    "with ZipFile(file_name, 'r') as zip:\n",
    "    zip.extractall()"
   ]
  },
  {
   "cell_type": "code",
   "execution_count": 261,
   "metadata": {},
   "outputs": [],
   "source": [
    "passaporti_csv = \"form-1__passports.csv\"\n",
    "rinnovi_csv = \"branch-1__rinnovi-inserire-un-branch-per-ogni-rinnovo-presente.csv\"\n"
   ]
  },
  {
   "cell_type": "code",
   "execution_count": 262,
   "metadata": {},
   "outputs": [],
   "source": [
    "passaporti = pd.read_csv(passaporti_csv, sep=\",\")"
   ]
  },
  {
   "cell_type": "code",
   "execution_count": 263,
   "metadata": {},
   "outputs": [],
   "source": [
    "del passaporti[\"ec5_uuid\"]\n",
    "del passaporti[\"created_at\"]\n",
    "del passaporti[\"uploaded_at\"]\n",
    "del passaporti[\"title\"]"
   ]
  },
  {
   "cell_type": "code",
   "execution_count": 264,
   "metadata": {},
   "outputs": [],
   "source": [
    "passaporti.drop_duplicates(inplace=True)"
   ]
  },
  {
   "cell_type": "code",
   "execution_count": 265,
   "metadata": {},
   "outputs": [],
   "source": [
    "passaporti[\"nome_raw\"] = passaporti[\"nome\"]"
   ]
  },
  {
   "cell_type": "code",
   "execution_count": 266,
   "metadata": {},
   "outputs": [],
   "source": [
    "passaporti.replace(to_replace=[r\"\\\\t|\\\\n|\\\\r\", \"\\t|\\n|\\r\"], value=[\"\",\"\"], regex=True, inplace=True)"
   ]
  },
  {
   "cell_type": "code",
   "execution_count": 267,
   "metadata": {},
   "outputs": [],
   "source": [
    "colonne = list(passaporti.columns)"
   ]
  },
  {
   "cell_type": "code",
   "execution_count": 268,
   "metadata": {},
   "outputs": [],
   "source": [
    "for colonna in colonne:\n",
    "    try:\n",
    "        passaporti[colonna] = passaporti[colonna].str.lstrip()\n",
    "        passaporti[colonna] = passaporti[colonna].str.rstrip()\n",
    "        passaporti[colonna] = passaporti[colonna].str.replace(\")\",\"\")\n",
    "        passaporti[colonna] = passaporti[colonna].str.replace(\"(\", \"\")\n",
    "    except Exception as e:\n",
    "        if e == \"Can only use .str accessor with string values!\": \n",
    "            pass"
   ]
  },
  {
   "cell_type": "code",
   "execution_count": 269,
   "metadata": {},
   "outputs": [],
   "source": [
    "colonne = ['nome_raw',\"luogo_nascita\",'espatri']"
   ]
  },
  {
   "cell_type": "code",
   "execution_count": 270,
   "metadata": {},
   "outputs": [],
   "source": [
    "for colonna in colonne:\n",
    "    try:\n",
    "        passaporti[colonna] = passaporti[colonna].str.title()\n",
    "    except Exception as e:\n",
    "        if e == \"Can only use .str accessor with string values!\":\n",
    "            pass"
   ]
  },
  {
   "cell_type": "code",
   "execution_count": 271,
   "metadata": {},
   "outputs": [],
   "source": [
    "def getsplitfirst(value):\n",
    "    value = value.split(\" \")\n",
    "    return value[0]"
   ]
  },
  {
   "cell_type": "code",
   "execution_count": 272,
   "metadata": {},
   "outputs": [],
   "source": [
    "def getaftersplit(value):\n",
    "    nome = value.split(\" \")\n",
    "    resto = value.replace(nome[0],\"\")\n",
    "    return resto\n"
   ]
  },
  {
   "cell_type": "code",
   "execution_count": 273,
   "metadata": {},
   "outputs": [],
   "source": [
    "passaporti['cognome'] = passaporti['nome_raw'].apply(lambda x:getsplitfirst(x))"
   ]
  },
  {
   "cell_type": "code",
   "execution_count": 274,
   "metadata": {},
   "outputs": [],
   "source": [
    "passaporti['nome'] = passaporti['nome_raw'].apply(lambda x:getaftersplit(x))"
   ]
  },
  {
   "cell_type": "code",
   "execution_count": 275,
   "metadata": {},
   "outputs": [],
   "source": [
    "passaporti['nome'] = passaporti['nome'].str.lstrip()"
   ]
  },
  {
   "cell_type": "code",
   "execution_count": 276,
   "metadata": {},
   "outputs": [],
   "source": [
    "cognomi_doppi = [\n",
    "    \"Eberle\", \"Oss\", \"Bals\", \"De\", \"Fatis\",\n",
    "    \"Mazzurana\", \"Ferrari\", \"Ehmayer\",\n",
    "    \"Pinter\", \"Papot\", \"Negri\", \"Giovanelli\"\n",
    "    \"Porta\", \"Fior\", \"Burati\", \"Terlago\",\n",
    "    \"Badelski\",\n",
    "    \"Sardagna\", \"Francisci\",\n",
    "    \"(Vedova)\"\n",
    "    \"Angeli\", \"Parolin\", \"Bona\", \"Ferrari\"\n",
    "    \"Emer\", \"Bevilaqua\", \"Bombardi\", \"Slop\",\n",
    "    \"Piccola\", 'Bedolski', \"Rovetti\", \"Zoret\",\n",
    "    \"Anderle\", \"Menghin\", \"Slop\", \"Slopp\",\n",
    "    \"Rungg\", \"Bassetti\", \"Fedrigotti\", \"Maffei\",\n",
    "    \"Bassetti\", \"Vescovi\", \"Petri\", \"Riolfatti\",\n",
    "    \"(Schalzer)\", \"Schalzer\", \"Terlago\"\n",
    "]"
   ]
  },
  {
   "cell_type": "code",
   "execution_count": 277,
   "metadata": {},
   "outputs": [],
   "source": [
    "prefissi = [\n",
    "    \"Don\", \"Conte\",\n",
    "    \"V.Va\", \"Vedª\", \"Padre\", \"Conte\", \"Don\",\n",
    "    \"(Vedova)\",\"Vedova\"\n",
    "]\n"
   ]
  },
  {
   "cell_type": "code",
   "execution_count": 278,
   "metadata": {},
   "outputs": [],
   "source": [
    "for index, row in passaporti.iterrows():\n",
    "    if (row['nome'].find(\" \") > -1):\n",
    "        for cognome in cognomi_doppi:\n",
    "            if row['nome'].find(cognome) > -1:\n",
    "                v = row['nome']\n",
    "                v = v.split(' ')\n",
    "                new = row['cognome'] + \" \" +  v[0]\n",
    "                passaporti.loc[index, 'cognome'] = new\n",
    "                passaporti.loc[index, 'nome'] = row['nome'].replace(v[0], \"\").lstrip()\n"
   ]
  },
  {
   "cell_type": "code",
   "execution_count": 279,
   "metadata": {},
   "outputs": [],
   "source": [
    "passaporti['eta_rilascio'] = passaporti['data'] - passaporti['data_nascita']"
   ]
  },
  {
   "cell_type": "code",
   "execution_count": 280,
   "metadata": {},
   "outputs": [],
   "source": [
    "passaporti['mestiere'] = passaporti['mestiere'].str.lower()"
   ]
  },
  {
   "cell_type": "code",
   "execution_count": 281,
   "metadata": {},
   "outputs": [],
   "source": [
    "del passaporti[\"numero_busta\"]"
   ]
  },
  {
   "cell_type": "code",
   "execution_count": 282,
   "metadata": {},
   "outputs": [],
   "source": [
    "luoghi = {\n",
    "    'S. Orsola': \"Sant'Orsola\",\n",
    "    \"Baselga Di Pinè\":  \"Baselga di Pinè\",\n",
    "    \"Ville Di Giovo\": \"Ville di Giovo\",\n",
    "    \"Mezzotedesco\" : \"Mezzocorona\",\n",
    "    \"Matterello\" : \"Mattarello\",\n",
    "    \"Bedollo Pinè\": \"Bedollo\",\n",
    "    \"Miola Di Pinè\": \"Miola\",\n",
    "    \"Baselga Di Vezzano\": \"Baselga di Vezzano\",\n",
    "    \"Baselga Di Pino\":\"Basegla di Pinè\",\n",
    "    \"S. Michele\":\"San Michele\",\n",
    "    \"Vigo Di Pinè\":\"Vigo di Pinè\",\n",
    "    \"S. Rocco\":\"San Rocco\",\n",
    "    \"Fierozzo S. Felice\":\"Fierozzo\",\n",
    "    \"Miola Pinè\": \"Miola\",\n",
    "    \"S.Massenza\":\"Santa Massenza\",\n",
    "    \"Massenza\": \"Santa Massenza\",\n",
    "    \"Bedol\":\"Bedollo\",\n",
    "    \"Palù Di Giovo\":\"Palù di Giovo\",\n",
    "    \"Masi Di Vigo\": \"Masi di Vigo\",\n",
    "    \"Pergine\": \"Pergine Valsugana\"\n",
    "}\n"
   ]
  },
  {
   "cell_type": "code",
   "execution_count": 283,
   "metadata": {},
   "outputs": [],
   "source": [
    "for index, row in passaporti.iterrows():\n",
    "    luogo_nascita = row['luogo_nascita']\n",
    "    for wrong_luogo in luoghi.keys():\n",
    "        if (luogo_nascita == wrong_luogo): \n",
    "            passaporti.loc[index, 'luogo_nascita'] = luoghi[wrong_luogo]\n",
    "            break\n"
   ]
  },
  {
   "cell_type": "code",
   "execution_count": 284,
   "metadata": {},
   "outputs": [
    {
     "data": {
      "text/plain": [
       "(12098, 18)"
      ]
     },
     "execution_count": 284,
     "metadata": {},
     "output_type": "execute_result"
    }
   ],
   "source": [
    "passaporti.shape"
   ]
  },
  {
   "cell_type": "code",
   "execution_count": 285,
   "metadata": {},
   "outputs": [],
   "source": [
    "passaporti.drop_duplicates(inplace=True)\n"
   ]
  },
  {
   "cell_type": "code",
   "execution_count": 286,
   "metadata": {},
   "outputs": [
    {
     "data": {
      "text/plain": [
       "(12039, 18)"
      ]
     },
     "execution_count": 286,
     "metadata": {},
     "output_type": "execute_result"
    }
   ],
   "source": [
    "passaporti.shape\n"
   ]
  }
 ],
 "metadata": {
  "kernelspec": {
   "display_name": "Python 3.10.4 64-bit",
   "language": "python",
   "name": "python3"
  },
  "language_info": {
   "codemirror_mode": {
    "name": "ipython",
    "version": 3
   },
   "file_extension": ".py",
   "mimetype": "text/x-python",
   "name": "python",
   "nbconvert_exporter": "python",
   "pygments_lexer": "ipython3",
   "version": "3.10.4"
  },
  "orig_nbformat": 4,
  "vscode": {
   "interpreter": {
    "hash": "31f2aee4e71d21fbe5cf8b01ff0e069b9275f58929596ceb00d14d90e3e16cd6"
   }
  }
 },
 "nbformat": 4,
 "nbformat_minor": 2
}
