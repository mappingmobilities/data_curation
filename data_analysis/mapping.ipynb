{
 "cells": [
  {
   "cell_type": "code",
   "execution_count": 1,
   "metadata": {},
   "outputs": [],
   "source": [
    "import pandas as pd\n",
    "passaporti_raw = pd.read_csv('data/dati_corretti.csv')\n",
    "mapping_mestieri = pd.read_csv(\"data/mapping_lavori_mestieri.csv\")\n",
    "mapping_espatri = pd.read_csv(\"data/mapping_espatri.csv\")\n",
    "mapping_luoghi = pd.read_csv(\"data/mapping_luoghi.csv\")\n",
    "rinnovi = pd.read_csv(\n",
    "    \"data/branch-1__rinnovi-inserire-un-branch-per-ogni-rinnovo-presente.csv\")\n"
   ]
  },
  {
   "cell_type": "markdown",
   "metadata": {},
   "source": [
    "# Mestieri\n",
    "## funzioni per i mestieri"
   ]
  },
  {
   "cell_type": "code",
   "execution_count": 2,
   "metadata": {},
   "outputs": [],
   "source": [
    "def getLower(value): \n",
    "    value_lower = \"\"\n",
    "    try:\n",
    "        value_lower = value.lower()\n",
    "    except:\n",
    "        pass\n",
    "    return (value_lower)\n"
   ]
  },
  {
   "cell_type": "code",
   "execution_count": 3,
   "metadata": {},
   "outputs": [],
   "source": [
    "def getLavoro(mestiere): \n",
    "    lavoro = \"NO CATEGORIA\"\n",
    "    try:\n",
    "        lavoro =  mapping_mestieri[mapping_mestieri.mestiere ==\n",
    "                     mestiere]['raggruppamento'].values[0]\n",
    "    except:\n",
    "        pass\n",
    "    return (lavoro)\n"
   ]
  },
  {
   "cell_type": "code",
   "execution_count": 4,
   "metadata": {},
   "outputs": [],
   "source": [
    "def getMestiereCorretto(mestiere):\n",
    "    corretto = mestiere\n",
    "    try:\n",
    "        trovato = mapping_mestieri[mapping_mestieri.mestiere ==\n",
    "                                   mestiere]['corretto'].values[0]\n",
    "        if pd.isna(trovato):\n",
    "            corretto = mestiere\n",
    "        else: \n",
    "            corretto = trovato\n",
    "    except:\n",
    "        print(\"caccamo\")\n",
    "        corretto = mestiere\n",
    "    return (corretto)"
   ]
  },
  {
   "cell_type": "code",
   "execution_count": 5,
   "metadata": {},
   "outputs": [],
   "source": [
    "passaporti = passaporti_raw.copy()"
   ]
  },
  {
   "cell_type": "markdown",
   "metadata": {},
   "source": [
    "## raggruppamento mestieri"
   ]
  },
  {
   "cell_type": "code",
   "execution_count": 6,
   "metadata": {},
   "outputs": [],
   "source": [
    "columns = [\"sesso\", \"mestiere\", \"espatri\", \"nome\"]\n",
    "for c in columns:\n",
    "    try:\n",
    "        passaporti[c] = passaporti[c].str.strip()\n",
    "    except Exception:\n",
    "        pass\n",
    "    \n",
    "columns = [\"mestiere\", \"raggruppamento\"]\n",
    "for c in columns:\n",
    "    try:\n",
    "        mapping_mestieri[c] = mapping_mestieri[c].str.strip()\n",
    "    except Exception:\n",
    "        pass\n"
   ]
  },
  {
   "cell_type": "markdown",
   "metadata": {},
   "source": [
    "## incrocio con rinnovi"
   ]
  },
  {
   "cell_type": "code",
   "execution_count": 7,
   "metadata": {},
   "outputs": [],
   "source": [
    "rinnovi.rename(columns={\"ec5_branch_owner_uuid\": \"ec5_uuid\"}, inplace=True)\n"
   ]
  },
  {
   "cell_type": "code",
   "execution_count": 8,
   "metadata": {},
   "outputs": [],
   "source": [
    "rinnovi = rinnovi.drop_duplicates()"
   ]
  },
  {
   "cell_type": "code",
   "execution_count": 9,
   "metadata": {},
   "outputs": [
    {
     "data": {
      "text/plain": [
       "(12585, 20)"
      ]
     },
     "execution_count": 9,
     "metadata": {},
     "output_type": "execute_result"
    }
   ],
   "source": [
    "passaporti.shape"
   ]
  },
  {
   "cell_type": "code",
   "execution_count": 10,
   "metadata": {},
   "outputs": [],
   "source": [
    "passaporti = passaporti.drop_duplicates()"
   ]
  },
  {
   "cell_type": "code",
   "execution_count": 11,
   "metadata": {},
   "outputs": [],
   "source": [
    "passaporti_rinnovati = passaporti[passaporti.rinnovi == 'Sì']"
   ]
  },
  {
   "cell_type": "code",
   "execution_count": 12,
   "metadata": {},
   "outputs": [
    {
     "data": {
      "text/plain": [
       "(4360, 20)"
      ]
     },
     "execution_count": 12,
     "metadata": {},
     "output_type": "execute_result"
    }
   ],
   "source": [
    "passaporti_rinnovati.shape"
   ]
  },
  {
   "cell_type": "code",
   "execution_count": 13,
   "metadata": {},
   "outputs": [],
   "source": [
    "passaporti['rinnovi'] = passaporti.rinnovi.fillna(\"No\")"
   ]
  },
  {
   "cell_type": "code",
   "execution_count": 14,
   "metadata": {},
   "outputs": [],
   "source": [
    "passaporti_no_rinnovi = passaporti_no_rinnovi = [passaporti['rinnovi'] == \"No\"]"
   ]
  },
  {
   "cell_type": "code",
   "execution_count": 15,
   "metadata": {},
   "outputs": [],
   "source": [
    "merge_passa_rinnovi = passaporti_rinnovati.merge(\n",
    "    rinnovi, on=\"ec5_uuid\", how=\"left\")"
   ]
  },
  {
   "cell_type": "code",
   "execution_count": 16,
   "metadata": {},
   "outputs": [
    {
     "data": {
      "text/plain": [
       "(8636, 28)"
      ]
     },
     "execution_count": 16,
     "metadata": {},
     "output_type": "execute_result"
    }
   ],
   "source": [
    "merge_passa_rinnovi.shape\n"
   ]
  },
  {
   "cell_type": "code",
   "execution_count": 17,
   "metadata": {},
   "outputs": [
    {
     "data": {
      "text/html": [
       "<div>\n",
       "<style scoped>\n",
       "    .dataframe tbody tr th:only-of-type {\n",
       "        vertical-align: middle;\n",
       "    }\n",
       "\n",
       "    .dataframe tbody tr th {\n",
       "        vertical-align: top;\n",
       "    }\n",
       "\n",
       "    .dataframe thead th {\n",
       "        text-align: right;\n",
       "    }\n",
       "</style>\n",
       "<table border=\"1\" class=\"dataframe\">\n",
       "  <thead>\n",
       "    <tr style=\"text-align: right;\">\n",
       "      <th></th>\n",
       "      <th>ec5_uuid</th>\n",
       "      <th>created_at_x</th>\n",
       "      <th>uploaded_at_x</th>\n",
       "      <th>title_x</th>\n",
       "      <th>numero_busta</th>\n",
       "      <th>nome</th>\n",
       "      <th>data_nascita</th>\n",
       "      <th>luogo_nascita</th>\n",
       "      <th>sesso</th>\n",
       "      <th>mestiere</th>\n",
       "      <th>...</th>\n",
       "      <th>partial_answers</th>\n",
       "      <th>foto_documento</th>\n",
       "      <th>ec5_branch_uuid</th>\n",
       "      <th>created_at_y</th>\n",
       "      <th>uploaded_at_y</th>\n",
       "      <th>title_y</th>\n",
       "      <th>data_rinnovo</th>\n",
       "      <th>validita_rinnovo</th>\n",
       "      <th>nuovi_espatri</th>\n",
       "      <th>note_esp_rinnovi</th>\n",
       "    </tr>\n",
       "  </thead>\n",
       "  <tbody>\n",
       "    <tr>\n",
       "      <th>0</th>\n",
       "      <td>000d4920-0d9d-11ec-8c1c-4165990940f0</td>\n",
       "      <td>2021-09-04T16:27:30.354Z</td>\n",
       "      <td>2021-09-04T16:31:17.000Z</td>\n",
       "      <td>000d4920-0d9d-11ec-8c1c-4165990940f0</td>\n",
       "      <td>31.0</td>\n",
       "      <td>Dallapiccola Domenico</td>\n",
       "      <td>1869.0</td>\n",
       "      <td>Baselga di Pinè</td>\n",
       "      <td>M</td>\n",
       "      <td>Giornaliero</td>\n",
       "      <td>...</td>\n",
       "      <td>NaN</td>\n",
       "      <td>https://five.epicollect.net/api/media/mapping-...</td>\n",
       "      <td>2301a660-0d9d-11ec-8c1c-4165990940f0</td>\n",
       "      <td>2021-09-04T16:28:28.998Z</td>\n",
       "      <td>2021-09-04T16:31:19.000Z</td>\n",
       "      <td>2301a660-0d9d-11ec-8c1c-4165990940f0</td>\n",
       "      <td>1889.0</td>\n",
       "      <td>1</td>\n",
       "      <td>Austria-Ungheria, Germania</td>\n",
       "      <td>NaN</td>\n",
       "    </tr>\n",
       "    <tr>\n",
       "      <th>1</th>\n",
       "      <td>0012acf0-7aa1-11ec-b26f-9b079aeb29aa</td>\n",
       "      <td>2022-01-21T10:00:45.119Z</td>\n",
       "      <td>2022-01-21T10:02:29.000Z</td>\n",
       "      <td>0012acf0-7aa1-11ec-b26f-9b079aeb29aa</td>\n",
       "      <td>39.0</td>\n",
       "      <td>Gottardi Luigi</td>\n",
       "      <td>1858.0</td>\n",
       "      <td>Vervò</td>\n",
       "      <td>M</td>\n",
       "      <td>giornaliero</td>\n",
       "      <td>...</td>\n",
       "      <td>NaN</td>\n",
       "      <td>NaN</td>\n",
       "      <td>33983860-7aa1-11ec-b26f-9b079aeb29aa</td>\n",
       "      <td>2022-01-21T10:02:11.558Z</td>\n",
       "      <td>2022-01-21T10:02:30.000Z</td>\n",
       "      <td>33983860-7aa1-11ec-b26f-9b079aeb29aa</td>\n",
       "      <td>1895.0</td>\n",
       "      <td>6 mesi</td>\n",
       "      <td>Europa</td>\n",
       "      <td>NaN</td>\n",
       "    </tr>\n",
       "    <tr>\n",
       "      <th>2</th>\n",
       "      <td>0012acf0-7aa1-11ec-b26f-9b079aeb29aa</td>\n",
       "      <td>2022-01-21T10:00:45.119Z</td>\n",
       "      <td>2022-01-21T10:02:29.000Z</td>\n",
       "      <td>0012acf0-7aa1-11ec-b26f-9b079aeb29aa</td>\n",
       "      <td>39.0</td>\n",
       "      <td>Gottardi Luigi</td>\n",
       "      <td>1858.0</td>\n",
       "      <td>Vervò</td>\n",
       "      <td>M</td>\n",
       "      <td>giornaliero</td>\n",
       "      <td>...</td>\n",
       "      <td>NaN</td>\n",
       "      <td>NaN</td>\n",
       "      <td>2a34cef0-7aa1-11ec-b26f-9b079aeb29aa</td>\n",
       "      <td>2022-01-21T10:01:55.807Z</td>\n",
       "      <td>2022-01-21T10:02:30.000Z</td>\n",
       "      <td>2a34cef0-7aa1-11ec-b26f-9b079aeb29aa</td>\n",
       "      <td>1890.0</td>\n",
       "      <td>8 mesi</td>\n",
       "      <td>Austria-Ungheria</td>\n",
       "      <td>NaN</td>\n",
       "    </tr>\n",
       "    <tr>\n",
       "      <th>3</th>\n",
       "      <td>0012acf0-7aa1-11ec-b26f-9b079aeb29aa</td>\n",
       "      <td>2022-01-21T10:00:45.119Z</td>\n",
       "      <td>2022-01-21T10:02:29.000Z</td>\n",
       "      <td>0012acf0-7aa1-11ec-b26f-9b079aeb29aa</td>\n",
       "      <td>39.0</td>\n",
       "      <td>Gottardi Luigi</td>\n",
       "      <td>1858.0</td>\n",
       "      <td>Vervò</td>\n",
       "      <td>M</td>\n",
       "      <td>giornaliero</td>\n",
       "      <td>...</td>\n",
       "      <td>NaN</td>\n",
       "      <td>NaN</td>\n",
       "      <td>21c00b40-7aa1-11ec-b26f-9b079aeb29aa</td>\n",
       "      <td>2022-01-21T10:01:41.620Z</td>\n",
       "      <td>2022-01-21T10:02:31.000Z</td>\n",
       "      <td>21c00b40-7aa1-11ec-b26f-9b079aeb29aa</td>\n",
       "      <td>1889.0</td>\n",
       "      <td>7 mesi</td>\n",
       "      <td>Austria-Ungheria</td>\n",
       "      <td>NaN</td>\n",
       "    </tr>\n",
       "    <tr>\n",
       "      <th>4</th>\n",
       "      <td>0012acf0-7aa1-11ec-b26f-9b079aeb29aa</td>\n",
       "      <td>2022-01-21T10:00:45.119Z</td>\n",
       "      <td>2022-01-21T10:02:29.000Z</td>\n",
       "      <td>0012acf0-7aa1-11ec-b26f-9b079aeb29aa</td>\n",
       "      <td>39.0</td>\n",
       "      <td>Gottardi Luigi</td>\n",
       "      <td>1858.0</td>\n",
       "      <td>Vervò</td>\n",
       "      <td>M</td>\n",
       "      <td>giornaliero</td>\n",
       "      <td>...</td>\n",
       "      <td>NaN</td>\n",
       "      <td>NaN</td>\n",
       "      <td>19d697a0-7aa1-11ec-b26f-9b079aeb29aa</td>\n",
       "      <td>2022-01-21T10:01:28.346Z</td>\n",
       "      <td>2022-01-21T10:02:32.000Z</td>\n",
       "      <td>19d697a0-7aa1-11ec-b26f-9b079aeb29aa</td>\n",
       "      <td>1901.0</td>\n",
       "      <td>3</td>\n",
       "      <td>Europa</td>\n",
       "      <td>NaN</td>\n",
       "    </tr>\n",
       "    <tr>\n",
       "      <th>...</th>\n",
       "      <td>...</td>\n",
       "      <td>...</td>\n",
       "      <td>...</td>\n",
       "      <td>...</td>\n",
       "      <td>...</td>\n",
       "      <td>...</td>\n",
       "      <td>...</td>\n",
       "      <td>...</td>\n",
       "      <td>...</td>\n",
       "      <td>...</td>\n",
       "      <td>...</td>\n",
       "      <td>...</td>\n",
       "      <td>...</td>\n",
       "      <td>...</td>\n",
       "      <td>...</td>\n",
       "      <td>...</td>\n",
       "      <td>...</td>\n",
       "      <td>...</td>\n",
       "      <td>...</td>\n",
       "      <td>...</td>\n",
       "      <td>...</td>\n",
       "    </tr>\n",
       "    <tr>\n",
       "      <th>8631</th>\n",
       "      <td>ff7dd560-a04f-11ec-a57d-ef6a1df2a6db</td>\n",
       "      <td>2022-03-10T08:56:39.094Z</td>\n",
       "      <td>2022-03-10T08:57:44.000Z</td>\n",
       "      <td>ff7dd560-a04f-11ec-a57d-ef6a1df2a6db</td>\n",
       "      <td>45.0</td>\n",
       "      <td>Vincenzi Giacomo</td>\n",
       "      <td>1870.0</td>\n",
       "      <td>Segonzano</td>\n",
       "      <td>M</td>\n",
       "      <td>giornaliero</td>\n",
       "      <td>...</td>\n",
       "      <td>NaN</td>\n",
       "      <td>NaN</td>\n",
       "      <td>1ec975f0-a050-11ec-a57d-ef6a1df2a6db</td>\n",
       "      <td>2022-03-10T08:57:31.599Z</td>\n",
       "      <td>2022-03-10T08:57:44.000Z</td>\n",
       "      <td>1ec975f0-a050-11ec-a57d-ef6a1df2a6db</td>\n",
       "      <td>1895.0</td>\n",
       "      <td>4 mesi</td>\n",
       "      <td>Europa</td>\n",
       "      <td>NaN</td>\n",
       "    </tr>\n",
       "    <tr>\n",
       "      <th>8632</th>\n",
       "      <td>ff7dd560-a04f-11ec-a57d-ef6a1df2a6db</td>\n",
       "      <td>2022-03-10T08:56:39.094Z</td>\n",
       "      <td>2022-03-10T08:57:44.000Z</td>\n",
       "      <td>ff7dd560-a04f-11ec-a57d-ef6a1df2a6db</td>\n",
       "      <td>45.0</td>\n",
       "      <td>Vincenzi Giacomo</td>\n",
       "      <td>1870.0</td>\n",
       "      <td>Segonzano</td>\n",
       "      <td>M</td>\n",
       "      <td>giornaliero</td>\n",
       "      <td>...</td>\n",
       "      <td>NaN</td>\n",
       "      <td>NaN</td>\n",
       "      <td>13ee60a0-a050-11ec-a57d-ef6a1df2a6db</td>\n",
       "      <td>2022-03-10T08:57:13.386Z</td>\n",
       "      <td>2022-03-10T08:57:45.000Z</td>\n",
       "      <td>13ee60a0-a050-11ec-a57d-ef6a1df2a6db</td>\n",
       "      <td>1890.0</td>\n",
       "      <td>1</td>\n",
       "      <td>Europa</td>\n",
       "      <td>NaN</td>\n",
       "    </tr>\n",
       "    <tr>\n",
       "      <th>8633</th>\n",
       "      <td>ffab48c0-77a4-11ec-acd5-37bba7388574</td>\n",
       "      <td>2022-01-17T14:51:48.940Z</td>\n",
       "      <td>2022-01-17T14:54:30.000Z</td>\n",
       "      <td>ffab48c0-77a4-11ec-acd5-37bba7388574</td>\n",
       "      <td>48.0</td>\n",
       "      <td>Fronchetti Anselmo</td>\n",
       "      <td>1844.0</td>\n",
       "      <td>Torra</td>\n",
       "      <td>M</td>\n",
       "      <td>giornaliero</td>\n",
       "      <td>...</td>\n",
       "      <td>NaN</td>\n",
       "      <td>NaN</td>\n",
       "      <td>477100a0-77a5-11ec-acd5-37bba7388574</td>\n",
       "      <td>2022-01-17T14:53:49.354Z</td>\n",
       "      <td>2022-01-17T14:54:31.000Z</td>\n",
       "      <td>477100a0-77a5-11ec-acd5-37bba7388574</td>\n",
       "      <td>1894.0</td>\n",
       "      <td>3</td>\n",
       "      <td>Europa</td>\n",
       "      <td>NaN</td>\n",
       "    </tr>\n",
       "    <tr>\n",
       "      <th>8634</th>\n",
       "      <td>ffe39390-1b9e-11ec-8734-07f8d784ff3d</td>\n",
       "      <td>2021-09-22T12:17:05.353Z</td>\n",
       "      <td>2021-09-22T12:18:55.000Z</td>\n",
       "      <td>ffe39390-1b9e-11ec-8734-07f8d784ff3d</td>\n",
       "      <td>21.0</td>\n",
       "      <td>Nardelli Carlotta</td>\n",
       "      <td>1863.0</td>\n",
       "      <td>Trento</td>\n",
       "      <td>F</td>\n",
       "      <td>serva</td>\n",
       "      <td>...</td>\n",
       "      <td>NaN</td>\n",
       "      <td>NaN</td>\n",
       "      <td>34622500-1b9f-11ec-8734-07f8d784ff3d</td>\n",
       "      <td>2021-09-22T12:18:33.424Z</td>\n",
       "      <td>2021-09-22T12:18:55.000Z</td>\n",
       "      <td>34622500-1b9f-11ec-8734-07f8d784ff3d</td>\n",
       "      <td>1882.0</td>\n",
       "      <td>3</td>\n",
       "      <td>Austria-Ungheria, Italia</td>\n",
       "      <td>NaN</td>\n",
       "    </tr>\n",
       "    <tr>\n",
       "      <th>8635</th>\n",
       "      <td>fff5f260-1243-11ec-8433-2bf25307a516</td>\n",
       "      <td>2021-09-10T14:33:00.806Z</td>\n",
       "      <td>2021-09-10T14:36:21.000Z</td>\n",
       "      <td>fff5f260-1243-11ec-8433-2bf25307a516</td>\n",
       "      <td>31.0</td>\n",
       "      <td>Cristofolini Beniamino</td>\n",
       "      <td>1853.0</td>\n",
       "      <td>Vigolzano</td>\n",
       "      <td>M</td>\n",
       "      <td>Giornaliero</td>\n",
       "      <td>...</td>\n",
       "      <td>NaN</td>\n",
       "      <td>https://five.epicollect.net/api/media/mapping-...</td>\n",
       "      <td>1d40b9e0-1244-11ec-8433-2bf25307a516</td>\n",
       "      <td>2021-09-10T14:33:49.950Z</td>\n",
       "      <td>2021-09-10T14:36:22.000Z</td>\n",
       "      <td>1d40b9e0-1244-11ec-8433-2bf25307a516</td>\n",
       "      <td>1891.0</td>\n",
       "      <td>3</td>\n",
       "      <td>Europa, America</td>\n",
       "      <td>NaN</td>\n",
       "    </tr>\n",
       "  </tbody>\n",
       "</table>\n",
       "<p>8636 rows × 28 columns</p>\n",
       "</div>"
      ],
      "text/plain": [
       "                                  ec5_uuid              created_at_x  \\\n",
       "0     000d4920-0d9d-11ec-8c1c-4165990940f0  2021-09-04T16:27:30.354Z   \n",
       "1     0012acf0-7aa1-11ec-b26f-9b079aeb29aa  2022-01-21T10:00:45.119Z   \n",
       "2     0012acf0-7aa1-11ec-b26f-9b079aeb29aa  2022-01-21T10:00:45.119Z   \n",
       "3     0012acf0-7aa1-11ec-b26f-9b079aeb29aa  2022-01-21T10:00:45.119Z   \n",
       "4     0012acf0-7aa1-11ec-b26f-9b079aeb29aa  2022-01-21T10:00:45.119Z   \n",
       "...                                    ...                       ...   \n",
       "8631  ff7dd560-a04f-11ec-a57d-ef6a1df2a6db  2022-03-10T08:56:39.094Z   \n",
       "8632  ff7dd560-a04f-11ec-a57d-ef6a1df2a6db  2022-03-10T08:56:39.094Z   \n",
       "8633  ffab48c0-77a4-11ec-acd5-37bba7388574  2022-01-17T14:51:48.940Z   \n",
       "8634  ffe39390-1b9e-11ec-8734-07f8d784ff3d  2021-09-22T12:17:05.353Z   \n",
       "8635  fff5f260-1243-11ec-8433-2bf25307a516  2021-09-10T14:33:00.806Z   \n",
       "\n",
       "                 uploaded_at_x                               title_x  \\\n",
       "0     2021-09-04T16:31:17.000Z  000d4920-0d9d-11ec-8c1c-4165990940f0   \n",
       "1     2022-01-21T10:02:29.000Z  0012acf0-7aa1-11ec-b26f-9b079aeb29aa   \n",
       "2     2022-01-21T10:02:29.000Z  0012acf0-7aa1-11ec-b26f-9b079aeb29aa   \n",
       "3     2022-01-21T10:02:29.000Z  0012acf0-7aa1-11ec-b26f-9b079aeb29aa   \n",
       "4     2022-01-21T10:02:29.000Z  0012acf0-7aa1-11ec-b26f-9b079aeb29aa   \n",
       "...                        ...                                   ...   \n",
       "8631  2022-03-10T08:57:44.000Z  ff7dd560-a04f-11ec-a57d-ef6a1df2a6db   \n",
       "8632  2022-03-10T08:57:44.000Z  ff7dd560-a04f-11ec-a57d-ef6a1df2a6db   \n",
       "8633  2022-01-17T14:54:30.000Z  ffab48c0-77a4-11ec-acd5-37bba7388574   \n",
       "8634  2021-09-22T12:18:55.000Z  ffe39390-1b9e-11ec-8734-07f8d784ff3d   \n",
       "8635  2021-09-10T14:36:21.000Z  fff5f260-1243-11ec-8433-2bf25307a516   \n",
       "\n",
       "      numero_busta                    nome  data_nascita    luogo_nascita  \\\n",
       "0             31.0   Dallapiccola Domenico        1869.0  Baselga di Pinè   \n",
       "1             39.0          Gottardi Luigi        1858.0            Vervò   \n",
       "2             39.0          Gottardi Luigi        1858.0            Vervò   \n",
       "3             39.0          Gottardi Luigi        1858.0            Vervò   \n",
       "4             39.0          Gottardi Luigi        1858.0            Vervò   \n",
       "...            ...                     ...           ...              ...   \n",
       "8631          45.0        Vincenzi Giacomo        1870.0        Segonzano   \n",
       "8632          45.0        Vincenzi Giacomo        1870.0        Segonzano   \n",
       "8633          48.0      Fronchetti Anselmo        1844.0            Torra   \n",
       "8634          21.0       Nardelli Carlotta        1863.0           Trento   \n",
       "8635          31.0  Cristofolini Beniamino        1853.0        Vigolzano   \n",
       "\n",
       "     sesso     mestiere  ... partial_answers  \\\n",
       "0        M  Giornaliero  ...             NaN   \n",
       "1        M  giornaliero  ...             NaN   \n",
       "2        M  giornaliero  ...             NaN   \n",
       "3        M  giornaliero  ...             NaN   \n",
       "4        M  giornaliero  ...             NaN   \n",
       "...    ...          ...  ...             ...   \n",
       "8631     M  giornaliero  ...             NaN   \n",
       "8632     M  giornaliero  ...             NaN   \n",
       "8633     M  giornaliero  ...             NaN   \n",
       "8634     F        serva  ...             NaN   \n",
       "8635     M  Giornaliero  ...             NaN   \n",
       "\n",
       "                                         foto_documento  \\\n",
       "0     https://five.epicollect.net/api/media/mapping-...   \n",
       "1                                                   NaN   \n",
       "2                                                   NaN   \n",
       "3                                                   NaN   \n",
       "4                                                   NaN   \n",
       "...                                                 ...   \n",
       "8631                                                NaN   \n",
       "8632                                                NaN   \n",
       "8633                                                NaN   \n",
       "8634                                                NaN   \n",
       "8635  https://five.epicollect.net/api/media/mapping-...   \n",
       "\n",
       "                           ec5_branch_uuid              created_at_y  \\\n",
       "0     2301a660-0d9d-11ec-8c1c-4165990940f0  2021-09-04T16:28:28.998Z   \n",
       "1     33983860-7aa1-11ec-b26f-9b079aeb29aa  2022-01-21T10:02:11.558Z   \n",
       "2     2a34cef0-7aa1-11ec-b26f-9b079aeb29aa  2022-01-21T10:01:55.807Z   \n",
       "3     21c00b40-7aa1-11ec-b26f-9b079aeb29aa  2022-01-21T10:01:41.620Z   \n",
       "4     19d697a0-7aa1-11ec-b26f-9b079aeb29aa  2022-01-21T10:01:28.346Z   \n",
       "...                                    ...                       ...   \n",
       "8631  1ec975f0-a050-11ec-a57d-ef6a1df2a6db  2022-03-10T08:57:31.599Z   \n",
       "8632  13ee60a0-a050-11ec-a57d-ef6a1df2a6db  2022-03-10T08:57:13.386Z   \n",
       "8633  477100a0-77a5-11ec-acd5-37bba7388574  2022-01-17T14:53:49.354Z   \n",
       "8634  34622500-1b9f-11ec-8734-07f8d784ff3d  2021-09-22T12:18:33.424Z   \n",
       "8635  1d40b9e0-1244-11ec-8433-2bf25307a516  2021-09-10T14:33:49.950Z   \n",
       "\n",
       "                 uploaded_at_y                               title_y  \\\n",
       "0     2021-09-04T16:31:19.000Z  2301a660-0d9d-11ec-8c1c-4165990940f0   \n",
       "1     2022-01-21T10:02:30.000Z  33983860-7aa1-11ec-b26f-9b079aeb29aa   \n",
       "2     2022-01-21T10:02:30.000Z  2a34cef0-7aa1-11ec-b26f-9b079aeb29aa   \n",
       "3     2022-01-21T10:02:31.000Z  21c00b40-7aa1-11ec-b26f-9b079aeb29aa   \n",
       "4     2022-01-21T10:02:32.000Z  19d697a0-7aa1-11ec-b26f-9b079aeb29aa   \n",
       "...                        ...                                   ...   \n",
       "8631  2022-03-10T08:57:44.000Z  1ec975f0-a050-11ec-a57d-ef6a1df2a6db   \n",
       "8632  2022-03-10T08:57:45.000Z  13ee60a0-a050-11ec-a57d-ef6a1df2a6db   \n",
       "8633  2022-01-17T14:54:31.000Z  477100a0-77a5-11ec-acd5-37bba7388574   \n",
       "8634  2021-09-22T12:18:55.000Z  34622500-1b9f-11ec-8734-07f8d784ff3d   \n",
       "8635  2021-09-10T14:36:22.000Z  1d40b9e0-1244-11ec-8433-2bf25307a516   \n",
       "\n",
       "      data_rinnovo validita_rinnovo               nuovi_espatri  \\\n",
       "0           1889.0                1  Austria-Ungheria, Germania   \n",
       "1           1895.0           6 mesi                      Europa   \n",
       "2           1890.0           8 mesi            Austria-Ungheria   \n",
       "3           1889.0           7 mesi            Austria-Ungheria   \n",
       "4           1901.0                3                      Europa   \n",
       "...            ...              ...                         ...   \n",
       "8631        1895.0           4 mesi                      Europa   \n",
       "8632        1890.0                1                      Europa   \n",
       "8633        1894.0                3                      Europa   \n",
       "8634        1882.0                3    Austria-Ungheria, Italia   \n",
       "8635        1891.0                3             Europa, America   \n",
       "\n",
       "     note_esp_rinnovi  \n",
       "0                 NaN  \n",
       "1                 NaN  \n",
       "2                 NaN  \n",
       "3                 NaN  \n",
       "4                 NaN  \n",
       "...               ...  \n",
       "8631              NaN  \n",
       "8632              NaN  \n",
       "8633              NaN  \n",
       "8634              NaN  \n",
       "8635              NaN  \n",
       "\n",
       "[8636 rows x 28 columns]"
      ]
     },
     "execution_count": 17,
     "metadata": {},
     "output_type": "execute_result"
    }
   ],
   "source": [
    "merge_passa_rinnovi\n"
   ]
  },
  {
   "cell_type": "markdown",
   "metadata": {},
   "source": [
    "## pulizia campi inutili"
   ]
  },
  {
   "cell_type": "code",
   "execution_count": 18,
   "metadata": {},
   "outputs": [],
   "source": [
    "del passaporti[\"ec5_uuid\"]\n",
    "del passaporti[\"created_at\"]\n",
    "del passaporti[\"uploaded_at\"]\n",
    "del passaporti[\"title\"]\n"
   ]
  },
  {
   "cell_type": "code",
   "execution_count": 19,
   "metadata": {},
   "outputs": [],
   "source": [
    "del merge_passa_rinnovi[\"ec5_uuid\"]\n",
    "del merge_passa_rinnovi[\"created_at_x\"]\n",
    "del merge_passa_rinnovi[\"uploaded_at_x\"]\n",
    "del merge_passa_rinnovi[\"title_x\"]\n",
    "del merge_passa_rinnovi[\"ec5_branch_uuid\"]\n",
    "del merge_passa_rinnovi[\"created_at_y\"]\n",
    "del merge_passa_rinnovi[\"uploaded_at_y\"]\n",
    "del merge_passa_rinnovi[\"title_y\"]\n"
   ]
  },
  {
   "cell_type": "markdown",
   "metadata": {},
   "source": [
    "## mestieri minuscoli"
   ]
  },
  {
   "cell_type": "code",
   "execution_count": 20,
   "metadata": {},
   "outputs": [],
   "source": [
    "passaporti['mestiere'] = passaporti.mestiere.apply(lambda x: getLower(x))\n",
    "merge_passa_rinnovi['mestiere'] = passaporti.mestiere.apply(\n",
    "    lambda x: getLower(x))\n"
   ]
  },
  {
   "cell_type": "code",
   "execution_count": 21,
   "metadata": {},
   "outputs": [],
   "source": [
    "mapping_mestieri['mestiere'] = mapping_mestieri.mestiere.apply(\n",
    "    lambda x: getLower(x))\n"
   ]
  },
  {
   "cell_type": "markdown",
   "metadata": {},
   "source": [
    "## raggruppamento mestieri"
   ]
  },
  {
   "cell_type": "code",
   "execution_count": 22,
   "metadata": {},
   "outputs": [],
   "source": [
    "passaporti['lavoro'] = passaporti['mestiere'].apply(lambda x: getLavoro(x))"
   ]
  },
  {
   "cell_type": "code",
   "execution_count": 23,
   "metadata": {},
   "outputs": [],
   "source": [
    "passaporti['mestiere_corretto'] = passaporti.mestiere.apply(\n",
    "    lambda x: getMestiereCorretto(x))\n"
   ]
  },
  {
   "cell_type": "markdown",
   "metadata": {},
   "source": [
    "# Rimuovi doppioni"
   ]
  },
  {
   "cell_type": "code",
   "execution_count": 24,
   "metadata": {},
   "outputs": [],
   "source": [
    "passaporti.drop_duplicates(inplace=True)"
   ]
  },
  {
   "cell_type": "code",
   "execution_count": 25,
   "metadata": {},
   "outputs": [],
   "source": [
    "merge_passa_rinnovi.drop_duplicates(inplace=True)"
   ]
  },
  {
   "cell_type": "markdown",
   "metadata": {},
   "source": [
    "## pulizia spazi vuoti"
   ]
  },
  {
   "cell_type": "code",
   "execution_count": 26,
   "metadata": {},
   "outputs": [],
   "source": [
    "columns = [\"sesso\",\"mestiere\",\"espatri\",\"nome\"]\n",
    "for c in columns: \n",
    "    try:\n",
    "        passaporti[c] = passaporti[c].str.strip()\n",
    "    except Exception:\n",
    "        pass\n"
   ]
  },
  {
   "cell_type": "code",
   "execution_count": 27,
   "metadata": {},
   "outputs": [],
   "source": [
    "columns = [\"sesso\", \"mestiere\", \"espatri\", \"nome\"]\n",
    "for c in columns:\n",
    "    try:\n",
    "        merge_passa_rinnovi[c] = passaporti[c].str.strip()\n",
    "    except Exception:\n",
    "        pass\n"
   ]
  },
  {
   "cell_type": "markdown",
   "metadata": {},
   "source": [
    "# Pulizia dataset"
   ]
  },
  {
   "cell_type": "code",
   "execution_count": 28,
   "metadata": {},
   "outputs": [],
   "source": [
    "passaporti_completi = passaporti\n",
    "passaporti_rinnovi_completi = merge_passa_rinnovi\n"
   ]
  },
  {
   "cell_type": "code",
   "execution_count": 29,
   "metadata": {},
   "outputs": [],
   "source": [
    "del passaporti_completi[\"partial_answers\"]\n",
    "del passaporti_completi[\"foto_documento\"]\n",
    "del passaporti_completi[\"interpretazione\"]\n",
    "del passaporti_completi[\"note\"]\n",
    "del passaporti_completi['numero_busta']\n",
    "del passaporti_completi[\"mestiere_espatrio\"]\n"
   ]
  },
  {
   "cell_type": "code",
   "execution_count": 30,
   "metadata": {},
   "outputs": [
    {
     "data": {
      "text/plain": [
       "12532"
      ]
     },
     "execution_count": 30,
     "metadata": {},
     "output_type": "execute_result"
    }
   ],
   "source": [
    "passaporti_completi.shape[0]\n"
   ]
  },
  {
   "cell_type": "code",
   "execution_count": 31,
   "metadata": {},
   "outputs": [
    {
     "data": {
      "text/plain": [
       "8612"
      ]
     },
     "execution_count": 31,
     "metadata": {},
     "output_type": "execute_result"
    }
   ],
   "source": [
    "merge_passa_rinnovi.shape[0]"
   ]
  },
  {
   "cell_type": "markdown",
   "metadata": {},
   "source": [
    "ERRORE"
   ]
  },
  {
   "cell_type": "code",
   "execution_count": 32,
   "metadata": {},
   "outputs": [],
   "source": [
    "passaporti_completi_dropna = passaporti_completi.dropna()\n"
   ]
  },
  {
   "cell_type": "code",
   "execution_count": 33,
   "metadata": {},
   "outputs": [
    {
     "data": {
      "text/plain": [
       "10485"
      ]
     },
     "execution_count": 33,
     "metadata": {},
     "output_type": "execute_result"
    }
   ],
   "source": [
    "passaporti_completi_dropna.shape[0]\n"
   ]
  },
  {
   "cell_type": "code",
   "execution_count": 34,
   "metadata": {},
   "outputs": [],
   "source": [
    "passaporti_incompleti = passaporti[passaporti.mestiere.isnull()]\n"
   ]
  },
  {
   "cell_type": "code",
   "execution_count": 35,
   "metadata": {},
   "outputs": [],
   "source": [
    "passaporti_completi_dropna.to_excel(\"passaporti_completi.xlsx\", index=False)\n"
   ]
  },
  {
   "cell_type": "code",
   "execution_count": 36,
   "metadata": {},
   "outputs": [
    {
     "data": {
      "text/plain": [
       "2047"
      ]
     },
     "execution_count": 36,
     "metadata": {},
     "output_type": "execute_result"
    }
   ],
   "source": [
    "passaporti.shape[0]-passaporti_completi_dropna.shape[0]\n"
   ]
  },
  {
   "cell_type": "code",
   "execution_count": 37,
   "metadata": {},
   "outputs": [
    {
     "data": {
      "text/plain": [
       "10485"
      ]
     },
     "execution_count": 37,
     "metadata": {},
     "output_type": "execute_result"
    }
   ],
   "source": [
    "passaporti_completi_dropna.shape[0]\n"
   ]
  },
  {
   "cell_type": "code",
   "execution_count": 38,
   "metadata": {},
   "outputs": [],
   "source": [
    "passaporti_incompleti = passaporti_raw[~passaporti_raw.index.isin(\n",
    "    list(passaporti_completi_dropna.index))]\n"
   ]
  },
  {
   "cell_type": "code",
   "execution_count": 39,
   "metadata": {},
   "outputs": [],
   "source": [
    "del passaporti_incompleti[\"ec5_uuid\"]\n",
    "del passaporti_incompleti[\"created_at\"]\n",
    "del passaporti_incompleti[\"uploaded_at\"]\n",
    "del passaporti_incompleti[\"title\"]\n"
   ]
  },
  {
   "cell_type": "code",
   "execution_count": 40,
   "metadata": {},
   "outputs": [],
   "source": [
    "passaporti_incompleti.to_excel(\"passaporti_incompleti.xlsx\", index=False)\n"
   ]
  },
  {
   "cell_type": "code",
   "execution_count": 41,
   "metadata": {},
   "outputs": [
    {
     "data": {
      "text/plain": [
       "array([], dtype=object)"
      ]
     },
     "execution_count": 41,
     "metadata": {},
     "output_type": "execute_result"
    }
   ],
   "source": [
    "passaporti_completi_dropna[passaporti_completi_dropna['lavoro']\n",
    "                    == 'NO CATEGORIA']['mestiere'].unique()\n"
   ]
  },
  {
   "cell_type": "code",
   "execution_count": 42,
   "metadata": {},
   "outputs": [],
   "source": [
    "max_len = 0\n",
    "for idx, row in passaporti_completi.iterrows():\n",
    "    try: \n",
    "        values = row['espatri'].split(\", \")\n",
    "        c = len(values)\n",
    "        if c > max_len:\n",
    "            max_len = c\n",
    "    except:\n",
    "        pass\n",
    "    "
   ]
  },
  {
   "cell_type": "code",
   "execution_count": 43,
   "metadata": {},
   "outputs": [
    {
     "data": {
      "text/plain": [
       "6"
      ]
     },
     "execution_count": 43,
     "metadata": {},
     "output_type": "execute_result"
    }
   ],
   "source": [
    "max_len"
   ]
  },
  {
   "cell_type": "code",
   "execution_count": 44,
   "metadata": {},
   "outputs": [],
   "source": [
    "def splitEspatri(value,idx):\n",
    "    rvalue = \"\"\n",
    "    try:\n",
    "        values = value.split(\", \")\n",
    "        rvalue = values[idx]\n",
    "    except Exception as e:\n",
    "        if (e == \"list index out of range\"):\n",
    "            rvalue = value\n",
    "        pass\n",
    "    return(rvalue.strip())\n"
   ]
  },
  {
   "cell_type": "code",
   "execution_count": 45,
   "metadata": {},
   "outputs": [],
   "source": [
    "field = \"espatri_\"\n",
    "for i in range(0,max_len):\n",
    "    passaporti_completi[field + str(i)] =  passaporti_completi['espatri'].apply(lambda x: splitEspatri(x,i))\n"
   ]
  },
  {
   "cell_type": "code",
   "execution_count": 46,
   "metadata": {},
   "outputs": [],
   "source": [
    "field = \"espatri_\"\n",
    "luoghi = []\n",
    "for i in range(0, max_len):\n",
    "    luoghi.extend(list(passaporti_completi[field + str(i)].unique()))\n"
   ]
  },
  {
   "cell_type": "code",
   "execution_count": 47,
   "metadata": {},
   "outputs": [],
   "source": [
    "luoghi = set(luoghi)\n"
   ]
  },
  {
   "cell_type": "code",
   "execution_count": 48,
   "metadata": {},
   "outputs": [],
   "source": [
    "def getMigrazione(luogo):\n",
    "    migrazione = \"\"\n",
    "    try:\n",
    "        migrazione = mapping_espatri[mapping_espatri.espatrio ==\n",
    "                                 luogo]['raggruppamento'].values[0]\n",
    "    except:\n",
    "        pass\n",
    "    return (migrazione)"
   ]
  },
  {
   "cell_type": "code",
   "execution_count": 49,
   "metadata": {},
   "outputs": [],
   "source": [
    "field_migrazione = \"migrazione_\"\n",
    "field_espatri = \"espatri_\"\n",
    "for i in range(0,max_len):\n",
    "    passaporti_completi[field_migrazione + str(i)] =  passaporti_completi[field_espatri + str(i)].apply(lambda x: getMigrazione(x))"
   ]
  },
  {
   "cell_type": "code",
   "execution_count": 50,
   "metadata": {},
   "outputs": [],
   "source": [
    "indici_senza_espatrio = passaporti_completi[passaporti_completi['espatri_0'] == \"\"].index.to_list()\n"
   ]
  },
  {
   "cell_type": "code",
   "execution_count": 51,
   "metadata": {},
   "outputs": [],
   "source": [
    "#passaporti_completi.drop(indici_senza_espatrio).shape[0]"
   ]
  },
  {
   "cell_type": "code",
   "execution_count": 52,
   "metadata": {},
   "outputs": [],
   "source": [
    "passaporti_completi['eta'] = passaporti_completi.data - passaporti_completi.data_nascita"
   ]
  },
  {
   "cell_type": "code",
   "execution_count": 53,
   "metadata": {},
   "outputs": [
    {
     "data": {
      "text/plain": [
       "Alta Valsugana                              123\n",
       "Val di Non                                   90\n",
       "Valle dei Laghi                              54\n",
       "Val di Cembra                                40\n",
       "Valle dell'Adige                             38\n",
       "Piana Rotaliana                              29\n",
       "Italia                                       25\n",
       "Val di Sole                                  23\n",
       "Val dei Mocheni                              21\n",
       "Bassa Valsugana                              18\n",
       "Primiero                                     13\n",
       "Alto Adige                                   12\n",
       "Vallagarina                                  10\n",
       "Valli Giudicarie                              6\n",
       "Altopiano della Paganella                     5\n",
       "Alto Garda                                    5\n",
       "Val di Fiemme                                 4\n",
       "Altopiano di Folgaria, Lavarone, Luserna      3\n",
       "Germania                                      3\n",
       "Valle del Chiese                              3\n",
       "Valle di Cembra                               3\n",
       "Val di Fassa                                  3\n",
       "Tirolo del Nord                               2\n",
       "Croazia                                       2\n",
       "America                                       1\n",
       "Carinzia                                      1\n",
       "Svezia                                        1\n",
       "Alta Austria                                  1\n",
       "Valle delĺ'Adige                              1\n",
       "Valle dei Mocheni                             1\n",
       "Salisburghese                                 1\n",
       "Austria                                       1\n",
       "Vienna                                        1\n",
       "Austria-Ugheria                               1\n",
       "Name: raggruppamento, dtype: int64"
      ]
     },
     "execution_count": 53,
     "metadata": {},
     "output_type": "execute_result"
    }
   ],
   "source": [
    "mapping_luoghi.raggruppamento.value_counts()"
   ]
  },
  {
   "cell_type": "code",
   "execution_count": 54,
   "metadata": {},
   "outputs": [
    {
     "data": {
      "text/plain": [
       "'Val di Sole'"
      ]
     },
     "execution_count": 54,
     "metadata": {},
     "output_type": "execute_result"
    }
   ],
   "source": [
    "mapping_luoghi[mapping_luoghi['luogo'] == \"Peio\"].raggruppamento.values[0]\n"
   ]
  },
  {
   "cell_type": "code",
   "execution_count": 55,
   "metadata": {},
   "outputs": [],
   "source": [
    "def getProvenienza(value):\n",
    "    provenienza = \"\"\n",
    "    try:\n",
    "        provenienza = mapping_luoghi[mapping_luoghi['luogo'] == value].raggruppamento.values[0]\n",
    "    except:\n",
    "        pass\n",
    "    return(provenienza)"
   ]
  },
  {
   "cell_type": "code",
   "execution_count": 56,
   "metadata": {},
   "outputs": [],
   "source": [
    "def getLuogoNascitaCorretto(value):\n",
    "    correto = \"\"\n",
    "    try:\n",
    "        correto = mapping_luoghi[mapping_luoghi['luogo']\n",
    "                                     == value]['nome corretto'].values[0]\n",
    "    except:\n",
    "        pass\n",
    "    return(correto)\n"
   ]
  },
  {
   "cell_type": "code",
   "execution_count": 57,
   "metadata": {},
   "outputs": [],
   "source": [
    "passaporti_completi['provenienza'] = passaporti_completi.luogo_nascita.apply(lambda x: getProvenienza(x))\n"
   ]
  },
  {
   "cell_type": "code",
   "execution_count": 58,
   "metadata": {},
   "outputs": [],
   "source": [
    "passaporti_completi['luogo_nascita_corretto'] = passaporti_completi.luogo_nascita.apply(\n",
    "    lambda x: getLuogoNascitaCorretto(x))\n"
   ]
  },
  {
   "cell_type": "code",
   "execution_count": 59,
   "metadata": {},
   "outputs": [],
   "source": [
    "def giorniValidita(validita,anno):\n",
    "    giorni = 0\n",
    "    if pd.isna(validita) == False:\n",
    "        if validita.isnumeric():\n",
    "            giorni = int(validita) * 365\n",
    "        else:\n",
    "            if validita.find(\" \") > -1:\n",
    "                validita = validita.split(\" \")\n",
    "                molteplicitatore = 30\n",
    "                if validita[1] == \"mesi\":\n",
    "                    giorni = int(validita[0]) * molteplicitatore\n",
    "                elif (validita[1] == \"giorni\") or (validita[1] == \"gironi\"):\n",
    "                    giorni = int(validita[0])\n",
    "            else:\n",
    "                if validita != \"possidente\":\n",
    "                    if validita.find(\".\") > -1:\n",
    "                        validita = validita.split(\".\")\n",
    "                    else:\n",
    "                        validita = validita.split(\"/\")\n",
    "                    g = validita[0]\n",
    "                    m = validita[1]\n",
    "                    a = validita[2]\n",
    "                    giorni = int(m) * 30 + int(g) + int(anno) * 365                \n",
    "    return(giorni)"
   ]
  },
  {
   "cell_type": "code",
   "execution_count": 60,
   "metadata": {},
   "outputs": [],
   "source": [
    "passaporti_completi['durata_gg_passaporto'] = 0"
   ]
  },
  {
   "cell_type": "code",
   "execution_count": 61,
   "metadata": {},
   "outputs": [],
   "source": [
    "for idx, row in passaporti_completi.iterrows():\n",
    "    a = row['data']\n",
    "    v = row['validita']\n",
    "    gg = giorniValidita(v,a)\n",
    "    #passaporti_completi[passaporti_completi.index==idx]['durata_gg_passaporto'] = gg\n",
    "    passaporti_completi.loc[idx,'durata_gg_passaporto']  = gg"
   ]
  },
  {
   "cell_type": "code",
   "execution_count": 62,
   "metadata": {},
   "outputs": [],
   "source": [
    "passaporti_completi['migrazione_extra_europa'] = 0\n",
    "passaporti_completi['migrazione_europa'] = 0\n",
    "passaporti_completi['migrazione_interna'] = 0"
   ]
  },
  {
   "cell_type": "code",
   "execution_count": 63,
   "metadata": {},
   "outputs": [],
   "source": [
    "for idx, row in passaporti_completi.iterrows():\n",
    "    campo = \"migrazione_\"\n",
    "    totale = 6\n",
    "    extra_europa = 0 \n",
    "    interna = 0 \n",
    "    europa = 0 \n",
    "    for i in range(totale): \n",
    "        v = row[campo+ str(i)]\n",
    "        if v == \"extra europa\":\n",
    "            extra_europa +=1\n",
    "        if v == 'europa':\n",
    "            europa += 1\n",
    "        if v == \"interna\":\n",
    "            interna += 1\n",
    "    passaporti_completi.loc[idx, 'migrazione_extra_europa'] = extra_europa\n",
    "    passaporti_completi.loc[idx, 'migrazione_europa'] = europa\n",
    "    passaporti_completi.loc[idx, 'migrazione_interna'] = interna\n"
   ]
  },
  {
   "cell_type": "code",
   "execution_count": 64,
   "metadata": {},
   "outputs": [],
   "source": [
    "for idx, row in passaporti_completi.iterrows():\n",
    "    campo = \"migrazione_\"\n",
    "    totale = 6\n",
    "    extra_europa = 0\n",
    "    interna = 0\n",
    "    europa = 0\n",
    "    for i in range(totale):\n",
    "        v = row[campo + str(i)]\n",
    "        if v == \"extra europa\":\n",
    "            extra_europa = 1 #sostituire += se si vuole la somma\n",
    "        if v == 'europa':\n",
    "            europa = 1  # sostituire += se si vuole la somma\n",
    "        if v == \"interna\":\n",
    "            interna = 1  # sostituire += se si vuole la somma\n",
    "    passaporti_completi.loc[idx, 'migrazione_extra_europa'] = extra_europa\n",
    "    passaporti_completi.loc[idx, 'migrazione_europa'] = europa\n",
    "    passaporti_completi.loc[idx, 'migrazione_interna'] = interna\n"
   ]
  },
  {
   "cell_type": "code",
   "execution_count": 65,
   "metadata": {},
   "outputs": [],
   "source": [
    "places = set(list(passaporti_completi.espatri_0.unique())\n",
    "    +list(passaporti_completi.espatri_1.unique())\n",
    "    +list(passaporti_completi.espatri_2.unique())\n",
    "    +list(passaporti_completi.espatri_3.unique())\n",
    "    +list(passaporti_completi.espatri_4.unique())\n",
    "    +list(passaporti_completi.espatri_5.unique()))"
   ]
  },
  {
   "cell_type": "code",
   "execution_count": 66,
   "metadata": {},
   "outputs": [
    {
     "data": {
      "text/plain": [
       "{'',\n",
       " 'Africa',\n",
       " 'America',\n",
       " 'Asia',\n",
       " 'Austria',\n",
       " 'Austria-Ungheria',\n",
       " 'Bosnia-Erzegovina',\n",
       " \"Esteri d'Europa\",\n",
       " 'Europa',\n",
       " 'Francia',\n",
       " 'Germania',\n",
       " 'Italia',\n",
       " 'Svizzera',\n",
       " 'Turchia',\n",
       " 'Ungheria'}"
      ]
     },
     "execution_count": 66,
     "metadata": {},
     "output_type": "execute_result"
    }
   ],
   "source": [
    "places\n"
   ]
  },
  {
   "cell_type": "code",
   "execution_count": 67,
   "metadata": {},
   "outputs": [],
   "source": [
    "passaporti_completi['africa'] = 0\n",
    "passaporti_completi['america'] = 0 \n",
    "passaporti_completi['asia'] = 0\n",
    "passaporti_completi['austria'] = 0 \n",
    "passaporti_completi['austra_ungheria'] = 0\n",
    "passaporti_completi['bosnia_erzegovina'] = 0\n",
    "passaporti_completi['europa'] = 0\n",
    "passaporti_completi['esteri_europa'] = 0 \n",
    "passaporti_completi['francia'] = 0\n",
    "passaporti_completi['germania'] = 0 \n",
    "passaporti_completi['italia'] = 0\n",
    "passaporti_completi['svizzera'] = 0\n",
    "passaporti_completi['turchia'] = 0\n",
    "passaporti_completi['ungheria'] = 0\n"
   ]
  },
  {
   "cell_type": "code",
   "execution_count": 68,
   "metadata": {},
   "outputs": [],
   "source": [
    "for idx, row in passaporti_completi.iterrows():\n",
    "    campo = \"espatri_\"\n",
    "    totale = 5\n",
    "    africa = 0\n",
    "    america = 0\n",
    "    asia = 0\n",
    "    austria = 0\n",
    "    austra_ungheria = 0  \n",
    "    bosnia_erzegovina = 0 \n",
    "    esteri_europa = 0 \n",
    "    francia = 0\n",
    "    germania= 0\n",
    "    italia = 0\n",
    "    svizzera = 0 \n",
    "    ungheria = 0 \n",
    "    turchia = 0\n",
    "    europa = 0\n",
    "    for i in range(totale+1):\n",
    "        v = row[campo + str(i)]\n",
    "        if v.strip() == \"America\":\n",
    "            america += 1\n",
    "        if v.strip() == 'Africa':\n",
    "            africa += 1\n",
    "        if v.strip() == \"Asia\":\n",
    "            asia += 1\n",
    "        if v.strip() == \"Austria\":\n",
    "            austria += 1\n",
    "        if v.strip() == 'Austria-Ungheria':\n",
    "            austra_ungheria += 1\n",
    "        if v.strip() == \"Bosnia-Erzegovina\":\n",
    "            bosnia_erzegovina += 1\n",
    "        if v.strip() == \"Esteri d'Europa\":\n",
    "            esteri_europa += 1\n",
    "        if v.strip() == 'Francia':\n",
    "            francia += 1\n",
    "        if v.strip() == \"Germania\":\n",
    "            germania += 1\n",
    "        if v.strip() == 'Italia':\n",
    "            italia += 1\n",
    "        if v.strip() == \"Svizzera\":\n",
    "            svizzera += 1\n",
    "        if v.strip() == 'Ungheria':\n",
    "            ungheria += 1\n",
    "        if v.strip() == \"Turchia\":\n",
    "            turchia += 1\n",
    "        if v.strip() == \"Europa\":\n",
    "            europa += 1\n",
    "    passaporti_completi.loc[idx,'africa'] = africa\n",
    "    passaporti_completi.loc[idx, 'america'] = america\n",
    "    passaporti_completi.loc[idx, 'asia'] = asia\n",
    "    passaporti_completi.loc[idx, 'austria'] = austria\n",
    "    passaporti_completi.loc[idx, 'austra_ungheria'] = austra_ungheria\n",
    "    passaporti_completi.loc[idx, 'bosnia_erzegovina'] = bosnia_erzegovina\n",
    "    passaporti_completi.loc[idx, 'europa'] = europa\n",
    "    passaporti_completi.loc[idx, 'esteri_europa'] = esteri_europa\n",
    "    passaporti_completi.loc[idx, 'francia'] = francia\n",
    "    passaporti_completi.loc[idx, 'germania'] = germania\n",
    "    passaporti_completi.loc[idx, 'italia'] = italia\n",
    "    passaporti_completi.loc[idx, 'svizzera'] = svizzera\n",
    "    passaporti_completi.loc[idx, 'ungheria'] = ungheria\n",
    "    passaporti_completi.loc[idx, 'turchia'] = turchia\n"
   ]
  },
  {
   "cell_type": "code",
   "execution_count": 69,
   "metadata": {},
   "outputs": [
    {
     "data": {
      "text/plain": [
       "array(['Val di Non', 'Valle dei Laghi', 'Alta Valsugana', 'Val di Cembra',\n",
       "       \"Valle dell'Adige\", 'Piana Rotaliana', 'Val dei Mocheni', '',\n",
       "       'Altopiano della Paganella', 'Alto Garda', 'Bassa Valsugana',\n",
       "       'Val di Fiemme', 'Altopiano di Folgaria, Lavarone, Luserna',\n",
       "       'Germania', nan, 'Val di Sole', 'Alto Adige', 'Vienna',\n",
       "       'Vallagarina', 'Valle dei Mocheni', 'Primiero', 'Valle di Cembra',\n",
       "       'Italia', 'Val di Fassa', 'Valle del Chiese', 'Croazia',\n",
       "       'Carinzia', 'Valli Giudicarie', 'Tirolo del Nord', 'America',\n",
       "       'Austria-Ugheria', 'Austria', 'Alta Austria', 'Salisburghese',\n",
       "       \"Valle delĺ'Adige\", 'Svezia'], dtype=object)"
      ]
     },
     "execution_count": 69,
     "metadata": {},
     "output_type": "execute_result"
    }
   ],
   "source": [
    "passaporti_completi.provenienza.unique()\n"
   ]
  },
  {
   "cell_type": "code",
   "execution_count": 70,
   "metadata": {},
   "outputs": [],
   "source": [
    "def correggiProvenienza(provenienza): \n",
    "    value = provenienza\n",
    "    correggi_provenienza = {\n",
    "        \"Val di Non\": \"Val di Non\",\n",
    "        \"Valle dei Laghi\": \"Valle dei Laghi\",\n",
    "        \"Val di Cembra\": \"Val di Cembra\",\n",
    "        \"Alta Valsugana\": \"Alta Valsugana e Bersntol\",\n",
    "        \"Val dei Mocheni\": \"Alta Valsugana e Bersntol\",\n",
    "        \"Piana Rotaliana\": \"Piana Rotaliana\",\n",
    "        \"Altopiano della Paganella\": \"Altopiano della Paganella\",\n",
    "        \"Alto Garda\": \"Alto Garda e Ledro\",\n",
    "        \"Bassa Valsugana\": \"Valsugana e Tesino\",\n",
    "        \"Val di Fiemme\": \"Val di Fiemme\",\n",
    "        \"Altopiano di Folgaria, Lavarone, Luserna\": \"Altipiani Cimbri\",\n",
    "        \"Germania\": \"Germania\",\n",
    "        \"Val di Sole\": \"Val di Sole\",\n",
    "        \"Alto Adige\": \"Austria\",\n",
    "        \"Vienna\": \"Austria\",\n",
    "        \"Vallagarina\": \"Vallagarina\",\n",
    "        \"Valle dei Mocheni\": \"Alta Valsugana e Bersntol\",\n",
    "        \"Primiero\": \"Primiero\",\n",
    "        \"Valle di Cembra\": \"Valle di Cembra\",\n",
    "        \"Italia\": \"Italia\",\n",
    "        \"Val di Fassa\": \"Val di Fassa\",\n",
    "        \"Valle del Chiese\": \"Giudicarie\",\n",
    "        \"Croazia\": \"Croazia\",\n",
    "        \"Carinzia\": \"Austria\",\n",
    "        \"Valli Giudicarie\": \"Giudicarie\",\n",
    "        \"Tirolo del Nord\": \"Austria\",\n",
    "        \"America\": \"America\",\n",
    "        \"Austria-Ugheria\": \"Austria-Ungheria\",\n",
    "        \"Austria\": \"Austria\",\n",
    "        \"Alta Austria\": \"Austria\",\n",
    "        \"Salisburghese\": \"Austria\",\n",
    "        \"Valle dell'Adige\": \"Valle delĺ'Adige\",\n",
    "        \"Valle delĺ'Adige\": \"Valle delĺ'Adige\",\n",
    "        \"Svezia\": \"Svezia\"\n",
    "    }\n",
    "    if pd.isna(provenienza) == False:\n",
    "        if provenienza != \"\":\n",
    "            value = correggi_provenienza[provenienza]\n",
    "    return(value)"
   ]
  },
  {
   "cell_type": "code",
   "execution_count": 71,
   "metadata": {},
   "outputs": [],
   "source": [
    "passaporti_completi['provenienza']= passaporti_completi['provenienza'].apply(lambda p: correggiProvenienza(p))\n"
   ]
  },
  {
   "cell_type": "code",
   "execution_count": 72,
   "metadata": {},
   "outputs": [],
   "source": [
    "passaporti_completi = passaporti_completi[(\n",
    "    passaporti_completi.data >= 1878) & (passaporti_completi.data <= 1900)]\n"
   ]
  },
  {
   "cell_type": "code",
   "execution_count": 73,
   "metadata": {},
   "outputs": [],
   "source": [
    "passaporti_completi.to_excel(\"passaporti_completi.xlsx\",index=False)"
   ]
  },
  {
   "cell_type": "code",
   "execution_count": 74,
   "metadata": {},
   "outputs": [
    {
     "data": {
      "text/plain": [
       "M    11576\n",
       "F      908\n",
       "Name: sesso, dtype: int64"
      ]
     },
     "execution_count": 74,
     "metadata": {},
     "output_type": "execute_result"
    }
   ],
   "source": [
    "passaporti_completi.sesso.value_counts()"
   ]
  },
  {
   "cell_type": "code",
   "execution_count": 75,
   "metadata": {},
   "outputs": [
    {
     "data": {
      "text/html": [
       "<div>\n",
       "<style scoped>\n",
       "    .dataframe tbody tr th:only-of-type {\n",
       "        vertical-align: middle;\n",
       "    }\n",
       "\n",
       "    .dataframe tbody tr th {\n",
       "        vertical-align: top;\n",
       "    }\n",
       "\n",
       "    .dataframe thead th {\n",
       "        text-align: right;\n",
       "    }\n",
       "</style>\n",
       "<table border=\"1\" class=\"dataframe\">\n",
       "  <thead>\n",
       "    <tr style=\"text-align: right;\">\n",
       "      <th></th>\n",
       "      <th>index</th>\n",
       "      <th>totale</th>\n",
       "    </tr>\n",
       "  </thead>\n",
       "  <tbody>\n",
       "    <tr>\n",
       "      <th>0</th>\n",
       "      <td>20</td>\n",
       "      <td>608</td>\n",
       "    </tr>\n",
       "    <tr>\n",
       "      <th>1</th>\n",
       "      <td>19</td>\n",
       "      <td>551</td>\n",
       "    </tr>\n",
       "    <tr>\n",
       "      <th>2</th>\n",
       "      <td>18</td>\n",
       "      <td>528</td>\n",
       "    </tr>\n",
       "    <tr>\n",
       "      <th>3</th>\n",
       "      <td>21</td>\n",
       "      <td>508</td>\n",
       "    </tr>\n",
       "    <tr>\n",
       "      <th>4</th>\n",
       "      <td>24</td>\n",
       "      <td>497</td>\n",
       "    </tr>\n",
       "    <tr>\n",
       "      <th>...</th>\n",
       "      <td>...</td>\n",
       "      <td>...</td>\n",
       "    </tr>\n",
       "    <tr>\n",
       "      <th>78</th>\n",
       "      <td>86</td>\n",
       "      <td>1</td>\n",
       "    </tr>\n",
       "    <tr>\n",
       "      <th>79</th>\n",
       "      <td>4</td>\n",
       "      <td>1</td>\n",
       "    </tr>\n",
       "    <tr>\n",
       "      <th>80</th>\n",
       "      <td>2</td>\n",
       "      <td>1</td>\n",
       "    </tr>\n",
       "    <tr>\n",
       "      <th>81</th>\n",
       "      <td>1</td>\n",
       "      <td>1</td>\n",
       "    </tr>\n",
       "    <tr>\n",
       "      <th>82</th>\n",
       "      <td>79</td>\n",
       "      <td>1</td>\n",
       "    </tr>\n",
       "  </tbody>\n",
       "</table>\n",
       "<p>83 rows × 2 columns</p>\n",
       "</div>"
      ],
      "text/plain": [
       "    index  totale\n",
       "0      20     608\n",
       "1      19     551\n",
       "2      18     528\n",
       "3      21     508\n",
       "4      24     497\n",
       "..    ...     ...\n",
       "78     86       1\n",
       "79      4       1\n",
       "80      2       1\n",
       "81      1       1\n",
       "82     79       1\n",
       "\n",
       "[83 rows x 2 columns]"
      ]
     },
     "execution_count": 75,
     "metadata": {},
     "output_type": "execute_result"
    }
   ],
   "source": [
    "passaporti_completi[passaporti_completi.eta >= 0]['eta'].astype(\n",
    "    int).value_counts().to_frame().reset_index().rename(columns={'eta':'totale'})"
   ]
  },
  {
   "cell_type": "code",
   "execution_count": 76,
   "metadata": {},
   "outputs": [],
   "source": [
    "passaporti_completi[passaporti_completi.eta >= 0]['eta'].astype(\n",
    "    int).value_counts().to_frame().reset_index().rename(columns={'eta':'totale','index':'eta'}).sort_values(\"eta\").to_csv(\"sequenza_eta.csv\", index=False)"
   ]
  },
  {
   "cell_type": "code",
   "execution_count": 77,
   "metadata": {},
   "outputs": [
    {
     "data": {
      "text/plain": [
       "<AxesSubplot:xlabel='eta'>"
      ]
     },
     "execution_count": 77,
     "metadata": {},
     "output_type": "execute_result"
    },
    {
     "data": {
      "image/png": "[encoded data removed]",
      "text/plain": [
       "<Figure size 432x288 with 1 Axes>"
      ]
     },
     "metadata": {
      "needs_background": "light"
     },
     "output_type": "display_data"
    }
   ],
   "source": [
    "passaporti_completi[passaporti_completi.eta >= 0]['eta'].astype(\n",
    "    int).value_counts().to_frame().reset_index().rename(columns={'eta': 'totale', 'index': 'eta'}).sort_values(\"eta\").plot(\"eta\")"
   ]
  },
  {
   "cell_type": "code",
   "execution_count": 78,
   "metadata": {},
   "outputs": [],
   "source": [
    "donne = passaporti_completi[passaporti_completi['sesso'] == \"F\"]\n",
    "uomini = passaporti_completi[passaporti_completi['sesso'] == \"M\"]\n"
   ]
  },
  {
   "cell_type": "code",
   "execution_count": 79,
   "metadata": {},
   "outputs": [
    {
     "data": {
      "text/plain": [
       "(908, 45)"
      ]
     },
     "execution_count": 79,
     "metadata": {},
     "output_type": "execute_result"
    }
   ],
   "source": [
    "donne.shape"
   ]
  },
  {
   "cell_type": "code",
   "execution_count": 80,
   "metadata": {},
   "outputs": [
    {
     "data": {
      "text/plain": [
       "(11576, 45)"
      ]
     },
     "execution_count": 80,
     "metadata": {},
     "output_type": "execute_result"
    }
   ],
   "source": [
    "uomini.shape\n"
   ]
  },
  {
   "cell_type": "code",
   "execution_count": 81,
   "metadata": {},
   "outputs": [
    {
     "data": {
      "text/plain": [
       "<AxesSubplot:xlabel='eta'>"
      ]
     },
     "execution_count": 81,
     "metadata": {},
     "output_type": "execute_result"
    },
    {
     "data": {
      "image/png": "[encoded data removed]",
      "text/plain": [
       "<Figure size 432x288 with 1 Axes>"
      ]
     },
     "metadata": {
      "needs_background": "light"
     },
     "output_type": "display_data"
    }
   ],
   "source": [
    "donne[donne.eta >= 0]['eta'].astype(\n",
    "    int).value_counts().to_frame().reset_index().rename(columns={'eta':'totale','index':'eta'}).sort_values(\"eta\").plot(\"eta\")"
   ]
  },
  {
   "cell_type": "code",
   "execution_count": 82,
   "metadata": {},
   "outputs": [],
   "source": [
    "donne[donne.eta >= 0]['eta'].astype(\n",
    "    int).value_counts().to_frame().reset_index().rename(columns={'eta':'totale','index':'eta'}).sort_values(\"eta\").to_csv(\"sequenza_eta_donne.csv\", index=False)"
   ]
  },
  {
   "cell_type": "code",
   "execution_count": 83,
   "metadata": {},
   "outputs": [
    {
     "data": {
      "text/plain": [
       "<AxesSubplot:xlabel='eta'>"
      ]
     },
     "execution_count": 83,
     "metadata": {},
     "output_type": "execute_result"
    },
    {
     "data": {
      "image/png": "[encoded data removed]",
      "text/plain": [
       "<Figure size 432x288 with 1 Axes>"
      ]
     },
     "metadata": {
      "needs_background": "light"
     },
     "output_type": "display_data"
    }
   ],
   "source": [
    "uomini[uomini.eta >= 0]['eta'].astype(\n",
    "    int).value_counts().to_frame().reset_index().rename(columns={'eta':'totale','index':'eta'}).sort_values(\"eta\").plot(\"eta\")"
   ]
  },
  {
   "cell_type": "code",
   "execution_count": 84,
   "metadata": {},
   "outputs": [],
   "source": [
    "uomini[uomini.eta >= 0]['eta'].astype(\n",
    "    int).value_counts().to_frame().reset_index().rename(columns={'eta':'totale','index':'eta'}).sort_values(\"eta\").to_csv(\"sequenza_eta_uomini.csv\", index=False)"
   ]
  },
  {
   "cell_type": "code",
   "execution_count": 85,
   "metadata": {},
   "outputs": [],
   "source": [
    "passaporti_completi.provenienza.value_counts().to_frame(\"totale\").reset_index().rename(columns={'luogo':'totale'}).sort_values(\"totale\").to_csv(\"totale_luoghi_nascita.csv\", index=False)"
   ]
  },
  {
   "cell_type": "code",
   "execution_count": 86,
   "metadata": {},
   "outputs": [],
   "source": [
    "eta_uomini = pd.read_csv(\"sequenza_eta_uomini.csv\")\n",
    "eta_donne = pd.read_csv(\"sequenza_eta_donne.csv\")"
   ]
  },
  {
   "cell_type": "code",
   "execution_count": 87,
   "metadata": {},
   "outputs": [],
   "source": [
    "eta_donne_uomini = eta_donne.merge(eta_uomini, left_on='eta', right_on='eta', how='inner')\n"
   ]
  },
  {
   "cell_type": "code",
   "execution_count": 88,
   "metadata": {},
   "outputs": [],
   "source": [
    "eta_donne_uomini['totale'] = eta_donne_uomini.totale_x + eta_donne_uomini.totale_y\n"
   ]
  },
  {
   "cell_type": "code",
   "execution_count": 89,
   "metadata": {},
   "outputs": [],
   "source": [
    "eta_donne_uomini.rename(columns = {'totale_x':'donne','totale_y':'uomini'}, inplace=True)"
   ]
  },
  {
   "cell_type": "code",
   "execution_count": 90,
   "metadata": {},
   "outputs": [],
   "source": [
    "elenco_eta = list(range(eta_donne_uomini.eta.min(),eta_donne_uomini.eta.max()+1))\n"
   ]
  },
  {
   "cell_type": "code",
   "execution_count": 91,
   "metadata": {},
   "outputs": [
    {
     "name": "stderr",
     "output_type": "stream",
     "text": [
      "/tmp/ipykernel_12269/2060035853.py:2: FutureWarning: The frame.append method is deprecated and will be removed from pandas in a future version. Use pandas.concat instead.\n",
      "  eta_donne_uomini = eta_donne_uomini.append({'eta': i}, ignore_index=True)\n",
      "/tmp/ipykernel_12269/2060035853.py:2: FutureWarning: The frame.append method is deprecated and will be removed from pandas in a future version. Use pandas.concat instead.\n",
      "  eta_donne_uomini = eta_donne_uomini.append({'eta': i}, ignore_index=True)\n",
      "/tmp/ipykernel_12269/2060035853.py:2: FutureWarning: The frame.append method is deprecated and will be removed from pandas in a future version. Use pandas.concat instead.\n",
      "  eta_donne_uomini = eta_donne_uomini.append({'eta': i}, ignore_index=True)\n",
      "/tmp/ipykernel_12269/2060035853.py:2: FutureWarning: The frame.append method is deprecated and will be removed from pandas in a future version. Use pandas.concat instead.\n",
      "  eta_donne_uomini = eta_donne_uomini.append({'eta': i}, ignore_index=True)\n",
      "/tmp/ipykernel_12269/2060035853.py:2: FutureWarning: The frame.append method is deprecated and will be removed from pandas in a future version. Use pandas.concat instead.\n",
      "  eta_donne_uomini = eta_donne_uomini.append({'eta': i}, ignore_index=True)\n",
      "/tmp/ipykernel_12269/2060035853.py:2: FutureWarning: The frame.append method is deprecated and will be removed from pandas in a future version. Use pandas.concat instead.\n",
      "  eta_donne_uomini = eta_donne_uomini.append({'eta': i}, ignore_index=True)\n",
      "/tmp/ipykernel_12269/2060035853.py:2: FutureWarning: The frame.append method is deprecated and will be removed from pandas in a future version. Use pandas.concat instead.\n",
      "  eta_donne_uomini = eta_donne_uomini.append({'eta': i}, ignore_index=True)\n",
      "/tmp/ipykernel_12269/2060035853.py:2: FutureWarning: The frame.append method is deprecated and will be removed from pandas in a future version. Use pandas.concat instead.\n",
      "  eta_donne_uomini = eta_donne_uomini.append({'eta': i}, ignore_index=True)\n",
      "/tmp/ipykernel_12269/2060035853.py:2: FutureWarning: The frame.append method is deprecated and will be removed from pandas in a future version. Use pandas.concat instead.\n",
      "  eta_donne_uomini = eta_donne_uomini.append({'eta': i}, ignore_index=True)\n",
      "/tmp/ipykernel_12269/2060035853.py:2: FutureWarning: The frame.append method is deprecated and will be removed from pandas in a future version. Use pandas.concat instead.\n",
      "  eta_donne_uomini = eta_donne_uomini.append({'eta': i}, ignore_index=True)\n",
      "/tmp/ipykernel_12269/2060035853.py:2: FutureWarning: The frame.append method is deprecated and will be removed from pandas in a future version. Use pandas.concat instead.\n",
      "  eta_donne_uomini = eta_donne_uomini.append({'eta': i}, ignore_index=True)\n"
     ]
    }
   ],
   "source": [
    "for i in list(set(elenco_eta) - set(eta_donne_uomini.eta.unique().tolist())):\n",
    "    eta_donne_uomini = eta_donne_uomini.append({'eta': i}, ignore_index=True)\n"
   ]
  },
  {
   "cell_type": "code",
   "execution_count": 92,
   "metadata": {},
   "outputs": [],
   "source": [
    "eta_donne_uomini = eta_donne_uomini.fillna(0)\n"
   ]
  },
  {
   "cell_type": "code",
   "execution_count": 93,
   "metadata": {},
   "outputs": [],
   "source": [
    "eta_donne_uomini = eta_donne_uomini.sort_values('eta')"
   ]
  },
  {
   "cell_type": "code",
   "execution_count": 94,
   "metadata": {},
   "outputs": [
    {
     "name": "stdout",
     "output_type": "stream",
     "text": [
      "['eta', 'totale', 'donne', 'uomini'],\n",
      "[0, 78, 7, 71],\n",
      "[1, 0, 0, 0],\n",
      "[2, 0, 0, 0],\n",
      "[3, 0, 0, 0],\n",
      "[4, 0, 0, 0],\n",
      "[5, 0, 0, 0],\n",
      "[6, 0, 0, 0],\n",
      "[7, 0, 0, 0],\n",
      "[8, 0, 0, 0],\n",
      "[9, 4, 1, 3],\n",
      "[10, 7, 1, 6],\n",
      "[11, 11, 1, 10],\n",
      "[12, 0, 0, 0],\n",
      "[13, 46, 1, 45],\n",
      "[14, 124, 10, 114],\n",
      "[15, 161, 12, 149],\n",
      "[16, 243, 25, 218],\n",
      "[17, 396, 19, 377],\n",
      "[18, 528, 23, 505],\n",
      "[19, 551, 30, 521],\n",
      "[20, 608, 39, 569],\n",
      "[21, 508, 41, 467],\n",
      "[22, 467, 36, 431],\n",
      "[23, 492, 51, 441],\n",
      "[24, 497, 45, 452],\n",
      "[25, 482, 33, 449],\n",
      "[26, 473, 40, 433],\n",
      "[27, 403, 28, 375],\n",
      "[28, 392, 35, 357],\n",
      "[29, 298, 27, 271],\n",
      "[30, 322, 25, 297],\n",
      "[31, 297, 26, 271],\n",
      "[32, 285, 20, 265],\n",
      "[33, 275, 20, 255],\n",
      "[34, 222, 20, 202],\n",
      "[35, 207, 12, 195],\n",
      "[36, 192, 17, 175],\n",
      "[37, 234, 17, 217],\n",
      "[38, 197, 9, 188],\n",
      "[39, 201, 18, 183],\n",
      "[40, 179, 13, 166],\n",
      "[41, 185, 14, 171],\n",
      "[42, 171, 12, 159],\n",
      "[43, 165, 13, 152],\n",
      "[44, 180, 15, 165],\n",
      "[45, 158, 12, 146],\n",
      "[46, 133, 5, 128],\n",
      "[47, 128, 8, 120],\n",
      "[48, 155, 7, 148],\n",
      "[49, 127, 9, 118],\n",
      "[50, 123, 15, 108],\n",
      "[51, 119, 12, 107],\n",
      "[52, 128, 10, 118],\n",
      "[53, 111, 4, 107],\n",
      "[54, 103, 6, 97],\n",
      "[55, 91, 11, 80],\n",
      "[56, 88, 6, 82],\n",
      "[57, 72, 2, 70],\n",
      "[58, 70, 6, 64],\n",
      "[59, 44, 1, 43],\n",
      "[60, 58, 3, 55],\n",
      "[61, 43, 4, 39],\n",
      "[62, 47, 4, 43],\n",
      "[63, 34, 2, 32],\n",
      "[64, 29, 2, 27],\n",
      "[65, 27, 1, 26],\n",
      "[66, 25, 1, 24],\n",
      "[67, 24, 2, 22],\n",
      "[68, 13, 2, 11],\n",
      "[69, 19, 1, 18],\n",
      "[70, 0, 0, 0],\n",
      "[71, 23, 3, 20],\n",
      "[72, 10, 1, 9],\n",
      "[73, 6, 1, 5],\n",
      "[74, 7, 1, 6],\n",
      "[75, 0, 0, 0],\n",
      "[76, 6, 1, 5],\n"
     ]
    }
   ],
   "source": [
    "print(\"['eta', 'totale', 'donne', 'uomini'],\")\n",
    "for idx, row in eta_donne_uomini.iterrows():\n",
    "    print(\"[%s, %s, %s, %s],\" % (int(row.eta), int(row.totale), int(row.donne), int(row.uomini)))"
   ]
  },
  {
   "cell_type": "code",
   "execution_count": 95,
   "metadata": {},
   "outputs": [
    {
     "name": "stdout",
     "output_type": "stream",
     "text": [
      "['eta', 'uomini','donne']\n",
      "[0, 71, 7,\n",
      "[1, 0, 0,\n",
      "[2, 0, 0,\n",
      "[3, 0, 0,\n",
      "[4, 0, 0,\n",
      "[5, 0, 0,\n",
      "[6, 0, 0,\n",
      "[7, 0, 0,\n",
      "[8, 0, 0,\n",
      "[9, 3, 1,\n",
      "[10, 6, 1,\n",
      "[11, 10, 1,\n",
      "[12, 0, 0,\n",
      "[13, 45, 1,\n",
      "[14, 114, 10,\n",
      "[15, 149, 12,\n",
      "[16, 218, 25,\n",
      "[17, 377, 19,\n",
      "[18, 505, 23,\n",
      "[19, 521, 30,\n",
      "[20, 569, 39,\n",
      "[21, 467, 41,\n",
      "[22, 431, 36,\n",
      "[23, 441, 51,\n",
      "[24, 452, 45,\n",
      "[25, 449, 33,\n",
      "[26, 433, 40,\n",
      "[27, 375, 28,\n",
      "[28, 357, 35,\n",
      "[29, 271, 27,\n",
      "[30, 297, 25,\n",
      "[31, 271, 26,\n",
      "[32, 265, 20,\n",
      "[33, 255, 20,\n",
      "[34, 202, 20,\n",
      "[35, 195, 12,\n",
      "[36, 175, 17,\n",
      "[37, 217, 17,\n",
      "[38, 188, 9,\n",
      "[39, 183, 18,\n",
      "[40, 166, 13,\n",
      "[41, 171, 14,\n",
      "[42, 159, 12,\n",
      "[43, 152, 13,\n",
      "[44, 165, 15,\n",
      "[45, 146, 12,\n",
      "[46, 128, 5,\n",
      "[47, 120, 8,\n",
      "[48, 148, 7,\n",
      "[49, 118, 9,\n",
      "[50, 108, 15,\n",
      "[51, 107, 12,\n",
      "[52, 118, 10,\n",
      "[53, 107, 4,\n",
      "[54, 97, 6,\n",
      "[55, 80, 11,\n",
      "[56, 82, 6,\n",
      "[57, 70, 2,\n",
      "[58, 64, 6,\n",
      "[59, 43, 1,\n",
      "[60, 55, 3,\n",
      "[61, 39, 4,\n",
      "[62, 43, 4,\n",
      "[63, 32, 2,\n",
      "[64, 27, 2,\n",
      "[65, 26, 1,\n",
      "[66, 24, 1,\n",
      "[67, 22, 2,\n",
      "[68, 11, 2,\n",
      "[69, 18, 1,\n",
      "[70, 0, 0,\n",
      "[71, 20, 3,\n",
      "[72, 9, 1,\n",
      "[73, 5, 1,\n",
      "[74, 6, 1,\n",
      "[75, 0, 0,\n",
      "[76, 5, 1,\n"
     ]
    }
   ],
   "source": [
    "print(\"['eta', 'uomini','donne']\")\n",
    "for idx, row in eta_donne_uomini.iterrows():\n",
    "    print(\"[%s, %s, %s,\" % (int(row.eta),int(row.uomini), int(row.donne)))\n"
   ]
  },
  {
   "cell_type": "code",
   "execution_count": 96,
   "metadata": {},
   "outputs": [],
   "source": [
    "luoghi = passaporti_completi.provenienza.value_counts().to_frame(\"totale\").reset_index().rename(columns={'luogo':'totale', \"index\":\"luogo\"}).sort_values(\"totale\")"
   ]
  },
  {
   "cell_type": "code",
   "execution_count": 97,
   "metadata": {},
   "outputs": [],
   "source": [
    "comunita_key = [\n",
    "       'Val di Fiemme', 'Giudicarie', 'Altipiani Cimbri', 'Val di Fassa',\n",
    "       'Alto Garda e Ledro', 'Vallagarina', 'Valle di Cembra', \n",
    "       'Val di Sole', 'Primiero', 'Valsugana e Tesino', \n",
    "       'Altopiano della Paganella', 'Piana Rotaliana',\n",
    "       'Valle dei Laghi', 'Val di Non', 'Val di Cembra',\n",
    "       \"Valle delĺ'Adige\", 'Alta Valsugana e Bersntol']\n"
   ]
  },
  {
   "cell_type": "code",
   "execution_count": 98,
   "metadata": {},
   "outputs": [],
   "source": [
    "luoghi = luoghi[luoghi.luogo.isin(comunita_key)]\n"
   ]
  },
  {
   "cell_type": "code",
   "execution_count": 99,
   "metadata": {},
   "outputs": [],
   "source": [
    "def percento(value,totale):\n",
    "    p = (value/totale)*100\n",
    "    p = round(p,2)\n",
    "    return(p)"
   ]
  },
  {
   "cell_type": "code",
   "execution_count": 100,
   "metadata": {},
   "outputs": [],
   "source": [
    "luoghi['percento']= luoghi.totale.apply(lambda x: percento(x,luoghi.totale.sum()))"
   ]
  },
  {
   "cell_type": "code",
   "execution_count": 101,
   "metadata": {},
   "outputs": [],
   "source": [
    "migrazioni = ['africa','america','asia','austria','austra_ungheria',\n",
    "'bosnia_erzegovina','europa','esteri_europa','francia','germania','italia','svizzera',\n",
    "'turchia','ungheria']\n",
    "anni = []\n",
    "for anno in passaporti_completi.data.unique():\n",
    "    if (pd.isna(anno)):\n",
    "        continue\n",
    "    else:\n",
    "        anni.append(int(anno))\n"
   ]
  },
  {
   "cell_type": "code",
   "execution_count": 102,
   "metadata": {},
   "outputs": [],
   "source": [
    "passaporti_anni = passaporti_completi[passaporti_completi.data.isin(anni)]"
   ]
  },
  {
   "cell_type": "code",
   "execution_count": 103,
   "metadata": {},
   "outputs": [],
   "source": [
    "data = {}\n",
    "passaporti_anni['data'] = passaporti_anni.data.astype(int)\n"
   ]
  },
  {
   "cell_type": "code",
   "execution_count": 104,
   "metadata": {},
   "outputs": [
    {
     "data": {
      "text/plain": [
       "1899"
      ]
     },
     "execution_count": 104,
     "metadata": {},
     "output_type": "execute_result"
    }
   ],
   "source": [
    "passaporti_anni[passaporti_anni['germania'] == 1].data.max()\n"
   ]
  },
  {
   "cell_type": "code",
   "execution_count": 105,
   "metadata": {},
   "outputs": [],
   "source": [
    "data = {}\n",
    "for migrazione in migrazioni:\n",
    "    migrazione_passaporti = passaporti_completi[passaporti_completi[migrazione] == 1]\n",
    "    years = {}\n",
    "    for anno in anni: \n",
    "        anno_migrazione = migrazione_passaporti[migrazione_passaporti.data == anno]\n",
    "        years[anno] = anno_migrazione[migrazione].sum()\n",
    "    years = sorted(years.items())\n",
    "    data[migrazione] = years"
   ]
  },
  {
   "cell_type": "code",
   "execution_count": 106,
   "metadata": {},
   "outputs": [],
   "source": [
    "range_anni = list(range(1878, 1901))\n",
    "datimigrazioni = {}\n",
    "anni = [] \n",
    "totale = []\n",
    "destinazione = []\n",
    "for migrazione in migrazioni:\n",
    "    for values in data[migrazione]:\n",
    "        #print(\"['%s', %s, '%s'],\" % (values[0],values[1],migrazione))\n",
    "        if (values[0] in range_anni):\n",
    "            anni.append(values[0])\n",
    "            totale.append(values[1])\n",
    "            destinazione.append(migrazione)\n",
    "            #print(\"['%s', %s, '%s'],\" % (values[0],values[1],migrazione))\n",
    "        else:\n",
    "            anni.append(0)\n",
    "            totale.append(0)\n",
    "            destinazione.append(migrazione)\n",
    "datimigrazioni = {\n",
    "    'anno': anni,\n",
    "    'totale': totale,\n",
    "    'destinazione':  destinazione\n",
    "}\n",
    "pd.DataFrame(datimigrazioni).to_csv(\"datimigrazione_passaporti.csv\", index=False)\n"
   ]
  },
  {
   "cell_type": "code",
   "execution_count": 107,
   "metadata": {},
   "outputs": [],
   "source": [
    "migrazione_passaporti = pd.read_csv(\"datimigrazione_passaporti.csv\")\n",
    "migrazione_rinnovi = pd.read_csv(\"datimigrazione_rinnovi.csv\")\n"
   ]
  },
  {
   "cell_type": "code",
   "execution_count": 108,
   "metadata": {},
   "outputs": [
    {
     "data": {
      "text/html": [
       "<div>\n",
       "<style scoped>\n",
       "    .dataframe tbody tr th:only-of-type {\n",
       "        vertical-align: middle;\n",
       "    }\n",
       "\n",
       "    .dataframe tbody tr th {\n",
       "        vertical-align: top;\n",
       "    }\n",
       "\n",
       "    .dataframe thead th {\n",
       "        text-align: right;\n",
       "    }\n",
       "</style>\n",
       "<table border=\"1\" class=\"dataframe\">\n",
       "  <thead>\n",
       "    <tr style=\"text-align: right;\">\n",
       "      <th></th>\n",
       "      <th>anno</th>\n",
       "      <th>totale</th>\n",
       "      <th>destinazione</th>\n",
       "    </tr>\n",
       "  </thead>\n",
       "  <tbody>\n",
       "    <tr>\n",
       "      <th>0</th>\n",
       "      <td>1878</td>\n",
       "      <td>0</td>\n",
       "      <td>africa</td>\n",
       "    </tr>\n",
       "    <tr>\n",
       "      <th>1</th>\n",
       "      <td>1879</td>\n",
       "      <td>0</td>\n",
       "      <td>africa</td>\n",
       "    </tr>\n",
       "    <tr>\n",
       "      <th>2</th>\n",
       "      <td>1880</td>\n",
       "      <td>0</td>\n",
       "      <td>africa</td>\n",
       "    </tr>\n",
       "    <tr>\n",
       "      <th>3</th>\n",
       "      <td>1881</td>\n",
       "      <td>0</td>\n",
       "      <td>africa</td>\n",
       "    </tr>\n",
       "    <tr>\n",
       "      <th>4</th>\n",
       "      <td>1882</td>\n",
       "      <td>3</td>\n",
       "      <td>africa</td>\n",
       "    </tr>\n",
       "    <tr>\n",
       "      <th>...</th>\n",
       "      <td>...</td>\n",
       "      <td>...</td>\n",
       "      <td>...</td>\n",
       "    </tr>\n",
       "    <tr>\n",
       "      <th>317</th>\n",
       "      <td>1896</td>\n",
       "      <td>0</td>\n",
       "      <td>ungheria</td>\n",
       "    </tr>\n",
       "    <tr>\n",
       "      <th>318</th>\n",
       "      <td>1897</td>\n",
       "      <td>0</td>\n",
       "      <td>ungheria</td>\n",
       "    </tr>\n",
       "    <tr>\n",
       "      <th>319</th>\n",
       "      <td>1898</td>\n",
       "      <td>0</td>\n",
       "      <td>ungheria</td>\n",
       "    </tr>\n",
       "    <tr>\n",
       "      <th>320</th>\n",
       "      <td>1899</td>\n",
       "      <td>0</td>\n",
       "      <td>ungheria</td>\n",
       "    </tr>\n",
       "    <tr>\n",
       "      <th>321</th>\n",
       "      <td>1900</td>\n",
       "      <td>0</td>\n",
       "      <td>ungheria</td>\n",
       "    </tr>\n",
       "  </tbody>\n",
       "</table>\n",
       "<p>322 rows × 3 columns</p>\n",
       "</div>"
      ],
      "text/plain": [
       "     anno  totale destinazione\n",
       "0    1878       0       africa\n",
       "1    1879       0       africa\n",
       "2    1880       0       africa\n",
       "3    1881       0       africa\n",
       "4    1882       3       africa\n",
       "..    ...     ...          ...\n",
       "317  1896       0     ungheria\n",
       "318  1897       0     ungheria\n",
       "319  1898       0     ungheria\n",
       "320  1899       0     ungheria\n",
       "321  1900       0     ungheria\n",
       "\n",
       "[322 rows x 3 columns]"
      ]
     },
     "execution_count": 108,
     "metadata": {},
     "output_type": "execute_result"
    }
   ],
   "source": [
    "migrazione_passaporti\n"
   ]
  },
  {
   "cell_type": "code",
   "execution_count": 109,
   "metadata": {},
   "outputs": [],
   "source": [
    "for idx, row in migrazione_passaporti.iterrows():\n",
    "    migrazione_passaporti.loc[idx,'totale'] = migrazione_passaporti.loc[idx,'totale'] + migrazione_rinnovi.loc[idx,'totale']"
   ]
  },
  {
   "cell_type": "code",
   "execution_count": 110,
   "metadata": {},
   "outputs": [
    {
     "name": "stdout",
     "output_type": "stream",
     "text": [
      "['1878', 0, 'africa'],\n",
      "['1879', 0, 'africa'],\n",
      "['1880', 0, 'africa'],\n",
      "['1881', 0, 'africa'],\n",
      "['1882', 3, 'africa'],\n",
      "['1883', 0, 'africa'],\n",
      "['1884', 0, 'africa'],\n",
      "['1885', 0, 'africa'],\n",
      "['1886', 0, 'africa'],\n",
      "['1887', 0, 'africa'],\n",
      "['1888', 0, 'africa'],\n",
      "['1889', 7, 'africa'],\n",
      "['1890', 0, 'africa'],\n",
      "['1891', 3, 'africa'],\n",
      "['1892', 1, 'africa'],\n",
      "['1893', 1, 'africa'],\n",
      "['1894', 2, 'africa'],\n",
      "['1895', 1, 'africa'],\n",
      "['1896', 0, 'africa'],\n",
      "['1897', 0, 'africa'],\n",
      "['1898', 2, 'africa'],\n",
      "['1899', 1, 'africa'],\n",
      "['1900', 0, 'africa'],\n",
      "['1878', 2, 'america'],\n",
      "['1879', 10, 'america'],\n",
      "['1880', 10, 'america'],\n",
      "['1881', 12, 'america'],\n",
      "['1882', 54, 'america'],\n",
      "['1883', 19, 'america'],\n",
      "['1884', 3, 'america'],\n",
      "['1885', 9, 'america'],\n",
      "['1886', 13, 'america'],\n",
      "['1887', 11, 'america'],\n",
      "['1888', 62, 'america'],\n",
      "['1889', 270, 'america'],\n",
      "['1890', 193, 'america'],\n",
      "['1891', 172, 'america'],\n",
      "['1892', 32, 'america'],\n",
      "['1893', 31, 'america'],\n",
      "['1894', 21, 'america'],\n",
      "['1895', 41, 'america'],\n",
      "['1896', 25, 'america'],\n",
      "['1897', 20, 'america'],\n",
      "['1898', 11, 'america'],\n",
      "['1899', 15, 'america'],\n",
      "['1900', 9, 'america'],\n",
      "['1878', 0, 'asia'],\n",
      "['1879', 1, 'asia'],\n",
      "['1880', 1, 'asia'],\n",
      "['1881', 1, 'asia'],\n",
      "['1882', 2, 'asia'],\n",
      "['1883', 0, 'asia'],\n",
      "['1884', 1, 'asia'],\n",
      "['1885', 1, 'asia'],\n",
      "['1886', 1, 'asia'],\n",
      "['1887', 0, 'asia'],\n",
      "['1888', 0, 'asia'],\n",
      "['1889', 9, 'asia'],\n",
      "['1890', 2, 'asia'],\n",
      "['1891', 2, 'asia'],\n",
      "['1892', 1, 'asia'],\n",
      "['1893', 0, 'asia'],\n",
      "['1894', 2, 'asia'],\n",
      "['1895', 2, 'asia'],\n",
      "['1896', 1, 'asia'],\n",
      "['1897', 0, 'asia'],\n",
      "['1898', 2, 'asia'],\n",
      "['1899', 1, 'asia'],\n",
      "['1900', 1, 'asia'],\n",
      "['1878', 9, 'austria'],\n",
      "['1879', 4, 'austria'],\n",
      "['1880', 8, 'austria'],\n",
      "['1881', 6, 'austria'],\n",
      "['1882', 460, 'austria'],\n",
      "['1883', 103, 'austria'],\n",
      "['1884', 38, 'austria'],\n",
      "['1885', 17, 'austria'],\n",
      "['1886', 12, 'austria'],\n",
      "['1887', 18, 'austria'],\n",
      "['1888', 43, 'austria'],\n",
      "['1889', 377, 'austria'],\n",
      "['1890', 397, 'austria'],\n",
      "['1891', 911, 'austria'],\n",
      "['1892', 179, 'austria'],\n",
      "['1893', 258, 'austria'],\n",
      "['1894', 232, 'austria'],\n",
      "['1895', 233, 'austria'],\n",
      "['1896', 101, 'austria'],\n",
      "['1897', 71, 'austria'],\n",
      "['1898', 56, 'austria'],\n",
      "['1899', 52, 'austria'],\n",
      "['1900', 26, 'austria'],\n",
      "['1878', 202, 'austra_ungheria'],\n",
      "['1879', 170, 'austra_ungheria'],\n",
      "['1880', 199, 'austra_ungheria'],\n",
      "['1881', 192, 'austra_ungheria'],\n",
      "['1882', 622, 'austra_ungheria'],\n",
      "['1883', 243, 'austra_ungheria'],\n",
      "['1884', 65, 'austra_ungheria'],\n",
      "['1885', 58, 'austra_ungheria'],\n",
      "['1886', 54, 'austra_ungheria'],\n",
      "['1887', 30, 'austra_ungheria'],\n",
      "['1888', 269, 'austra_ungheria'],\n",
      "['1889', 1187, 'austra_ungheria'],\n",
      "['1890', 889, 'austra_ungheria'],\n",
      "['1891', 794, 'austra_ungheria'],\n",
      "['1892', 376, 'austra_ungheria'],\n",
      "['1893', 306, 'austra_ungheria'],\n",
      "['1894', 216, 'austra_ungheria'],\n",
      "['1895', 194, 'austra_ungheria'],\n",
      "['1896', 328, 'austra_ungheria'],\n",
      "['1897', 316, 'austra_ungheria'],\n",
      "['1898', 252, 'austra_ungheria'],\n",
      "['1899', 227, 'austra_ungheria'],\n",
      "['1900', 193, 'austra_ungheria'],\n",
      "['1878', 61, 'bosnia_erzegovina'],\n",
      "['1879', 13, 'bosnia_erzegovina'],\n",
      "['1880', 5, 'bosnia_erzegovina'],\n",
      "['1881', 2, 'bosnia_erzegovina'],\n",
      "['1882', 18, 'bosnia_erzegovina'],\n",
      "['1883', 21, 'bosnia_erzegovina'],\n",
      "['1884', 1, 'bosnia_erzegovina'],\n",
      "['1885', 1, 'bosnia_erzegovina'],\n",
      "['1886', 0, 'bosnia_erzegovina'],\n",
      "['1887', 0, 'bosnia_erzegovina'],\n",
      "['1888', 3, 'bosnia_erzegovina'],\n",
      "['1889', 12, 'bosnia_erzegovina'],\n",
      "['1890', 4, 'bosnia_erzegovina'],\n",
      "['1891', 4, 'bosnia_erzegovina'],\n",
      "['1892', 4, 'bosnia_erzegovina'],\n",
      "['1893', 2, 'bosnia_erzegovina'],\n",
      "['1894', 0, 'bosnia_erzegovina'],\n",
      "['1895', 0, 'bosnia_erzegovina'],\n",
      "['1896', 1, 'bosnia_erzegovina'],\n",
      "['1897', 0, 'bosnia_erzegovina'],\n",
      "['1898', 3, 'bosnia_erzegovina'],\n",
      "['1899', 0, 'bosnia_erzegovina'],\n",
      "['1900', 0, 'bosnia_erzegovina'],\n",
      "['1878', 28, 'europa'],\n",
      "['1879', 24, 'europa'],\n",
      "['1880', 34, 'europa'],\n",
      "['1881', 35, 'europa'],\n",
      "['1882', 52, 'europa'],\n",
      "['1883', 50, 'europa'],\n",
      "['1884', 41, 'europa'],\n",
      "['1885', 39, 'europa'],\n",
      "['1886', 41, 'europa'],\n",
      "['1887', 86, 'europa'],\n",
      "['1888', 598, 'europa'],\n",
      "['1889', 1358, 'europa'],\n",
      "['1890', 1244, 'europa'],\n",
      "['1891', 548, 'europa'],\n",
      "['1892', 221, 'europa'],\n",
      "['1893', 215, 'europa'],\n",
      "['1894', 214, 'europa'],\n",
      "['1895', 306, 'europa'],\n",
      "['1896', 243, 'europa'],\n",
      "['1897', 193, 'europa'],\n",
      "['1898', 159, 'europa'],\n",
      "['1899', 172, 'europa'],\n",
      "['1900', 155, 'europa'],\n",
      "['1878', 5, 'esteri_europa'],\n",
      "['1879', 2, 'esteri_europa'],\n",
      "['1880', 13, 'esteri_europa'],\n",
      "['1881', 38, 'esteri_europa'],\n",
      "['1882', 20, 'esteri_europa'],\n",
      "['1883', 12, 'esteri_europa'],\n",
      "['1884', 5, 'esteri_europa'],\n",
      "['1885', 2, 'esteri_europa'],\n",
      "['1886', 0, 'esteri_europa'],\n",
      "['1887', 8, 'esteri_europa'],\n",
      "['1888', 10, 'esteri_europa'],\n",
      "['1889', 175, 'esteri_europa'],\n",
      "['1890', 15, 'esteri_europa'],\n",
      "['1891', 13, 'esteri_europa'],\n",
      "['1892', 13, 'esteri_europa'],\n",
      "['1893', 1, 'esteri_europa'],\n",
      "['1894', 1, 'esteri_europa'],\n",
      "['1895', 2, 'esteri_europa'],\n",
      "['1896', 1, 'esteri_europa'],\n",
      "['1897', 0, 'esteri_europa'],\n",
      "['1898', 1, 'esteri_europa'],\n",
      "['1899', 0, 'esteri_europa'],\n",
      "['1900', 0, 'esteri_europa'],\n",
      "['1878', 10, 'francia'],\n",
      "['1879', 8, 'francia'],\n",
      "['1880', 7, 'francia'],\n",
      "['1881', 8, 'francia'],\n",
      "['1882', 299, 'francia'],\n",
      "['1883', 142, 'francia'],\n",
      "['1884', 8, 'francia'],\n",
      "['1885', 0, 'francia'],\n",
      "['1886', 2, 'francia'],\n",
      "['1887', 2, 'francia'],\n",
      "['1888', 52, 'francia'],\n",
      "['1889', 109, 'francia'],\n",
      "['1890', 50, 'francia'],\n",
      "['1891', 73, 'francia'],\n",
      "['1892', 16, 'francia'],\n",
      "['1893', 54, 'francia'],\n",
      "['1894', 12, 'francia'],\n",
      "['1895', 4, 'francia'],\n",
      "['1896', 4, 'francia'],\n",
      "['1897', 2, 'francia'],\n",
      "['1898', 1, 'francia'],\n",
      "['1899', 1, 'francia'],\n",
      "['1900', 1, 'francia'],\n",
      "['1878', 78, 'germania'],\n",
      "['1879', 71, 'germania'],\n",
      "['1880', 67, 'germania'],\n",
      "['1881', 60, 'germania'],\n",
      "['1882', 768, 'germania'],\n",
      "['1883', 202, 'germania'],\n",
      "['1884', 20, 'germania'],\n",
      "['1885', 15, 'germania'],\n",
      "['1886', 19, 'germania'],\n",
      "['1887', 10, 'germania'],\n",
      "['1888', 173, 'germania'],\n",
      "['1889', 853, 'germania'],\n",
      "['1890', 417, 'germania'],\n",
      "['1891', 865, 'germania'],\n",
      "['1892', 342, 'germania'],\n",
      "['1893', 289, 'germania'],\n",
      "['1894', 163, 'germania'],\n",
      "['1895', 144, 'germania'],\n",
      "['1896', 121, 'germania'],\n",
      "['1897', 60, 'germania'],\n",
      "['1898', 48, 'germania'],\n",
      "['1899', 52, 'germania'],\n",
      "['1900', 19, 'germania'],\n",
      "['1878', 75, 'italia'],\n",
      "['1879', 77, 'italia'],\n",
      "['1880', 87, 'italia'],\n",
      "['1881', 67, 'italia'],\n",
      "['1882', 346, 'italia'],\n",
      "['1883', 181, 'italia'],\n",
      "['1884', 41, 'italia'],\n",
      "['1885', 22, 'italia'],\n",
      "['1886', 18, 'italia'],\n",
      "['1887', 28, 'italia'],\n",
      "['1888', 115, 'italia'],\n",
      "['1889', 401, 'italia'],\n",
      "['1890', 163, 'italia'],\n",
      "['1891', 242, 'italia'],\n",
      "['1892', 89, 'italia'],\n",
      "['1893', 93, 'italia'],\n",
      "['1894', 74, 'italia'],\n",
      "['1895', 60, 'italia'],\n",
      "['1896', 39, 'italia'],\n",
      "['1897', 36, 'italia'],\n",
      "['1898', 17, 'italia'],\n",
      "['1899', 18, 'italia'],\n",
      "['1900', 8, 'italia'],\n",
      "['1878', 13, 'svizzera'],\n",
      "['1879', 28, 'svizzera'],\n",
      "['1880', 26, 'svizzera'],\n",
      "['1881', 24, 'svizzera'],\n",
      "['1882', 364, 'svizzera'],\n",
      "['1883', 122, 'svizzera'],\n",
      "['1884', 14, 'svizzera'],\n",
      "['1885', 3, 'svizzera'],\n",
      "['1886', 5, 'svizzera'],\n",
      "['1887', 2, 'svizzera'],\n",
      "['1888', 77, 'svizzera'],\n",
      "['1889', 232, 'svizzera'],\n",
      "['1890', 95, 'svizzera'],\n",
      "['1891', 93, 'svizzera'],\n",
      "['1892', 53, 'svizzera'],\n",
      "['1893', 75, 'svizzera'],\n",
      "['1894', 30, 'svizzera'],\n",
      "['1895', 26, 'svizzera'],\n",
      "['1896', 21, 'svizzera'],\n",
      "['1897', 22, 'svizzera'],\n",
      "['1898', 9, 'svizzera'],\n",
      "['1899', 13, 'svizzera'],\n",
      "['1900', 8, 'svizzera'],\n",
      "['1878', 0, 'turchia'],\n",
      "['1879', 1, 'turchia'],\n",
      "['1880', 1, 'turchia'],\n",
      "['1881', 0, 'turchia'],\n",
      "['1882', 5, 'turchia'],\n",
      "['1883', 6, 'turchia'],\n",
      "['1884', 0, 'turchia'],\n",
      "['1885', 0, 'turchia'],\n",
      "['1886', 0, 'turchia'],\n",
      "['1887', 0, 'turchia'],\n",
      "['1888', 1, 'turchia'],\n",
      "['1889', 0, 'turchia'],\n",
      "['1890', 2, 'turchia'],\n",
      "['1891', 3, 'turchia'],\n",
      "['1892', 0, 'turchia'],\n",
      "['1893', 1, 'turchia'],\n",
      "['1894', 0, 'turchia'],\n",
      "['1895', 0, 'turchia'],\n",
      "['1896', 0, 'turchia'],\n",
      "['1897', 0, 'turchia'],\n",
      "['1898', 0, 'turchia'],\n",
      "['1899', 0, 'turchia'],\n",
      "['1900', 0, 'turchia'],\n",
      "['1878', 0, 'ungheria'],\n",
      "['1879', 1, 'ungheria'],\n",
      "['1880', 1, 'ungheria'],\n",
      "['1881', 0, 'ungheria'],\n",
      "['1882', 323, 'ungheria'],\n",
      "['1883', 76, 'ungheria'],\n",
      "['1884', 1, 'ungheria'],\n",
      "['1885', 0, 'ungheria'],\n",
      "['1886', 1, 'ungheria'],\n",
      "['1887', 0, 'ungheria'],\n",
      "['1888', 0, 'ungheria'],\n",
      "['1889', 59, 'ungheria'],\n",
      "['1890', 42, 'ungheria'],\n",
      "['1891', 7, 'ungheria'],\n",
      "['1892', 5, 'ungheria'],\n",
      "['1893', 86, 'ungheria'],\n",
      "['1894', 83, 'ungheria'],\n",
      "['1895', 82, 'ungheria'],\n",
      "['1896', 11, 'ungheria'],\n",
      "['1897', 6, 'ungheria'],\n",
      "['1898', 3, 'ungheria'],\n",
      "['1899', 2, 'ungheria'],\n",
      "['1900', 1, 'ungheria'],\n"
     ]
    }
   ],
   "source": [
    "for idx, row in migrazione_passaporti.iterrows():\n",
    "    print(\"['%s', %s, '%s'],\" % (row['anno'],row['totale'],row['destinazione']))\n"
   ]
  },
  {
   "cell_type": "code",
   "execution_count": 111,
   "metadata": {},
   "outputs": [],
   "source": [
    "merge_passaporti_rinnovi = migrazione_rinnovi.merge(migrazione_passaporti,on=\"anno\")"
   ]
  },
  {
   "cell_type": "code",
   "execution_count": 112,
   "metadata": {},
   "outputs": [
    {
     "data": {
      "text/plain": [
       "(4508, 5)"
      ]
     },
     "execution_count": 112,
     "metadata": {},
     "output_type": "execute_result"
    }
   ],
   "source": [
    "merge_passaporti_rinnovi.shape"
   ]
  },
  {
   "cell_type": "code",
   "execution_count": 113,
   "metadata": {},
   "outputs": [
    {
     "name": "stdout",
     "output_type": "stream",
     "text": [
      "africa\n",
      "[0, 0, 0, 0, 3, 0, 0, 0, 0, 0, 0, 7, 0, 3, 0, 0, 0, 0, 0, 0, 0, 0, 0]\n",
      "america\n",
      "[2, 10, 9, 11, 52, 18, 2, 6, 9, 9, 59, 257, 177, 147, 1, 1, 0, 0, 0, 0, 0, 0, 0]\n",
      "asia\n",
      "[0, 1, 0, 1, 2, 0, 1, 0, 1, 0, 0, 7, 1, 1, 0, 0, 0, 0, 0, 0, 0, 0, 0]\n",
      "austria\n",
      "[8, 4, 6, 4, 459, 99, 24, 15, 10, 15, 38, 354, 333, 792, 1, 4, 3, 1, 0, 0, 1, 0, 0]\n",
      "austra_ungheria\n",
      "[187, 121, 162, 152, 570, 204, 42, 46, 33, 22, 234, 1046, 655, 494, 8, 8, 0, 0, 2, 3, 1, 3, 0]\n",
      "bosnia_erzegovina\n",
      "[53, 2, 0, 2, 14, 21, 1, 1, 0, 0, 2, 10, 4, 3, 0, 0, 0, 0, 0, 0, 0, 0, 0]\n",
      "europa\n",
      "[26, 22, 29, 26, 37, 30, 28, 15, 22, 59, 552, 1245, 1046, 362, 8, 9, 4, 3, 4, 1, 5, 3, 1]\n",
      "esteri_europa\n",
      "[5, 0, 12, 27, 11, 6, 4, 0, 0, 7, 9, 159, 13, 4, 0, 1, 0, 0, 0, 0, 0, 0, 0]\n",
      "francia\n",
      "[10, 5, 5, 6, 294, 137, 3, 0, 1, 2, 49, 96, 43, 62, 1, 0, 0, 0, 0, 0, 0, 0, 0]\n",
      "germania\n",
      "[70, 50, 50, 46, 750, 187, 12, 15, 14, 5, 161, 757, 307, 606, 7, 4, 2, 1, 0, 1, 1, 1, 0]\n",
      "italia\n",
      "[67, 64, 76, 56, 332, 170, 33, 20, 17, 24, 103, 363, 141, 168, 2, 1, 0, 0, 0, 2, 0, 0, 0]\n",
      "svizzera\n",
      "[12, 19, 18, 17, 356, 117, 6, 3, 3, 1, 71, 187, 65, 74, 4, 1, 1, 1, 0, 1, 0, 1, 0]\n",
      "turchia\n",
      "[0, 0, 0, 0, 5, 6, 0, 0, 0, 0, 0, 0, 2, 3, 0, 0, 0, 0, 0, 0, 0, 0, 0]\n",
      "ungheria\n",
      "[0, 0, 1, 0, 323, 74, 0, 0, 0, 0, 0, 54, 24, 0, 0, 2, 0, 1, 0, 0, 0, 0, 0]\n"
     ]
    }
   ],
   "source": [
    "for migrazione in migrazioni:\n",
    "    line = \"[\"\n",
    "    for values in data[migrazione]:\n",
    "        line += str(values[1]) + \", \"\n",
    "    line += \"]\"\n",
    "    line = line.replace(\", ]\",\"]\")\n",
    "    print(migrazione)\n",
    "    print(line)\n"
   ]
  },
  {
   "cell_type": "code",
   "execution_count": 114,
   "metadata": {},
   "outputs": [
    {
     "data": {
      "text/html": [
       "<div>\n",
       "<style scoped>\n",
       "    .dataframe tbody tr th:only-of-type {\n",
       "        vertical-align: middle;\n",
       "    }\n",
       "\n",
       "    .dataframe tbody tr th {\n",
       "        vertical-align: top;\n",
       "    }\n",
       "\n",
       "    .dataframe thead th {\n",
       "        text-align: right;\n",
       "    }\n",
       "</style>\n",
       "<table border=\"1\" class=\"dataframe\">\n",
       "  <thead>\n",
       "    <tr style=\"text-align: right;\">\n",
       "      <th></th>\n",
       "      <th>nome</th>\n",
       "      <th>data_nascita</th>\n",
       "      <th>luogo_nascita</th>\n",
       "      <th>sesso</th>\n",
       "      <th>mestiere</th>\n",
       "      <th>data</th>\n",
       "      <th>validita</th>\n",
       "      <th>espatri</th>\n",
       "      <th>rinnovi</th>\n",
       "      <th>n_rinnovi</th>\n",
       "      <th>...</th>\n",
       "      <th>austra_ungheria</th>\n",
       "      <th>bosnia_erzegovina</th>\n",
       "      <th>europa</th>\n",
       "      <th>esteri_europa</th>\n",
       "      <th>francia</th>\n",
       "      <th>germania</th>\n",
       "      <th>italia</th>\n",
       "      <th>svizzera</th>\n",
       "      <th>turchia</th>\n",
       "      <th>ungheria</th>\n",
       "    </tr>\n",
       "  </thead>\n",
       "  <tbody>\n",
       "  </tbody>\n",
       "</table>\n",
       "<p>0 rows × 45 columns</p>\n",
       "</div>"
      ],
      "text/plain": [
       "Empty DataFrame\n",
       "Columns: [nome, data_nascita, luogo_nascita, sesso, mestiere, data, validita, espatri, rinnovi, n_rinnovi, lavoro, mestiere_corretto, espatri_0, espatri_1, espatri_2, espatri_3, espatri_4, espatri_5, migrazione_0, migrazione_1, migrazione_2, migrazione_3, migrazione_4, migrazione_5, eta, provenienza, luogo_nascita_corretto, durata_gg_passaporto, migrazione_extra_europa, migrazione_europa, migrazione_interna, africa, america, asia, austria, austra_ungheria, bosnia_erzegovina, europa, esteri_europa, francia, germania, italia, svizzera, turchia, ungheria]\n",
       "Index: []\n",
       "\n",
       "[0 rows x 45 columns]"
      ]
     },
     "execution_count": 114,
     "metadata": {},
     "output_type": "execute_result"
    }
   ],
   "source": [
    "passaporti_completi[passaporti_completi.data == 1909]\n"
   ]
  },
  {
   "cell_type": "code",
   "execution_count": 115,
   "metadata": {},
   "outputs": [],
   "source": [
    "passaporti_completi[passaporti_completi.provenienza ==\n",
    "                    \"Val di Non\"].luogo_nascita.value_counts().to_frame().reset_index().rename(columns={\"index\":\"luogo_nascita\",\"luogo_nascita\":\"totale\"}).to_csv(\"val_di_non_ripartizioni.csv\",index=False)\n"
   ]
  },
  {
   "cell_type": "code",
   "execution_count": 116,
   "metadata": {},
   "outputs": [
    {
     "data": {
      "text/plain": [
       "6235"
      ]
     },
     "execution_count": 116,
     "metadata": {},
     "output_type": "execute_result"
    }
   ],
   "source": [
    "passaporti_completi.migrazione_interna.sum()"
   ]
  },
  {
   "cell_type": "code",
   "execution_count": 117,
   "metadata": {},
   "outputs": [
    {
     "data": {
      "text/plain": [
       "8135"
      ]
     },
     "execution_count": 117,
     "metadata": {},
     "output_type": "execute_result"
    }
   ],
   "source": [
    "passaporti_completi.migrazione_europa.sum()"
   ]
  },
  {
   "cell_type": "code",
   "execution_count": 118,
   "metadata": {},
   "outputs": [
    {
     "data": {
      "text/plain": [
       "798"
      ]
     },
     "execution_count": 118,
     "metadata": {},
     "output_type": "execute_result"
    }
   ],
   "source": [
    "passaporti_completi.migrazione_extra_europa.sum()"
   ]
  },
  {
   "cell_type": "code",
   "execution_count": 119,
   "metadata": {},
   "outputs": [
    {
     "data": {
      "text/plain": [
       "613"
      ]
     },
     "execution_count": 119,
     "metadata": {},
     "output_type": "execute_result"
    }
   ],
   "source": [
    "passaporti_completi[passaporti_completi.provenienza == 'Val di Non'].migrazione_interna.sum()\n"
   ]
  },
  {
   "cell_type": "code",
   "execution_count": 120,
   "metadata": {},
   "outputs": [
    {
     "data": {
      "text/plain": [
       "82"
      ]
     },
     "execution_count": 120,
     "metadata": {},
     "output_type": "execute_result"
    }
   ],
   "source": [
    "passaporti_completi[passaporti_completi.provenienza ==\n",
    "                    'Val di Non'].migrazione_extra_europa.sum()\n"
   ]
  },
  {
   "cell_type": "code",
   "execution_count": 121,
   "metadata": {},
   "outputs": [
    {
     "data": {
      "text/plain": [
       "253"
      ]
     },
     "execution_count": 121,
     "metadata": {},
     "output_type": "execute_result"
    }
   ],
   "source": [
    "passaporti_completi[passaporti_completi.provenienza == 'Val di Non'].austria.sum()"
   ]
  },
  {
   "cell_type": "code",
   "execution_count": 122,
   "metadata": {},
   "outputs": [
    {
     "data": {
      "text/plain": [
       "222"
      ]
     },
     "execution_count": 122,
     "metadata": {},
     "output_type": "execute_result"
    }
   ],
   "source": [
    "passaporti_completi[passaporti_completi.provenienza ==\n",
    "                    'Val di Non'].italia.sum()\n"
   ]
  },
  {
   "cell_type": "code",
   "execution_count": 123,
   "metadata": {},
   "outputs": [
    {
     "data": {
      "text/plain": [
       "56"
      ]
     },
     "execution_count": 123,
     "metadata": {},
     "output_type": "execute_result"
    }
   ],
   "source": [
    "passaporti_completi[passaporti_completi.provenienza ==\n",
    "                    'Val di Non'].francia.sum()"
   ]
  },
  {
   "cell_type": "code",
   "execution_count": 124,
   "metadata": {},
   "outputs": [
    {
     "data": {
      "text/plain": [
       "253"
      ]
     },
     "execution_count": 124,
     "metadata": {},
     "output_type": "execute_result"
    }
   ],
   "source": [
    "passaporti_completi[passaporti_completi.provenienza ==\n",
    "                    'Val di Non'].germania.sum()\n"
   ]
  },
  {
   "cell_type": "code",
   "execution_count": 125,
   "metadata": {},
   "outputs": [
    {
     "data": {
      "text/plain": [
       "80"
      ]
     },
     "execution_count": 125,
     "metadata": {},
     "output_type": "execute_result"
    }
   ],
   "source": [
    "passaporti_completi[passaporti_completi.provenienza ==\n",
    "                    'Val di Non'].america.sum()\n"
   ]
  },
  {
   "cell_type": "code",
   "execution_count": 126,
   "metadata": {},
   "outputs": [
    {
     "data": {
      "text/plain": [
       "0"
      ]
     },
     "execution_count": 126,
     "metadata": {},
     "output_type": "execute_result"
    }
   ],
   "source": [
    "passaporti_completi[passaporti_completi.provenienza ==\n",
    "                    'Val di Non'].asia.sum()\n"
   ]
  },
  {
   "cell_type": "code",
   "execution_count": 127,
   "metadata": {},
   "outputs": [
    {
     "data": {
      "text/plain": [
       "precario                     8833\n",
       "agricoltura e allevamento     913\n",
       "artigianale                   748\n",
       "manuale                       520\n",
       "commercio                     385\n",
       "vario                         219\n",
       "intellettuale e tecnico       170\n",
       "domestico                     128\n",
       "artistico                      38\n",
       "impiegatizio                   34\n",
       "militare                       33\n",
       "clero                          27\n",
       "sanitario                      16\n",
       "Name: lavoro, dtype: int64"
      ]
     },
     "execution_count": 127,
     "metadata": {},
     "output_type": "execute_result"
    }
   ],
   "source": [
    "passaporti_completi.lavoro.value_counts()"
   ]
  },
  {
   "cell_type": "code",
   "execution_count": 128,
   "metadata": {},
   "outputs": [
    {
     "data": {
      "text/html": [
       "<div>\n",
       "<style scoped>\n",
       "    .dataframe tbody tr th:only-of-type {\n",
       "        vertical-align: middle;\n",
       "    }\n",
       "\n",
       "    .dataframe tbody tr th {\n",
       "        vertical-align: top;\n",
       "    }\n",
       "\n",
       "    .dataframe thead th {\n",
       "        text-align: right;\n",
       "    }\n",
       "</style>\n",
       "<table border=\"1\" class=\"dataframe\">\n",
       "  <thead>\n",
       "    <tr style=\"text-align: right;\">\n",
       "      <th></th>\n",
       "      <th>nome</th>\n",
       "      <th>data_nascita</th>\n",
       "      <th>luogo_nascita</th>\n",
       "      <th>sesso</th>\n",
       "      <th>mestiere</th>\n",
       "      <th>data</th>\n",
       "      <th>validita</th>\n",
       "      <th>espatri</th>\n",
       "      <th>rinnovi</th>\n",
       "      <th>n_rinnovi</th>\n",
       "      <th>...</th>\n",
       "      <th>austra_ungheria</th>\n",
       "      <th>bosnia_erzegovina</th>\n",
       "      <th>europa</th>\n",
       "      <th>esteri_europa</th>\n",
       "      <th>francia</th>\n",
       "      <th>germania</th>\n",
       "      <th>italia</th>\n",
       "      <th>svizzera</th>\n",
       "      <th>turchia</th>\n",
       "      <th>ungheria</th>\n",
       "    </tr>\n",
       "  </thead>\n",
       "  <tbody>\n",
       "  </tbody>\n",
       "</table>\n",
       "<p>0 rows × 45 columns</p>\n",
       "</div>"
      ],
      "text/plain": [
       "Empty DataFrame\n",
       "Columns: [nome, data_nascita, luogo_nascita, sesso, mestiere, data, validita, espatri, rinnovi, n_rinnovi, lavoro, mestiere_corretto, espatri_0, espatri_1, espatri_2, espatri_3, espatri_4, espatri_5, migrazione_0, migrazione_1, migrazione_2, migrazione_3, migrazione_4, migrazione_5, eta, provenienza, luogo_nascita_corretto, durata_gg_passaporto, migrazione_extra_europa, migrazione_europa, migrazione_interna, africa, america, asia, austria, austra_ungheria, bosnia_erzegovina, europa, esteri_europa, francia, germania, italia, svizzera, turchia, ungheria]\n",
       "Index: []\n",
       "\n",
       "[0 rows x 45 columns]"
      ]
     },
     "execution_count": 128,
     "metadata": {},
     "output_type": "execute_result"
    }
   ],
   "source": [
    "passaporti_completi[passaporti_completi.lavoro == \"NO CATEGORIA\"]\n"
   ]
  },
  {
   "cell_type": "code",
   "execution_count": 129,
   "metadata": {},
   "outputs": [],
   "source": [
    "escludi_campi = ['espatri_0',\n",
    "'espatri_1', 'espatri_2', 'espatri_3', 'espatri_4', 'espatri_5',\n",
    "'migrazione_0', 'migrazione_1', 'migrazione_2', 'migrazione_3',\n",
    "'migrazione_4', 'migrazione_5',]\n"
   ]
  },
  {
   "cell_type": "code",
   "execution_count": 130,
   "metadata": {},
   "outputs": [],
   "source": [
    "includi_campi = ['nome', 'data_nascita', 'luogo_nascita', 'sesso', 'mestiere', 'data',\n",
    "                  'validita', 'espatri']\n"
   ]
  },
  {
   "cell_type": "code",
   "execution_count": 131,
   "metadata": {},
   "outputs": [],
   "source": [
    "passaporti_completi[includi_campi].to_csv(\"dati_passaporti.csv\",sep=\";\",index=False)\n"
   ]
  },
  {
   "cell_type": "code",
   "execution_count": 132,
   "metadata": {},
   "outputs": [],
   "source": [
    "for p in list(passaporti_completi.provenienza.unique()):\n",
    "    if pd.isna(p) == False:\n",
    "        africa = passaporti_completi[passaporti_completi.provenienza ==\n",
    "                        i].africa.sum()\n",
    "        if africa > 0:\n",
    "            print(p)\n",
    "            print(africa)\n"
   ]
  },
  {
   "cell_type": "code",
   "execution_count": 133,
   "metadata": {},
   "outputs": [
    {
     "data": {
      "text/plain": [
       "4                  Valle dei Laghi\n",
       "2223     Alta Valsugana e Bersntol\n",
       "4253              Valle delĺ'Adige\n",
       "4290                           NaN\n",
       "4410     Alta Valsugana e Bersntol\n",
       "6646              Valle delĺ'Adige\n",
       "6804               Valle dei Laghi\n",
       "7553              Valle delĺ'Adige\n",
       "7990                        Italia\n",
       "8914     Alta Valsugana e Bersntol\n",
       "9067              Valle delĺ'Adige\n",
       "9689                              \n",
       "10964              Piana Rotaliana\n",
       "Name: provenienza, dtype: object"
      ]
     },
     "execution_count": 133,
     "metadata": {},
     "output_type": "execute_result"
    }
   ],
   "source": [
    "passaporti_completi[passaporti_completi.africa==1].provenienza"
   ]
  },
  {
   "cell_type": "code",
   "execution_count": 134,
   "metadata": {},
   "outputs": [],
   "source": [
    "passaporti_completi.to_csv(\"passaporti_completi.csv\",sep=\";\",index=False)"
   ]
  },
  {
   "cell_type": "code",
   "execution_count": 135,
   "metadata": {},
   "outputs": [
    {
     "data": {
      "text/plain": [
       "Index(['nome', 'data_nascita', 'luogo_nascita', 'sesso', 'mestiere', 'data',\n",
       "       'validita', 'espatri', 'rinnovi', 'n_rinnovi', 'lavoro',\n",
       "       'mestiere_corretto', 'espatri_0', 'espatri_1', 'espatri_2', 'espatri_3',\n",
       "       'espatri_4', 'espatri_5', 'migrazione_0', 'migrazione_1',\n",
       "       'migrazione_2', 'migrazione_3', 'migrazione_4', 'migrazione_5', 'eta',\n",
       "       'provenienza', 'luogo_nascita_corretto', 'durata_gg_passaporto',\n",
       "       'migrazione_extra_europa', 'migrazione_europa', 'migrazione_interna',\n",
       "       'africa', 'america', 'asia', 'austria', 'austra_ungheria',\n",
       "       'bosnia_erzegovina', 'europa', 'esteri_europa', 'francia', 'germania',\n",
       "       'italia', 'svizzera', 'turchia', 'ungheria'],\n",
       "      dtype='object')"
      ]
     },
     "execution_count": 135,
     "metadata": {},
     "output_type": "execute_result"
    }
   ],
   "source": [
    "passaporti_completi.columns"
   ]
  },
  {
   "cell_type": "code",
   "execution_count": 136,
   "metadata": {},
   "outputs": [],
   "source": [
    "nodes = {}\n",
    "ids = []\n",
    "names = []\n",
    "migrazioni = []\n",
    "totale = []\n",
    "i = 0\n",
    "totale_migrazioni = 0\n",
    "for p in places:\n",
    "    if p != \"\":\n",
    "        ids.append(i)\n",
    "        names.append(p)\n",
    "        #migrazioni.append(p)\n",
    "\n",
    "        if p == \"Africa\":\n",
    "            migrazioni.append(\"0\") #extra europa\n",
    "            t = passaporti_completi['africa'].sum()\n",
    "            totale.append(t)\n",
    "            totale_migrazioni += t\n",
    "        if p == \"America\":\n",
    "            migrazioni.append(\"0\")\n",
    "            t = passaporti_completi['america'].sum()\n",
    "            totale.append(t)\n",
    "            totale_migrazioni += t\n",
    "        if p == \"Asia\":\n",
    "            migrazioni.append(\"0\")\n",
    "            t=passaporti_completi['asia'].sum()\n",
    "            totale.append(t)\n",
    "            totale_migrazioni += t\n",
    "        if p == \"Austria\":\n",
    "            migrazioni.append(\"2\") # interna\n",
    "            t=passaporti_completi['austria'].sum()\n",
    "            totale.append(t)\n",
    "            totale_migrazioni += t\n",
    "        if p == \"Austria-Ungheria\":\n",
    "            migrazioni.append(\"2\")\n",
    "            t=passaporti_completi['austra_ungheria'].sum()\n",
    "            totale.append(t)\n",
    "            totale_migrazioni += t\n",
    "        if p == \"Bosnia-Erzegovina\":\n",
    "            migrazioni.append(\"2\")\n",
    "            t=passaporti_completi['bosnia_erzegovina'].sum()\n",
    "            totale.append(t)\n",
    "            totale_migrazioni += t\n",
    "        if p == \"Esteri d'Europa\":\n",
    "            migrazioni.append(\"1\") #europa \n",
    "            t=passaporti_completi['esteri_europa'].sum()\n",
    "            totale.append(t)\n",
    "            totale_migrazioni += t\n",
    "        if p == \"Europa\":\n",
    "            migrazioni.append(\"1\")  # europa\n",
    "            t=passaporti_completi['europa'].sum()\n",
    "            totale.append(t)\n",
    "            totale_migrazioni += t\n",
    "        if p == \"Francia\":\n",
    "            migrazioni.append(\"1\") #europa\n",
    "            t=passaporti_completi['francia'].sum()\n",
    "            totale.append(t)\n",
    "            totale_migrazioni += t\n",
    "        if p == \"Germania\":\n",
    "            migrazioni.append(\"1\")  # europa\n",
    "            t=passaporti_completi['germania'].sum()\n",
    "            totale.append(t)\n",
    "            totale_migrazioni += t\n",
    "        if p == \"Italia\":\n",
    "            migrazioni.append(\"1\") #europa\n",
    "            t=passaporti_completi['italia'].sum()\n",
    "            totale.append(t)\n",
    "            totale_migrazioni += t\n",
    "        if p == \"Svizzera\":\n",
    "            migrazioni.append(\"1\") #europa\n",
    "            t=passaporti_completi['svizzera'].sum()\n",
    "            totale.append(t)\n",
    "            totale_migrazioni += t\n",
    "\n",
    "        if p == \"Turchia\":\n",
    "            migrazioni.append(\"0\")  # extra europa\n",
    "            t=passaporti_completi['turchia'].sum()\n",
    "            totale.append(t)\n",
    "            totale_migrazioni += t\n",
    "        if p == \"Ungheria\":\n",
    "            t=passaporti_completi['ungheria'].sum()\n",
    "            migrazioni.append(\"2\")  # interna\n",
    "            totale.append(t)\n",
    "            totale_migrazioni += t\n",
    "        i += 1\n"
   ]
  },
  {
   "cell_type": "code",
   "execution_count": 137,
   "metadata": {},
   "outputs": [],
   "source": [
    "last_id_migrazioni = i -1\n",
    "totale_provenienze = 0\n"
   ]
  },
  {
   "cell_type": "code",
   "execution_count": 138,
   "metadata": {},
   "outputs": [],
   "source": [
    "id_comunita_key = {'Val di Fiemme':3,\n",
    "                   'Giudicarie':4,\n",
    "                   'Altipiani Cimbri':5,\n",
    "                   'Val di Fassa':6,\n",
    "                   'Alto Garda e Ledro':7,\n",
    "                   'Vallagarina':8,\n",
    "                   'Valle di Cembra':9,\n",
    "                   'Val di Sole':10,\n",
    "                   'Primiero':11,\n",
    "                   'Valsugana e Tesino':12,\n",
    "                   'Altopiano della Paganella':13,\n",
    "                   'Piana Rotaliana':14,\n",
    "                   'Valle dei Laghi':15,\n",
    "                   'Val di Non':16,\n",
    "                   'Val di Cembra':17,\n",
    "                   \"Valle delĺ'Adige\":18,\n",
    "                   'Alta Valsugana e Bersntol':19}\n"
   ]
  },
  {
   "cell_type": "code",
   "execution_count": 139,
   "metadata": {},
   "outputs": [],
   "source": [
    "for n in comunita_key: \n",
    "    ids.append(i)\n",
    "    names.append(n)\n",
    "    migrazioni.append(str(id_comunita_key[n]))  # 3 trentino\n",
    "    t = passaporti_completi[passaporti_completi.provenienza ==\n",
    "                            n].shape[0]\n",
    "    totale_provenienze += t\n",
    "    totale.append(t)\n",
    "    i += 1\n"
   ]
  },
  {
   "cell_type": "code",
   "execution_count": 140,
   "metadata": {},
   "outputs": [],
   "source": [
    "nodes = {\n",
    "    'id': ids,\n",
    "    'name': names,\n",
    "    'category': migrazioni,\n",
    "    'value': totale\n",
    "}\n",
    "nodes_df = pd.DataFrame(nodes)\n",
    "\n"
   ]
  },
  {
   "cell_type": "code",
   "execution_count": 141,
   "metadata": {},
   "outputs": [],
   "source": [
    "def getPercentoSize(last_id_migrazioni,totale_provenienze,totale_migrazioni,id,df):\n",
    "    p = 0\n",
    "    totale = df[df.id == id]['value'].values[0]\n",
    "    if (id <= last_id_migrazioni):\n",
    "        p = round(totale / totale_migrazioni,3)*100+20\n",
    "    else:\n",
    "        p = round(totale / totale_provenienze, 3)*100+20\n",
    "    return(p)"
   ]
  },
  {
   "cell_type": "code",
   "execution_count": 142,
   "metadata": {},
   "outputs": [],
   "source": [
    "nodes_df['symbolSize'] = nodes_df['id'].apply(lambda x: getPercentoSize(last_id_migrazioni,totale_provenienze,totale_migrazioni,x,nodes_df))"
   ]
  },
  {
   "cell_type": "code",
   "execution_count": 143,
   "metadata": {},
   "outputs": [],
   "source": [
    "nodes_df.to_csv(\n",
    "    \"graph_nodes.csv\", index=False)"
   ]
  },
  {
   "cell_type": "code",
   "execution_count": 144,
   "metadata": {},
   "outputs": [],
   "source": [
    "#for idx, row in nodes_df.iterrows():\n",
    "#    print('{ \"id\": \"%s\", \"name\": \"%s\", \"category\": %s, \"symbolSize\":%s, \"value\":%s},\\n' % (\n",
    "#        row['id'], row['name'], row['category'], row['symbolSize'], row['value']))\n"
   ]
  },
  {
   "cell_type": "code",
   "execution_count": 145,
   "metadata": {},
   "outputs": [
    {
     "name": "stdout",
     "output_type": "stream",
     "text": [
      "{\"name\": \"Svizzera\", \"value\":1,\n",
      "                \"label\": { \"show\": true, \"position\": \"top\",\n",
      "                    \"verticalAlign\": \"top\", \"distance\": 0,\n",
      "                    \"rotate\": 25}}, \n",
      "\n",
      "{\"name\": \"Francia\", \"value\":1,\n",
      "                \"label\": { \"show\": true, \"position\": \"top\",\n",
      "                    \"verticalAlign\": \"top\", \"distance\": 0,\n",
      "                    \"rotate\": 25}}, \n",
      "\n",
      "{\"name\": \"Turchia\", \"value\":1,\n",
      "                \"label\": { \"show\": true, \"position\": \"top\",\n",
      "                    \"verticalAlign\": \"top\", \"distance\": 0,\n",
      "                    \"rotate\": 25}}, \n",
      "\n",
      "{\"name\": \"Europa\", \"value\":1,\n",
      "                \"label\": { \"show\": true, \"position\": \"top\",\n",
      "                    \"verticalAlign\": \"top\", \"distance\": 0,\n",
      "                    \"rotate\": 25}}, \n",
      "\n",
      "{\"name\": \"Germania\", \"value\":1,\n",
      "                \"label\": { \"show\": true, \"position\": \"top\",\n",
      "                    \"verticalAlign\": \"top\", \"distance\": 0,\n",
      "                    \"rotate\": 25}}, \n",
      "\n",
      "{\"name\": \"Austria-Ungheria\", \"value\":1,\n",
      "                \"label\": { \"show\": true, \"position\": \"top\",\n",
      "                    \"verticalAlign\": \"top\", \"distance\": 0,\n",
      "                    \"rotate\": 25}}, \n",
      "\n",
      "{\"name\": \"Italia\", \"value\":1,\n",
      "                \"label\": { \"show\": true, \"position\": \"top\",\n",
      "                    \"verticalAlign\": \"top\", \"distance\": 0,\n",
      "                    \"rotate\": 25}}, \n",
      "\n",
      "{\"name\": \"Asia\", \"value\":1,\n",
      "                \"label\": { \"show\": true, \"position\": \"top\",\n",
      "                    \"verticalAlign\": \"top\", \"distance\": 0,\n",
      "                    \"rotate\": 25}}, \n",
      "\n",
      "{\"name\": \"Esteri d'Europa\", \"value\":1,\n",
      "                \"label\": { \"show\": true, \"position\": \"top\",\n",
      "                    \"verticalAlign\": \"top\", \"distance\": 0,\n",
      "                    \"rotate\": 25}}, \n",
      "\n",
      "{\"name\": \"Austria\", \"value\":1,\n",
      "                \"label\": { \"show\": true, \"position\": \"top\",\n",
      "                    \"verticalAlign\": \"top\", \"distance\": 0,\n",
      "                    \"rotate\": 25}}, \n",
      "\n",
      "{\"name\": \"America\", \"value\":1,\n",
      "                \"label\": { \"show\": true, \"position\": \"top\",\n",
      "                    \"verticalAlign\": \"top\", \"distance\": 0,\n",
      "                    \"rotate\": 25}}, \n",
      "\n",
      "{\"name\": \"Bosnia-Erzegovina\", \"value\":1,\n",
      "                \"label\": { \"show\": true, \"position\": \"top\",\n",
      "                    \"verticalAlign\": \"top\", \"distance\": 0,\n",
      "                    \"rotate\": 25}}, \n",
      "\n",
      "{\"name\": \"Ungheria\", \"value\":1,\n",
      "                \"label\": { \"show\": true, \"position\": \"top\",\n",
      "                    \"verticalAlign\": \"top\", \"distance\": 0,\n",
      "                    \"rotate\": 25}}, \n",
      "\n",
      "{\"name\": \"Africa\", \"value\":1,\n",
      "                \"label\": { \"show\": true, \"position\": \"top\",\n",
      "                    \"verticalAlign\": \"top\", \"distance\": 0,\n",
      "                    \"rotate\": 25}}, \n",
      "\n",
      "{\"name\": \"Val di Fiemme\", \"value\":1},\n",
      "\n",
      "{\"name\": \"Giudicarie\", \"value\":1},\n",
      "\n",
      "{\"name\": \"Altipiani Cimbri\", \"value\":1},\n",
      "\n",
      "{\"name\": \"Val di Fassa\", \"value\":1},\n",
      "\n",
      "{\"name\": \"Alto Garda e Ledro\", \"value\":1},\n",
      "\n",
      "{\"name\": \"Vallagarina\", \"value\":1},\n",
      "\n",
      "{\"name\": \"Valle di Cembra\", \"value\":1},\n",
      "\n",
      "{\"name\": \"Val di Sole\", \"value\":1},\n",
      "\n",
      "{\"name\": \"Primiero\", \"value\":1},\n",
      "\n",
      "{\"name\": \"Valsugana e Tesino\", \"value\":1},\n",
      "\n",
      "{\"name\": \"Altopiano della Paganella\", \"value\":1},\n",
      "\n",
      "{\"name\": \"Piana Rotaliana\", \"value\":1},\n",
      "\n",
      "{\"name\": \"Valle dei Laghi\", \"value\":1},\n",
      "\n",
      "{\"name\": \"Val di Non\", \"value\":1},\n",
      "\n",
      "{\"name\": \"Val di Cembra\", \"value\":1},\n",
      "\n",
      "{\"name\": \"Valle delĺ'Adige\", \"value\":1},\n",
      "\n",
      "{\"name\": \"Alta Valsugana e Bersntol\", \"value\":1},\n",
      "\n"
     ]
    }
   ],
   "source": [
    "for idx, row in nodes_df.iterrows():\n",
    "    name = row['name']\n",
    "    if name in places:\n",
    "        print('''{\"name\": \"%s\", \"value\":%s,\n",
    "                \"label\": { \"show\": true, \"position\": \"top\",\n",
    "                    \"verticalAlign\": \"top\", \"distance\": 0,\n",
    "                    \"rotate\": 25}}, \\n''' % (row['name'], 1))\n",
    "    else:\n",
    "        print('{\"name\": \"%s\", \"value\":%s},\\n' % (row['name'], 1))\n"
   ]
  },
  {
   "cell_type": "code",
   "execution_count": 146,
   "metadata": {},
   "outputs": [],
   "source": [
    "nazioni = {0:'africa',3:'america',9:'asia',8:'austria',10:'austra_ungheria',1:'bosnia_erzegovina',13:'europa',\n",
    "6:'esteri_europa',11:'francia',2:'germania',12:'italia',4:'svizzera',\n",
    "5:'turchia', 7:'ungheria'}"
   ]
  },
  {
   "cell_type": "code",
   "execution_count": 147,
   "metadata": {},
   "outputs": [],
   "source": [
    "nazioni_nomi = {\"africa\":\"Africa\", \"america\": \"America\", \"asia\": \"Asia\", \n",
    "           \"austria\": \"Austria\", \"austra_ungheria\": \"Austria-Ungheria\", \n",
    "           \"bosnia_erzegovina\": \"Bosnia-Erzegovina\",\n",
    "           \"europa\": \"Europa\",\"esteri_europa\":\"Esteri d'Europa\",\n",
    "           \"francia\":\"Francia\",\"germania\":\"Germania\",\n",
    "           \"italia\":\"Italia\",\"svizzera\":\"Svizzera\",\n",
    "           \"turchia\":\"Turchia\",\"ungheria\":\"Ungheria\"}"
   ]
  },
  {
   "cell_type": "code",
   "execution_count": 148,
   "metadata": {},
   "outputs": [],
   "source": [
    "#weights = []\n",
    "#from_ids = []\n",
    "#to_ids = []\n",
    "#for comunita in comunita_key:\n",
    "#    id_comunita = nodes_df[nodes_df.name == comunita].id.values[0]\n",
    "#    for id_nazione in nazioni:\n",
    "#        nazione = nazioni[id_nazione]\n",
    "#        weight = passaporti_completi[passaporti_completi.provenienza ==\n",
    "#                                     comunita][nazione].sum()\n",
    "#        from_ids.append(id_comunita)\n",
    "#        to_ids.append(id_nazione)\n",
    "#        weights.append(weight)"
   ]
  },
  {
   "cell_type": "code",
   "execution_count": 149,
   "metadata": {},
   "outputs": [],
   "source": [
    "weights = []\n",
    "from_ids = []\n",
    "to_ids = []\n",
    "for comunita in comunita_key:\n",
    "    id_comunita = nodes_df[nodes_df.name == comunita].id.values[0]\n",
    "    for id_nazione in nazioni:\n",
    "        nazione = nazioni[id_nazione]\n",
    "        weight = passaporti_completi[passaporti_completi.provenienza ==\n",
    "                                     comunita][nazione].sum()\n",
    "        from_ids.append(comunita)\n",
    "        to_ids.append(nazioni_nomi[nazione])\n",
    "        weights.append(weight)"
   ]
  },
  {
   "cell_type": "code",
   "execution_count": 150,
   "metadata": {},
   "outputs": [],
   "source": [
    "edges = {\n",
    "    'source': from_ids,\n",
    "    'target': to_ids,\n",
    "    'weight': weights\n",
    "}\n",
    "edges_df = pd.DataFrame(edges)\n"
   ]
  },
  {
   "cell_type": "code",
   "execution_count": 151,
   "metadata": {},
   "outputs": [],
   "source": [
    "edges_df.to_csv(\n",
    "    \"edges_nodes.csv\", index=False)\n"
   ]
  },
  {
   "cell_type": "code",
   "execution_count": 158,
   "metadata": {},
   "outputs": [
    {
     "name": "stdout",
     "output_type": "stream",
     "text": [
      "{ \"source\": \"Val di Fiemme\", \"target\": \"America\", \"value\":0, \"weights\":2\n",
      "                 ,\"lineStyle\": {\"opacity\": 1}\n",
      "              },\n",
      "\n",
      "{ \"source\": \"Val di Fiemme\", \"target\": \"Austria-Ungheria\", \"value\":0, \"weights\":3\n",
      "                 ,\"lineStyle\": {\"opacity\": 1}\n",
      "              },\n",
      "\n",
      "{ \"source\": \"Val di Fiemme\", \"target\": \"Germania\", \"value\":0, \"weights\":4\n",
      "                 ,\"lineStyle\": {\"opacity\": 1}\n",
      "              },\n",
      "\n",
      "{ \"source\": \"Val di Fiemme\", \"target\": \"Italia\", \"value\":0, \"weights\":2\n",
      "                 ,\"lineStyle\": {\"opacity\": 1}\n",
      "              },\n",
      "\n",
      "{ \"source\": \"Giudicarie\", \"target\": \"America\", \"value\":0, \"weights\":1\n",
      "                 ,\"lineStyle\": {\"opacity\": 1}\n",
      "              },\n",
      "\n",
      "{ \"source\": \"Giudicarie\", \"target\": \"Austria\", \"value\":0, \"weights\":4\n",
      "                 ,\"lineStyle\": {\"opacity\": 1}\n",
      "              },\n",
      "\n",
      "{ \"source\": \"Giudicarie\", \"target\": \"Austria-Ungheria\", \"value\":0, \"weights\":3\n",
      "                 ,\"lineStyle\": {\"opacity\": 1}\n",
      "              },\n",
      "\n",
      "{ \"source\": \"Giudicarie\", \"target\": \"Europa\", \"value\":0, \"weights\":1\n",
      "                 ,\"lineStyle\": {\"opacity\": 1}\n",
      "              },\n",
      "\n",
      "{ \"source\": \"Giudicarie\", \"target\": \"Germania\", \"value\":0, \"weights\":1\n",
      "                 ,\"lineStyle\": {\"opacity\": 1}\n",
      "              },\n",
      "\n",
      "{ \"source\": \"Giudicarie\", \"target\": \"Italia\", \"value\":0, \"weights\":6\n",
      "                 ,\"lineStyle\": {\"opacity\": 1}\n",
      "              },\n",
      "\n",
      "{ \"source\": \"Giudicarie\", \"target\": \"Ungheria\", \"value\":0, \"weights\":1\n",
      "                 ,\"lineStyle\": {\"opacity\": 1}\n",
      "              },\n",
      "\n",
      "{ \"source\": \"Altipiani Cimbri\", \"target\": \"America\", \"value\":0, \"weights\":2\n",
      "                 ,\"lineStyle\": {\"opacity\": 1}\n",
      "              },\n",
      "\n",
      "{ \"source\": \"Altipiani Cimbri\", \"target\": \"Austria\", \"value\":0, \"weights\":1\n",
      "                 ,\"lineStyle\": {\"opacity\": 1}\n",
      "              },\n",
      "\n",
      "{ \"source\": \"Altipiani Cimbri\", \"target\": \"Francia\", \"value\":0, \"weights\":1\n",
      "                 ,\"lineStyle\": {\"opacity\": 1}\n",
      "              },\n",
      "\n",
      "{ \"source\": \"Altipiani Cimbri\", \"target\": \"Germania\", \"value\":0, \"weights\":4\n",
      "                 ,\"lineStyle\": {\"opacity\": 1}\n",
      "              },\n",
      "\n",
      "{ \"source\": \"Altipiani Cimbri\", \"target\": \"Italia\", \"value\":0, \"weights\":2\n",
      "                 ,\"lineStyle\": {\"opacity\": 1}\n",
      "              },\n",
      "\n",
      "{ \"source\": \"Val di Fassa\", \"target\": \"America\", \"value\":0, \"weights\":2\n",
      "                 ,\"lineStyle\": {\"opacity\": 1}\n",
      "              },\n",
      "\n",
      "{ \"source\": \"Val di Fassa\", \"target\": \"Austria\", \"value\":0, \"weights\":5\n",
      "                 ,\"lineStyle\": {\"opacity\": 1}\n",
      "              },\n",
      "\n",
      "{ \"source\": \"Val di Fassa\", \"target\": \"Austria-Ungheria\", \"value\":0, \"weights\":6\n",
      "                 ,\"lineStyle\": {\"opacity\": 1}\n",
      "              },\n",
      "\n",
      "{ \"source\": \"Val di Fassa\", \"target\": \"Europa\", \"value\":0, \"weights\":5\n",
      "                 ,\"lineStyle\": {\"opacity\": 1}\n",
      "              },\n",
      "\n",
      "{ \"source\": \"Val di Fassa\", \"target\": \"Francia\", \"value\":0, \"weights\":1\n",
      "                 ,\"lineStyle\": {\"opacity\": 1}\n",
      "              },\n",
      "\n",
      "{ \"source\": \"Val di Fassa\", \"target\": \"Germania\", \"value\":0, \"weights\":3\n",
      "                 ,\"lineStyle\": {\"opacity\": 1}\n",
      "              },\n",
      "\n",
      "{ \"source\": \"Val di Fassa\", \"target\": \"Italia\", \"value\":0, \"weights\":1\n",
      "                 ,\"lineStyle\": {\"opacity\": 1}\n",
      "              },\n",
      "\n",
      "{ \"source\": \"Val di Fassa\", \"target\": \"Ungheria\", \"value\":0, \"weights\":1\n",
      "                 ,\"lineStyle\": {\"opacity\": 1}\n",
      "              },\n",
      "\n",
      "{ \"source\": \"Alto Garda e Ledro\", \"target\": \"America\", \"value\":0, \"weights\":2\n",
      "                 ,\"lineStyle\": {\"opacity\": 1}\n",
      "              },\n",
      "\n",
      "{ \"source\": \"Alto Garda e Ledro\", \"target\": \"Austria\", \"value\":0, \"weights\":8\n",
      "                 ,\"lineStyle\": {\"opacity\": 1}\n",
      "              },\n",
      "\n",
      "{ \"source\": \"Alto Garda e Ledro\", \"target\": \"Austria-Ungheria\", \"value\":0, \"weights\":4\n",
      "                 ,\"lineStyle\": {\"opacity\": 1}\n",
      "              },\n",
      "\n",
      "{ \"source\": \"Alto Garda e Ledro\", \"target\": \"Europa\", \"value\":0, \"weights\":6\n",
      "                 ,\"lineStyle\": {\"opacity\": 1}\n",
      "              },\n",
      "\n",
      "{ \"source\": \"Alto Garda e Ledro\", \"target\": \"Francia\", \"value\":0, \"weights\":4\n",
      "                 ,\"lineStyle\": {\"opacity\": 1}\n",
      "              },\n",
      "\n",
      "{ \"source\": \"Alto Garda e Ledro\", \"target\": \"Germania\", \"value\":0, \"weights\":3\n",
      "                 ,\"lineStyle\": {\"opacity\": 1}\n",
      "              },\n",
      "\n",
      "{ \"source\": \"Alto Garda e Ledro\", \"target\": \"Italia\", \"value\":0, \"weights\":8\n",
      "                 ,\"lineStyle\": {\"opacity\": 1}\n",
      "              },\n",
      "\n",
      "{ \"source\": \"Alto Garda e Ledro\", \"target\": \"Svizzera\", \"value\":0, \"weights\":1\n",
      "                 ,\"lineStyle\": {\"opacity\": 1}\n",
      "              },\n",
      "\n",
      "{ \"source\": \"Alto Garda e Ledro\", \"target\": \"Ungheria\", \"value\":0, \"weights\":6\n",
      "                 ,\"lineStyle\": {\"opacity\": 1}\n",
      "              },\n",
      "\n",
      "{ \"source\": \"Vallagarina\", \"target\": \"America\", \"value\":0, \"weights\":2\n",
      "                 ,\"lineStyle\": {\"opacity\": 1}\n",
      "              },\n",
      "\n",
      "{ \"source\": \"Vallagarina\", \"target\": \"Austria\", \"value\":0, \"weights\":3\n",
      "                 ,\"lineStyle\": {\"opacity\": 1}\n",
      "              },\n",
      "\n",
      "{ \"source\": \"Vallagarina\", \"target\": \"Austria-Ungheria\", \"value\":0, \"weights\":12\n",
      "                 ,\"lineStyle\": {\"opacity\": 1}\n",
      "              },\n",
      "\n",
      "{ \"source\": \"Vallagarina\", \"target\": \"Europa\", \"value\":0, \"weights\":4\n",
      "                 ,\"lineStyle\": {\"opacity\": 1}\n",
      "              },\n",
      "\n",
      "{ \"source\": \"Vallagarina\", \"target\": \"Francia\", \"value\":0, \"weights\":4\n",
      "                 ,\"lineStyle\": {\"opacity\": 1}\n",
      "              },\n",
      "\n",
      "{ \"source\": \"Vallagarina\", \"target\": \"Germania\", \"value\":0, \"weights\":3\n",
      "                 ,\"lineStyle\": {\"opacity\": 1}\n",
      "              },\n",
      "\n",
      "{ \"source\": \"Vallagarina\", \"target\": \"Italia\", \"value\":0, \"weights\":13\n",
      "                 ,\"lineStyle\": {\"opacity\": 1}\n",
      "              },\n",
      "\n",
      "{ \"source\": \"Vallagarina\", \"target\": \"Svizzera\", \"value\":0, \"weights\":5\n",
      "                 ,\"lineStyle\": {\"opacity\": 1}\n",
      "              },\n",
      "\n",
      "{ \"source\": \"Vallagarina\", \"target\": \"Ungheria\", \"value\":0, \"weights\":1\n",
      "                 ,\"lineStyle\": {\"opacity\": 1}\n",
      "              },\n",
      "\n",
      "{ \"source\": \"Valle di Cembra\", \"target\": \"America\", \"value\":0, \"weights\":7\n",
      "                 ,\"lineStyle\": {\"opacity\": 1}\n",
      "              },\n",
      "\n",
      "{ \"source\": \"Valle di Cembra\", \"target\": \"Austria\", \"value\":0, \"weights\":5\n",
      "                 ,\"lineStyle\": {\"opacity\": 1}\n",
      "              },\n",
      "\n",
      "{ \"source\": \"Valle di Cembra\", \"target\": \"Austria-Ungheria\", \"value\":0, \"weights\":6\n",
      "                 ,\"lineStyle\": {\"opacity\": 1}\n",
      "              },\n",
      "\n",
      "{ \"source\": \"Valle di Cembra\", \"target\": \"Europa\", \"value\":0, \"weights\":13\n",
      "                 ,\"lineStyle\": {\"opacity\": 1}\n",
      "              },\n",
      "\n",
      "{ \"source\": \"Valle di Cembra\", \"target\": \"Francia\", \"value\":0, \"weights\":1\n",
      "                 ,\"lineStyle\": {\"opacity\": 1}\n",
      "              },\n",
      "\n",
      "{ \"source\": \"Valle di Cembra\", \"target\": \"Germania\", \"value\":0, \"weights\":5\n",
      "                 ,\"lineStyle\": {\"opacity\": 1}\n",
      "              },\n",
      "\n",
      "{ \"source\": \"Valle di Cembra\", \"target\": \"Ungheria\", \"value\":0, \"weights\":1\n",
      "                 ,\"lineStyle\": {\"opacity\": 1}\n",
      "              },\n",
      "\n",
      "{ \"source\": \"Val di Sole\", \"target\": \"America\", \"value\":0, \"weights\":1\n",
      "                 ,\"lineStyle\": {\"opacity\": 1}\n",
      "              },\n",
      "\n",
      "{ \"source\": \"Val di Sole\", \"target\": \"Asia\", \"value\":0, \"weights\":1\n",
      "                 ,\"lineStyle\": {\"opacity\": 1}\n",
      "              },\n",
      "\n",
      "{ \"source\": \"Val di Sole\", \"target\": \"Austria\", \"value\":0, \"weights\":6\n",
      "                 ,\"lineStyle\": {\"opacity\": 1}\n",
      "              },\n",
      "\n",
      "{ \"source\": \"Val di Sole\", \"target\": \"Austria-Ungheria\", \"value\":0, \"weights\":13\n",
      "                 ,\"lineStyle\": {\"opacity\": 1}\n",
      "              },\n",
      "\n",
      "{ \"source\": \"Val di Sole\", \"target\": \"Europa\", \"value\":0, \"weights\":6\n",
      "                 ,\"lineStyle\": {\"opacity\": 1}\n",
      "              },\n",
      "\n",
      "{ \"source\": \"Val di Sole\", \"target\": \"Germania\", \"value\":0, \"weights\":8\n",
      "                 ,\"lineStyle\": {\"opacity\": 1}\n",
      "              },\n",
      "\n",
      "{ \"source\": \"Val di Sole\", \"target\": \"Italia\", \"value\":0, \"weights\":8\n",
      "                 ,\"lineStyle\": {\"opacity\": 1}\n",
      "              },\n",
      "\n",
      "{ \"source\": \"Val di Sole\", \"target\": \"Svizzera\", \"value\":0, \"weights\":4\n",
      "                 ,\"lineStyle\": {\"opacity\": 1}\n",
      "              },\n",
      "\n",
      "{ \"source\": \"Val di Sole\", \"target\": \"Ungheria\", \"value\":0, \"weights\":5\n",
      "                 ,\"lineStyle\": {\"opacity\": 1}\n",
      "              },\n",
      "\n",
      "{ \"source\": \"Primiero\", \"target\": \"Austria\", \"value\":0, \"weights\":1\n",
      "                 ,\"lineStyle\": {\"opacity\": 1}\n",
      "              },\n",
      "\n",
      "{ \"source\": \"Primiero\", \"target\": \"Austria-Ungheria\", \"value\":0, \"weights\":17\n",
      "                 ,\"lineStyle\": {\"opacity\": 1}\n",
      "              },\n",
      "\n",
      "{ \"source\": \"Primiero\", \"target\": \"Europa\", \"value\":0, \"weights\":3\n",
      "                 ,\"lineStyle\": {\"opacity\": 1}\n",
      "              },\n",
      "\n",
      "{ \"source\": \"Primiero\", \"target\": \"Germania\", \"value\":0, \"weights\":2\n",
      "                 ,\"lineStyle\": {\"opacity\": 1}\n",
      "              },\n",
      "\n",
      "{ \"source\": \"Primiero\", \"target\": \"Italia\", \"value\":0, \"weights\":2\n",
      "                 ,\"lineStyle\": {\"opacity\": 1}\n",
      "              },\n",
      "\n",
      "{ \"source\": \"Primiero\", \"target\": \"Svizzera\", \"value\":0, \"weights\":1\n",
      "                 ,\"lineStyle\": {\"opacity\": 1}\n",
      "              },\n",
      "\n",
      "{ \"source\": \"Valsugana e Tesino\", \"target\": \"America\", \"value\":0, \"weights\":6\n",
      "                 ,\"lineStyle\": {\"opacity\": 1}\n",
      "              },\n",
      "\n",
      "{ \"source\": \"Valsugana e Tesino\", \"target\": \"Austria\", \"value\":0, \"weights\":11\n",
      "                 ,\"lineStyle\": {\"opacity\": 1}\n",
      "              },\n",
      "\n",
      "{ \"source\": \"Valsugana e Tesino\", \"target\": \"Austria-Ungheria\", \"value\":0, \"weights\":29\n",
      "                 ,\"lineStyle\": {\"opacity\": 1}\n",
      "              },\n",
      "\n",
      "{ \"source\": \"Valsugana e Tesino\", \"target\": \"Europa\", \"value\":0, \"weights\":9\n",
      "                 ,\"lineStyle\": {\"opacity\": 1}\n",
      "              },\n",
      "\n",
      "{ \"source\": \"Valsugana e Tesino\", \"target\": \"Esteri d'Europa\", \"value\":0, \"weights\":3\n",
      "                 ,\"lineStyle\": {\"opacity\": 1}\n",
      "              },\n",
      "\n",
      "{ \"source\": \"Valsugana e Tesino\", \"target\": \"Francia\", \"value\":0, \"weights\":4\n",
      "                 ,\"lineStyle\": {\"opacity\": 1}\n",
      "              },\n",
      "\n",
      "{ \"source\": \"Valsugana e Tesino\", \"target\": \"Germania\", \"value\":0, \"weights\":21\n",
      "                 ,\"lineStyle\": {\"opacity\": 1}\n",
      "              },\n",
      "\n",
      "{ \"source\": \"Valsugana e Tesino\", \"target\": \"Italia\", \"value\":0, \"weights\":20\n",
      "                 ,\"lineStyle\": {\"opacity\": 1}\n",
      "              },\n",
      "\n",
      "{ \"source\": \"Valsugana e Tesino\", \"target\": \"Svizzera\", \"value\":0, \"weights\":6\n",
      "                 ,\"lineStyle\": {\"opacity\": 1}\n",
      "              },\n",
      "\n",
      "{ \"source\": \"Valsugana e Tesino\", \"target\": \"Ungheria\", \"value\":0, \"weights\":3\n",
      "                 ,\"lineStyle\": {\"opacity\": 1}\n",
      "              },\n",
      "\n",
      "{ \"source\": \"Altopiano della Paganella\", \"target\": \"America\", \"value\":0, \"weights\":22\n",
      "                 ,\"lineStyle\": {\"opacity\": 1}\n",
      "              },\n",
      "\n",
      "{ \"source\": \"Altopiano della Paganella\", \"target\": \"Austria\", \"value\":0, \"weights\":81\n",
      "                 ,\"lineStyle\": {\"opacity\": 1}\n",
      "              },\n",
      "\n",
      "{ \"source\": \"Altopiano della Paganella\", \"target\": \"Austria-Ungheria\", \"value\":0, \"weights\":117\n",
      "                 ,\"lineStyle\": {\"opacity\": 1}\n",
      "              },\n",
      "\n",
      "{ \"source\": \"Altopiano della Paganella\", \"target\": \"Bosnia-Erzegovina\", \"value\":0, \"weights\":1\n",
      "                 ,\"lineStyle\": {\"opacity\": 1}\n",
      "              },\n",
      "\n",
      "{ \"source\": \"Altopiano della Paganella\", \"target\": \"Europa\", \"value\":0, \"weights\":129\n",
      "                 ,\"lineStyle\": {\"opacity\": 1}\n",
      "              },\n",
      "\n",
      "{ \"source\": \"Altopiano della Paganella\", \"target\": \"Esteri d'Europa\", \"value\":0, \"weights\":8\n",
      "                 ,\"lineStyle\": {\"opacity\": 1}\n",
      "              },\n",
      "\n",
      "{ \"source\": \"Altopiano della Paganella\", \"target\": \"Francia\", \"value\":0, \"weights\":13\n",
      "                 ,\"lineStyle\": {\"opacity\": 1}\n",
      "              },\n",
      "\n",
      "{ \"source\": \"Altopiano della Paganella\", \"target\": \"Germania\", \"value\":0, \"weights\":69\n",
      "                 ,\"lineStyle\": {\"opacity\": 1}\n",
      "              },\n",
      "\n",
      "{ \"source\": \"Altopiano della Paganella\", \"target\": \"Italia\", \"value\":0, \"weights\":87\n",
      "                 ,\"lineStyle\": {\"opacity\": 1}\n",
      "              },\n",
      "\n",
      "{ \"source\": \"Altopiano della Paganella\", \"target\": \"Svizzera\", \"value\":0, \"weights\":16\n",
      "                 ,\"lineStyle\": {\"opacity\": 1}\n",
      "              },\n",
      "\n",
      "{ \"source\": \"Altopiano della Paganella\", \"target\": \"Ungheria\", \"value\":0, \"weights\":13\n",
      "                 ,\"lineStyle\": {\"opacity\": 1}\n",
      "              },\n",
      "\n",
      "{ \"source\": \"Piana Rotaliana\", \"target\": \"Africa\", \"value\":0, \"weights\":1\n",
      "                 ,\"lineStyle\": {\"opacity\": 1}\n",
      "              },\n",
      "\n",
      "{ \"source\": \"Piana Rotaliana\", \"target\": \"America\", \"value\":0, \"weights\":36\n",
      "                 ,\"lineStyle\": {\"opacity\": 1}\n",
      "              },\n",
      "\n",
      "{ \"source\": \"Piana Rotaliana\", \"target\": \"Asia\", \"value\":0, \"weights\":1\n",
      "                 ,\"lineStyle\": {\"opacity\": 1}\n",
      "              },\n",
      "\n",
      "{ \"source\": \"Piana Rotaliana\", \"target\": \"Austria\", \"value\":0, \"weights\":84\n",
      "                 ,\"lineStyle\": {\"opacity\": 1}\n",
      "              },\n",
      "\n",
      "{ \"source\": \"Piana Rotaliana\", \"target\": \"Austria-Ungheria\", \"value\":0, \"weights\":161\n",
      "                 ,\"lineStyle\": {\"opacity\": 1}\n",
      "              },\n",
      "\n",
      "{ \"source\": \"Piana Rotaliana\", \"target\": \"Bosnia-Erzegovina\", \"value\":0, \"weights\":6\n",
      "                 ,\"lineStyle\": {\"opacity\": 1}\n",
      "              },\n",
      "\n",
      "{ \"source\": \"Piana Rotaliana\", \"target\": \"Europa\", \"value\":0, \"weights\":182\n",
      "                 ,\"lineStyle\": {\"opacity\": 1}\n",
      "              },\n",
      "\n",
      "{ \"source\": \"Piana Rotaliana\", \"target\": \"Esteri d'Europa\", \"value\":0, \"weights\":8\n",
      "                 ,\"lineStyle\": {\"opacity\": 1}\n",
      "              },\n",
      "\n",
      "{ \"source\": \"Piana Rotaliana\", \"target\": \"Francia\", \"value\":0, \"weights\":34\n",
      "                 ,\"lineStyle\": {\"opacity\": 1}\n",
      "              },\n",
      "\n",
      "{ \"source\": \"Piana Rotaliana\", \"target\": \"Germania\", \"value\":0, \"weights\":113\n",
      "                 ,\"lineStyle\": {\"opacity\": 1}\n",
      "              },\n",
      "\n",
      "{ \"source\": \"Piana Rotaliana\", \"target\": \"Italia\", \"value\":0, \"weights\":52\n",
      "                 ,\"lineStyle\": {\"opacity\": 1}\n",
      "              },\n",
      "\n",
      "{ \"source\": \"Piana Rotaliana\", \"target\": \"Svizzera\", \"value\":0, \"weights\":53\n",
      "                 ,\"lineStyle\": {\"opacity\": 1}\n",
      "              },\n",
      "\n",
      "{ \"source\": \"Piana Rotaliana\", \"target\": \"Ungheria\", \"value\":0, \"weights\":21\n",
      "                 ,\"lineStyle\": {\"opacity\": 1}\n",
      "              },\n",
      "\n",
      "{ \"source\": \"Valle dei Laghi\", \"target\": \"Africa\", \"value\":0, \"weights\":2\n",
      "                 ,\"lineStyle\": {\"opacity\": 1}\n",
      "              },\n",
      "\n",
      "{ \"source\": \"Valle dei Laghi\", \"target\": \"America\", \"value\":0, \"weights\":79\n",
      "                 ,\"lineStyle\": {\"opacity\": 1}\n",
      "              },\n",
      "\n",
      "{ \"source\": \"Valle dei Laghi\", \"target\": \"Asia\", \"value\":0, \"weights\":1\n",
      "                 ,\"lineStyle\": {\"opacity\": 1}\n",
      "              },\n",
      "\n",
      "{ \"source\": \"Valle dei Laghi\", \"target\": \"Austria\", \"value\":0, \"weights\":215\n",
      "                 ,\"lineStyle\": {\"opacity\": 1}\n",
      "              },\n",
      "\n",
      "{ \"source\": \"Valle dei Laghi\", \"target\": \"Austria-Ungheria\", \"value\":0, \"weights\":302\n",
      "                 ,\"lineStyle\": {\"opacity\": 1}\n",
      "              },\n",
      "\n",
      "{ \"source\": \"Valle dei Laghi\", \"target\": \"Bosnia-Erzegovina\", \"value\":0, \"weights\":6\n",
      "                 ,\"lineStyle\": {\"opacity\": 1}\n",
      "              },\n",
      "\n",
      "{ \"source\": \"Valle dei Laghi\", \"target\": \"Europa\", \"value\":0, \"weights\":330\n",
      "                 ,\"lineStyle\": {\"opacity\": 1}\n",
      "              },\n",
      "\n",
      "{ \"source\": \"Valle dei Laghi\", \"target\": \"Esteri d'Europa\", \"value\":0, \"weights\":21\n",
      "                 ,\"lineStyle\": {\"opacity\": 1}\n",
      "              },\n",
      "\n",
      "{ \"source\": \"Valle dei Laghi\", \"target\": \"Francia\", \"value\":0, \"weights\":98\n",
      "                 ,\"lineStyle\": {\"opacity\": 1}\n",
      "              },\n",
      "\n",
      "{ \"source\": \"Valle dei Laghi\", \"target\": \"Germania\", \"value\":0, \"weights\":237\n",
      "                 ,\"lineStyle\": {\"opacity\": 1}\n",
      "              },\n",
      "\n",
      "{ \"source\": \"Valle dei Laghi\", \"target\": \"Italia\", \"value\":0, \"weights\":200\n",
      "                 ,\"lineStyle\": {\"opacity\": 1}\n",
      "              },\n",
      "\n",
      "{ \"source\": \"Valle dei Laghi\", \"target\": \"Svizzera\", \"value\":0, \"weights\":94\n",
      "                 ,\"lineStyle\": {\"opacity\": 1}\n",
      "              },\n",
      "\n",
      "{ \"source\": \"Valle dei Laghi\", \"target\": \"Turchia\", \"value\":0, \"weights\":2\n",
      "                 ,\"lineStyle\": {\"opacity\": 1}\n",
      "              },\n",
      "\n",
      "{ \"source\": \"Valle dei Laghi\", \"target\": \"Ungheria\", \"value\":0, \"weights\":68\n",
      "                 ,\"lineStyle\": {\"opacity\": 1}\n",
      "              },\n",
      "\n",
      "{ \"source\": \"Val di Non\", \"target\": \"America\", \"value\":0, \"weights\":80\n",
      "                 ,\"lineStyle\": {\"opacity\": 1}\n",
      "              },\n",
      "\n",
      "{ \"source\": \"Val di Non\", \"target\": \"Austria\", \"value\":0, \"weights\":253\n",
      "                 ,\"lineStyle\": {\"opacity\": 1}\n",
      "              },\n",
      "\n",
      "{ \"source\": \"Val di Non\", \"target\": \"Austria-Ungheria\", \"value\":0, \"weights\":357\n",
      "                 ,\"lineStyle\": {\"opacity\": 1}\n",
      "              },\n",
      "\n",
      "{ \"source\": \"Val di Non\", \"target\": \"Bosnia-Erzegovina\", \"value\":0, \"weights\":2\n",
      "                 ,\"lineStyle\": {\"opacity\": 1}\n",
      "              },\n",
      "\n",
      "{ \"source\": \"Val di Non\", \"target\": \"Europa\", \"value\":0, \"weights\":418\n",
      "                 ,\"lineStyle\": {\"opacity\": 1}\n",
      "              },\n",
      "\n",
      "{ \"source\": \"Val di Non\", \"target\": \"Esteri d'Europa\", \"value\":0, \"weights\":29\n",
      "                 ,\"lineStyle\": {\"opacity\": 1}\n",
      "              },\n",
      "\n",
      "{ \"source\": \"Val di Non\", \"target\": \"Francia\", \"value\":0, \"weights\":56\n",
      "                 ,\"lineStyle\": {\"opacity\": 1}\n",
      "              },\n",
      "\n",
      "{ \"source\": \"Val di Non\", \"target\": \"Germania\", \"value\":0, \"weights\":253\n",
      "                 ,\"lineStyle\": {\"opacity\": 1}\n",
      "              },\n",
      "\n",
      "{ \"source\": \"Val di Non\", \"target\": \"Italia\", \"value\":0, \"weights\":222\n",
      "                 ,\"lineStyle\": {\"opacity\": 1}\n",
      "              },\n",
      "\n",
      "{ \"source\": \"Val di Non\", \"target\": \"Svizzera\", \"value\":0, \"weights\":70\n",
      "                 ,\"lineStyle\": {\"opacity\": 1}\n",
      "              },\n",
      "\n",
      "{ \"source\": \"Val di Non\", \"target\": \"Turchia\", \"value\":0, \"weights\":2\n",
      "                 ,\"lineStyle\": {\"opacity\": 1}\n",
      "              },\n",
      "\n",
      "{ \"source\": \"Val di Non\", \"target\": \"Ungheria\", \"value\":0, \"weights\":56\n",
      "                 ,\"lineStyle\": {\"opacity\": 1}\n",
      "              },\n",
      "\n",
      "{ \"source\": \"Val di Cembra\", \"target\": \"America\", \"value\":0, \"weights\":104\n",
      "                 ,\"lineStyle\": {\"opacity\": 1}\n",
      "              },\n",
      "\n",
      "{ \"source\": \"Val di Cembra\", \"target\": \"Austria\", \"value\":0, \"weights\":386\n",
      "                 ,\"lineStyle\": {\"opacity\": 1}\n",
      "              },\n",
      "\n",
      "{ \"source\": \"Val di Cembra\", \"target\": \"Austria-Ungheria\", \"value\":0, \"weights\":587\n",
      "                 ,\"lineStyle\": {\"opacity\": 1}\n",
      "              },\n",
      "\n",
      "{ \"source\": \"Val di Cembra\", \"target\": \"Bosnia-Erzegovina\", \"value\":0, \"weights\":10\n",
      "                 ,\"lineStyle\": {\"opacity\": 1}\n",
      "              },\n",
      "\n",
      "{ \"source\": \"Val di Cembra\", \"target\": \"Europa\", \"value\":0, \"weights\":579\n",
      "                 ,\"lineStyle\": {\"opacity\": 1}\n",
      "              },\n",
      "\n",
      "{ \"source\": \"Val di Cembra\", \"target\": \"Esteri d'Europa\", \"value\":0, \"weights\":28\n",
      "                 ,\"lineStyle\": {\"opacity\": 1}\n",
      "              },\n",
      "\n",
      "{ \"source\": \"Val di Cembra\", \"target\": \"Francia\", \"value\":0, \"weights\":173\n",
      "                 ,\"lineStyle\": {\"opacity\": 1}\n",
      "              },\n",
      "\n",
      "{ \"source\": \"Val di Cembra\", \"target\": \"Germania\", \"value\":0, \"weights\":582\n",
      "                 ,\"lineStyle\": {\"opacity\": 1}\n",
      "              },\n",
      "\n",
      "{ \"source\": \"Val di Cembra\", \"target\": \"Italia\", \"value\":0, \"weights\":147\n",
      "                 ,\"lineStyle\": {\"opacity\": 1}\n",
      "              },\n",
      "\n",
      "{ \"source\": \"Val di Cembra\", \"target\": \"Svizzera\", \"value\":0, \"weights\":185\n",
      "                 ,\"lineStyle\": {\"opacity\": 1}\n",
      "              },\n",
      "\n",
      "{ \"source\": \"Val di Cembra\", \"target\": \"Turchia\", \"value\":0, \"weights\":3\n",
      "                 ,\"lineStyle\": {\"opacity\": 1}\n",
      "              },\n",
      "\n",
      "{ \"source\": \"Val di Cembra\", \"target\": \"Ungheria\", \"value\":0, \"weights\":100\n",
      "                 ,\"lineStyle\": {\"opacity\": 1}\n",
      "              },\n",
      "\n",
      "{ \"source\": \"Valle delĺ'Adige\", \"target\": \"Africa\", \"value\":0, \"weights\":4\n",
      "                 ,\"lineStyle\": {\"opacity\": 1}\n",
      "              },\n",
      "\n",
      "{ \"source\": \"Valle delĺ'Adige\", \"target\": \"America\", \"value\":0, \"weights\":218\n",
      "                 ,\"lineStyle\": {\"opacity\": 1}\n",
      "              },\n",
      "\n",
      "{ \"source\": \"Valle delĺ'Adige\", \"target\": \"Asia\", \"value\":0, \"weights\":7\n",
      "                 ,\"lineStyle\": {\"opacity\": 1}\n",
      "              },\n",
      "\n",
      "{ \"source\": \"Valle delĺ'Adige\", \"target\": \"Austria\", \"value\":0, \"weights\":393\n",
      "                 ,\"lineStyle\": {\"opacity\": 1}\n",
      "              },\n",
      "\n",
      "{ \"source\": \"Valle delĺ'Adige\", \"target\": \"Austria-Ungheria\", \"value\":0, \"weights\":1208\n",
      "                 ,\"lineStyle\": {\"opacity\": 1}\n",
      "              },\n",
      "\n",
      "{ \"source\": \"Valle delĺ'Adige\", \"target\": \"Bosnia-Erzegovina\", \"value\":0, \"weights\":77\n",
      "                 ,\"lineStyle\": {\"opacity\": 1}\n",
      "              },\n",
      "\n",
      "{ \"source\": \"Valle delĺ'Adige\", \"target\": \"Europa\", \"value\":0, \"weights\":690\n",
      "                 ,\"lineStyle\": {\"opacity\": 1}\n",
      "              },\n",
      "\n",
      "{ \"source\": \"Valle delĺ'Adige\", \"target\": \"Esteri d'Europa\", \"value\":0, \"weights\":105\n",
      "                 ,\"lineStyle\": {\"opacity\": 1}\n",
      "              },\n",
      "\n",
      "{ \"source\": \"Valle delĺ'Adige\", \"target\": \"Francia\", \"value\":0, \"weights\":140\n",
      "                 ,\"lineStyle\": {\"opacity\": 1}\n",
      "              },\n",
      "\n",
      "{ \"source\": \"Valle delĺ'Adige\", \"target\": \"Germania\", \"value\":0, \"weights\":627\n",
      "                 ,\"lineStyle\": {\"opacity\": 1}\n",
      "              },\n",
      "\n",
      "{ \"source\": \"Valle delĺ'Adige\", \"target\": \"Italia\", \"value\":0, \"weights\":572\n",
      "                 ,\"lineStyle\": {\"opacity\": 1}\n",
      "              },\n",
      "\n",
      "{ \"source\": \"Valle delĺ'Adige\", \"target\": \"Svizzera\", \"value\":0, \"weights\":239\n",
      "                 ,\"lineStyle\": {\"opacity\": 1}\n",
      "              },\n",
      "\n",
      "{ \"source\": \"Valle delĺ'Adige\", \"target\": \"Turchia\", \"value\":0, \"weights\":1\n",
      "                 ,\"lineStyle\": {\"opacity\": 1}\n",
      "              },\n",
      "\n",
      "{ \"source\": \"Valle delĺ'Adige\", \"target\": \"Ungheria\", \"value\":0, \"weights\":67\n",
      "                 ,\"lineStyle\": {\"opacity\": 1}\n",
      "              },\n",
      "\n",
      "{ \"source\": \"Alta Valsugana e Bersntol\", \"target\": \"Africa\", \"value\":0, \"weights\":3\n",
      "                 ,\"lineStyle\": {\"opacity\": 1}\n",
      "              },\n",
      "\n",
      "{ \"source\": \"Alta Valsugana e Bersntol\", \"target\": \"America\", \"value\":0, \"weights\":150\n",
      "                 ,\"lineStyle\": {\"opacity\": 1}\n",
      "              },\n",
      "\n",
      "{ \"source\": \"Alta Valsugana e Bersntol\", \"target\": \"Asia\", \"value\":0, \"weights\":3\n",
      "                 ,\"lineStyle\": {\"opacity\": 1}\n",
      "              },\n",
      "\n",
      "{ \"source\": \"Alta Valsugana e Bersntol\", \"target\": \"Austria\", \"value\":0, \"weights\":593\n",
      "                 ,\"lineStyle\": {\"opacity\": 1}\n",
      "              },\n",
      "\n",
      "{ \"source\": \"Alta Valsugana e Bersntol\", \"target\": \"Austria-Ungheria\", \"value\":0, \"weights\":978\n",
      "                 ,\"lineStyle\": {\"opacity\": 1}\n",
      "              },\n",
      "\n",
      "{ \"source\": \"Alta Valsugana e Bersntol\", \"target\": \"Bosnia-Erzegovina\", \"value\":0, \"weights\":7\n",
      "                 ,\"lineStyle\": {\"opacity\": 1}\n",
      "              },\n",
      "\n",
      "{ \"source\": \"Alta Valsugana e Bersntol\", \"target\": \"Europa\", \"value\":0, \"weights\":984\n",
      "                 ,\"lineStyle\": {\"opacity\": 1}\n",
      "              },\n",
      "\n",
      "{ \"source\": \"Alta Valsugana e Bersntol\", \"target\": \"Esteri d'Europa\", \"value\":0, \"weights\":40\n",
      "                 ,\"lineStyle\": {\"opacity\": 1}\n",
      "              },\n",
      "\n",
      "{ \"source\": \"Alta Valsugana e Bersntol\", \"target\": \"Francia\", \"value\":0, \"weights\":146\n",
      "                 ,\"lineStyle\": {\"opacity\": 1}\n",
      "              },\n",
      "\n",
      "{ \"source\": \"Alta Valsugana e Bersntol\", \"target\": \"Germania\", \"value\":0, \"weights\":947\n",
      "                 ,\"lineStyle\": {\"opacity\": 1}\n",
      "              },\n",
      "\n",
      "{ \"source\": \"Alta Valsugana e Bersntol\", \"target\": \"Italia\", \"value\":0, \"weights\":199\n",
      "                 ,\"lineStyle\": {\"opacity\": 1}\n",
      "              },\n",
      "\n",
      "{ \"source\": \"Alta Valsugana e Bersntol\", \"target\": \"Svizzera\", \"value\":0, \"weights\":234\n",
      "                 ,\"lineStyle\": {\"opacity\": 1}\n",
      "              },\n",
      "\n",
      "{ \"source\": \"Alta Valsugana e Bersntol\", \"target\": \"Turchia\", \"value\":0, \"weights\":7\n",
      "                 ,\"lineStyle\": {\"opacity\": 1}\n",
      "              },\n",
      "\n",
      "{ \"source\": \"Alta Valsugana e Bersntol\", \"target\": \"Ungheria\", \"value\":0, \"weights\":111\n",
      "                 ,\"lineStyle\": {\"opacity\": 1}\n",
      "              },\n",
      "\n"
     ]
    }
   ],
   "source": [
    "for idx, row in edges_df.iterrows():\n",
    "    if row.weight > 0:\n",
    "       #print('{ \"source\": \"%s\", \"target\": \"%s\" },\\n' %\n",
    "       #     (row.source, row.target))\n",
    "        print('''{ \"source\": \"%s\", \"target\": \"%s\", \"value\":%s, \"weights\":%s\n",
    "                 ,\"lineStyle\": {\"opacity\": 1}\n",
    "              },\\n''' % (row.source, row.target, 0, row.weight))\n"
   ]
  },
  {
   "cell_type": "code",
   "execution_count": 153,
   "metadata": {},
   "outputs": [],
   "source": [
    "migrazione_extra_europa = 0\n",
    "migrazione_europa = 0\n",
    "migrazione_interna = 0\n"
   ]
  },
  {
   "cell_type": "markdown",
   "metadata": {},
   "source": [
    "espatrio\tmigrazione\n",
    "Africa\textra europa\n",
    "America\textra europa\n",
    "Asia\textra europa\n",
    "Austria\tinterna\n",
    "Austria-Ungheria\tinterna\n",
    "Bosnia-Erzegovina\tinterna\n",
    "Esteri d'Europa\teuropa\n",
    "Europa\teuropa\n",
    "Francia\teuropa\n",
    "Germania\teuropa\n",
    "Italia\teuropa\n",
    "Svizzera\teuropa\n",
    "Turchia\textra europa\n",
    "Ungheria\tinterna"
   ]
  },
  {
   "cell_type": "code",
   "execution_count": 154,
   "metadata": {},
   "outputs": [],
   "source": [
    "interna = [\"Austria-Ungheria\",\"Austria\",\"Ungheria\",\"Bosnia-Erzegovina\"]\n",
    "europa = [\"Italia\", \"Europa\", \"Francia\", \"Svizzera\",\"Germania\"]\n",
    "extra_europa = [\"Africa\",\"America\",\"Asia\"]"
   ]
  },
  {
   "cell_type": "code",
   "execution_count": 155,
   "metadata": {},
   "outputs": [
    {
     "data": {
      "text/plain": [
       "6756"
      ]
     },
     "execution_count": 155,
     "metadata": {},
     "output_type": "execute_result"
    }
   ],
   "source": [
    "nodes_df[nodes_df.name.isin(interna)].value.sum()"
   ]
  },
  {
   "cell_type": "code",
   "execution_count": 156,
   "metadata": {},
   "outputs": [
    {
     "data": {
      "text/plain": [
       "9895"
      ]
     },
     "execution_count": 156,
     "metadata": {},
     "output_type": "execute_result"
    }
   ],
   "source": [
    "nodes_df[nodes_df.name.isin(europa)].value.sum()\n"
   ]
  },
  {
   "cell_type": "code",
   "execution_count": 157,
   "metadata": {},
   "outputs": [
    {
     "data": {
      "text/plain": [
       "798"
      ]
     },
     "execution_count": 157,
     "metadata": {},
     "output_type": "execute_result"
    }
   ],
   "source": [
    "nodes_df[nodes_df.name.isin(extra_europa)].value.sum()\n"
   ]
  }
 ],
 "metadata": {
  "kernelspec": {
   "display_name": "Python 3.10.4 64-bit",
   "language": "python",
   "name": "python3"
  },
  "language_info": {
   "codemirror_mode": {
    "name": "ipython",
    "version": 3
   },
   "file_extension": ".py",
   "mimetype": "text/x-python",
   "name": "python",
   "nbconvert_exporter": "python",
   "pygments_lexer": "ipython3",
   "version": "3.10.4"
  },
  "orig_nbformat": 4,
  "vscode": {
   "interpreter": {
    "hash": "31f2aee4e71d21fbe5cf8b01ff0e069b9275f58929596ceb00d14d90e3e16cd6"
   }
  }
 },
 "nbformat": 4,
 "nbformat_minor": 2
}
